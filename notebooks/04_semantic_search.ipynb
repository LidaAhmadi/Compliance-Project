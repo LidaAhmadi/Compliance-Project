{
 "cells": [
  {
   "cell_type": "markdown",
   "id": "caaff6c9-7fa2-488b-aacf-5c1d34d92d84",
   "metadata": {},
   "source": [
    "## Semantic Search with SBERT and FAISS\n",
    "\n",
    "This stage enables semantic search over court rulings by converting text into embeddings using SBERT and indexing them with FAISS. The goal is to retrieve rulings based on meaning — not just keyword matches. For example, a query like *“default judgment in breach of contract”* should return relevant results even if they use different legal language.\n",
    "\n",
    "---\n",
    "\n",
    "### Why Not Keyword Search?\n",
    "\n",
    "Legal text is inconsistent in structure and phrasing. Keyword search often misses important rulings simply because different words are used to describe the same idea. Embedding-based search solves this by comparing meaning, not surface-level word overlap.\n",
    "\n",
    "---\n",
    "\n",
    "### Why I Chose SBERT\n",
    "\n",
    "I used Sentence-BERT (SBERT) to generate embeddings because it’s designed for semantic similarity tasks.\n",
    "\n",
    "- It’s tuned specifically for comparing sentences using cosine similarity.\n",
    "- It performs well on short- and medium-length texts, like legal rulings, without needing fine-tuning or labeled training data.\n",
    "- I chose the `all-MiniLM-L6-v2` variant, which is lightweight and fast — ideal for prototyping.\n",
    "\n",
    "This allowed me to create high-quality, reusable embeddings with minimal setup and no infrastructure overhead.\n",
    "\n",
    "---\n",
    "\n",
    "### Why I Didn't Use Other Embedding Methods\n",
    "\n",
    "I considered traditional and modern alternatives but ruled them out based on project needs:\n",
    "\n",
    "- Vanilla BERT’s `[CLS]` token isn’t reliable for measuring sentence similarity.\n",
    "- TF-IDF and bag-of-words methods don’t capture context or semantics — they only compare surface words.\n",
    "- Doc2Vec is outdated and less predictable in modern workflows.\n",
    "- OpenAI or LLM-based embeddings offer great quality but require API access, introduce cost, and aren’t reproducible offline.\n",
    "- Custom fine-tuning wasn’t needed — SBERT was strong enough for the task.\n",
    "\n",
    "---\n",
    "\n",
    "### Why I Chose FAISS\n",
    "\n",
    "Once the embeddings were generated, I used FAISS (Facebook AI Similarity Search) to build a local index for fast retrieval.\n",
    "\n",
    "- It handles thousands of vectors efficiently and works well even without approximation.\n",
    "- It runs entirely offline — no cloud services or extra setup.\n",
    "- It integrates naturally with SBERT, especially when using cosine similarity.\n",
    "- I used `IndexFlatIP` with normalized embeddings to get exact top-k results using cosine-based search.\n",
    "\n",
    "This setup gave me full control, speed, and transparency — ideal for a lightweight prototype.\n",
    "\n",
    "---\n",
    "\n",
    "### Why I Didn't Use Other Indexing Tools\n",
    "\n",
    "I looked at other vector search tools but decided they weren’t the right fit:\n",
    "\n",
    "- Annoy is simple but slower and doesn’t natively support cosine similarity.\n",
    "- HNSWlib has great performance but comes with extra memory usage and complexity I didn’t need.\n",
    "- ScaNN is optimized for very large datasets, which adds setup overhead without clear benefit here.\n",
    "- Cloud-based solutions like Pinecone or Qdrant are powerful, but too heavy for a local, reproducible project.\n",
    "\n",
    "---\n",
    "\n",
    "### Summary\n",
    "\n",
    "SBERT and FAISS work well together to enable fast, accurate, and explainable semantic search — all without relying on cloud infrastructure or fine-tuning. This combination keeps the system lightweight, interpretable, and easy to adapt for real-world legal and compliance review workflows.\n"
   ]
  },
  {
   "cell_type": "markdown",
   "id": "af99179b-043a-416c-8a0a-24efd83be5e2",
   "metadata": {},
   "source": [
    "## Step 1: Import Libraries and Load Clean Texts"
   ]
  },
  {
   "cell_type": "code",
   "execution_count": 1,
   "id": "7ed10662-2eb1-42ee-bf8f-6b8fda7a093e",
   "metadata": {
    "tags": []
   },
   "outputs": [],
   "source": [
    "import pandas as pd\n",
    "from sentence_transformers import SentenceTransformer\n",
    "import faiss\n",
    "import numpy as np"
   ]
  },
  {
   "cell_type": "code",
   "execution_count": 5,
   "id": "815ce027-2a9c-4f70-8c02-0dbfbd666c92",
   "metadata": {
    "tags": []
   },
   "outputs": [
    {
     "name": "stdout",
     "output_type": "stream",
     "text": [
      "Loaded 74 rulings.\n"
     ]
    }
   ],
   "source": [
    "import os\n",
    "\n",
    "#os.getcwd()\n",
    "\n",
    "# Folder location\n",
    "folder_path = \"data/clean\"\n",
    "\n",
    "texts = []\n",
    "file_names = []\n",
    "\n",
    "for file_name in sorted(os.listdir(folder_path)):\n",
    "    if file_name.endswith(\".txt\"):\n",
    "        with open(os.path.join(folder_path, file_name), 'r', encoding='utf-8') as f:\n",
    "            texts.append(f.read())\n",
    "            file_names.append(file_name)\n",
    "\n",
    "print(f\"Loaded {len(texts)} rulings.\")"
   ]
  },
  {
   "cell_type": "markdown",
   "id": "c88103d9-71cf-4446-acca-6f9e5394d8e7",
   "metadata": {},
   "source": [
    "## Step 2: Generate SBERT Embeddings"
   ]
  },
  {
   "cell_type": "code",
   "execution_count": 6,
   "id": "d316c647-6274-4f5c-84de-e97c2959d325",
   "metadata": {
    "tags": []
   },
   "outputs": [
    {
     "data": {
      "application/vnd.jupyter.widget-view+json": {
       "model_id": "629db878ac9f49a89551655d81752179",
       "version_major": 2,
       "version_minor": 0
      },
      "text/plain": [
       "Batches:   0%|          | 0/3 [00:00<?, ?it/s]"
      ]
     },
     "metadata": {},
     "output_type": "display_data"
    }
   ],
   "source": [
    "from sentence_transformers import SentenceTransformer\n",
    "\n",
    "model = SentenceTransformer('all-MiniLM-L6-v2')\n",
    "\n",
    "embeddings = model.encode(\n",
    "    texts,\n",
    "    show_progress_bar=True,\n",
    "    normalize_embeddings=True  # Required for cosine similarity\n",
    ")\n"
   ]
  },
  {
   "cell_type": "markdown",
   "id": "19695b35-a475-4f55-b5d0-8c13877e2fd9",
   "metadata": {},
   "source": [
    "## Step 3: Build the FAISS Index"
   ]
  },
  {
   "cell_type": "code",
   "execution_count": 7,
   "id": "b7de7530-507b-46b7-8497-32559e5d56b7",
   "metadata": {
    "tags": []
   },
   "outputs": [
    {
     "name": "stdout",
     "output_type": "stream",
     "text": [
      "Indexed 74 documents.\n"
     ]
    }
   ],
   "source": [
    "import faiss\n",
    "import numpy as np\n",
    "\n",
    "dimension = embeddings.shape[1]  # Should be 384\n",
    "index = faiss.IndexFlatIP(dimension)  # Inner Product index (cosine-compatible with normalized vectors)\n",
    "\n",
    "index.add(np.array(embeddings))\n",
    "print(f\"Indexed {index.ntotal} documents.\")"
   ]
  },
  {
   "cell_type": "markdown",
   "id": "3644292c-3525-4162-9bab-97d6c4695f45",
   "metadata": {},
   "source": [
    "## Step 4: Implement the Search Function"
   ]
  },
  {
   "cell_type": "code",
   "execution_count": 19,
   "id": "89072fb0-04d9-4d40-82a0-6077ff2def0f",
   "metadata": {
    "tags": []
   },
   "outputs": [],
   "source": [
    "def search(query, top_k):\n",
    "    query_embedding = model.encode([query], normalize_embeddings=True)\n",
    "    scores, indices = index.search(np.array(query_embedding), top_k)\n",
    "\n",
    "    results = []\n",
    "    for idx, score in zip(indices[0], scores[0]):\n",
    "        results.append({\n",
    "            \"score\": round(float(score), 4),\n",
    "            \"file\": file_names[idx],\n",
    "            \"text\": texts[idx][:500] + \"...\"  # Short preview\n",
    "        })\n",
    "\n",
    "    return pd.DataFrame(results)"
   ]
  },
  {
   "cell_type": "markdown",
   "id": "84b60ce1-c8c4-4bac-8484-7cb9f86be60f",
   "metadata": {},
   "source": [
    "## Step 5: Run a Test Query"
   ]
  },
  {
   "cell_type": "code",
   "execution_count": 26,
   "id": "9864eea9-8402-4e69-b4a8-3228df75215c",
   "metadata": {
    "tags": []
   },
   "outputs": [
    {
     "data": {
      "text/html": [
       "<div>\n",
       "<style scoped>\n",
       "    .dataframe tbody tr th:only-of-type {\n",
       "        vertical-align: middle;\n",
       "    }\n",
       "\n",
       "    .dataframe tbody tr th {\n",
       "        vertical-align: top;\n",
       "    }\n",
       "\n",
       "    .dataframe thead th {\n",
       "        text-align: right;\n",
       "    }\n",
       "</style>\n",
       "<table border=\"1\" class=\"dataframe\">\n",
       "  <thead>\n",
       "    <tr style=\"text-align: right;\">\n",
       "      <th></th>\n",
       "      <th>score</th>\n",
       "      <th>file</th>\n",
       "      <th>text</th>\n",
       "    </tr>\n",
       "  </thead>\n",
       "  <tbody>\n",
       "    <tr>\n",
       "      <th>0</th>\n",
       "      <td>0.4728</td>\n",
       "      <td>clean_opinion_34.txt</td>\n",
       "      <td>green v forster &amp;amp; garbus, llp (2025 ny slip op 02324)\\ngreen v forster &amp;amp; garbus, llp\\n2025 ny slip op 02324\\ndecided on april 23, 2025\\nappellate division, second department\\npublished by new york state law reporting bureau pursuant to judiciary law § 431.\\nthis opinion is uncorrected and subject to revision before publication in the official reports.\\ndecided on april 23, 2025\\nsupreme court of the state of new york\\nappellate division, second judicial department\\ncheryl e. chambers, j.p.\\npaul wo...</td>\n",
       "    </tr>\n",
       "    <tr>\n",
       "      <th>1</th>\n",
       "      <td>0.4611</td>\n",
       "      <td>clean_opinion_1.txt</td>\n",
       "      <td>pantanilla v yuson (2025 ny slip op 02597)\\npantanilla v yuson\\n2025 ny slip op 02597\\ndecided on april 30, 2025\\nappellate division, second department\\npublished by new york state law reporting bureau pursuant to judiciary law § 431.\\nthis opinion is uncorrected and subject to revision before publication in the official reports.\\ndecided on april 30, 2025\\nsupreme court of the state of new york\\nappellate division, second judicial department\\nmark c. dillon, j.p.\\nrobert j. miller\\nhelen voutsinas\\nlourdes ...</td>\n",
       "    </tr>\n",
       "    <tr>\n",
       "      <th>2</th>\n",
       "      <td>0.4004</td>\n",
       "      <td>clean_opinion_51.txt</td>\n",
       "      <td>us bank n.a. v pane (2025 ny slip op 02619)\\nus bank n.a. v pane\\n2025 ny slip op 02619\\ndecided on april 30, 2025\\nappellate division, second department\\npublished by new york state law reporting bureau pursuant to judiciary law § 431.\\nthis opinion is uncorrected and subject to revision before publication in the official reports.\\ndecided on april 30, 2025\\nsupreme court of the state of new york\\nappellate division, second judicial department\\nangela g. iannacci, j.p.\\npaul wooten\\nbarry e. warhit\\ncarl j....</td>\n",
       "    </tr>\n",
       "    <tr>\n",
       "      <th>3</th>\n",
       "      <td>0.3840</td>\n",
       "      <td>clean_opinion_22.txt</td>\n",
       "      <td>fg&amp;amp;n trust v 165 hous. corp. (2025 ny slip op 02129)\\nfg&amp;amp;n trust v 165 hous. corp.\\n2025 ny slip op 02129\\ndecided on april 10, 2025\\nappellate division, first department\\npublished by new york state law reporting bureau pursuant to judiciary law § 431.\\nthis opinion is uncorrected and subject to revision before publication in the official reports.\\ndecided and entered: april 10, 2025\\nbefore: kern, j.p., kennedy, gesmer, pitt-burke, o'neill levy, jj. \\nindex no. 158976/23|appeal no. 4093|case no...</td>\n",
       "    </tr>\n",
       "    <tr>\n",
       "      <th>4</th>\n",
       "      <td>0.3791</td>\n",
       "      <td>clean_opinion_21.txt</td>\n",
       "      <td>rauch v rauch (2025 ny slip op 02802)\\nrauch v rauch\\n2025 ny slip op 02802\\ndecided on may 7, 2025\\nappellate division, second department\\npublished by new york state law reporting bureau pursuant to judiciary law § 431.\\nthis opinion is uncorrected and subject to revision before publication in the official reports.\\ndecided on may 7, 2025\\nsupreme court of the state of new york\\nappellate division, second judicial department\\nangela g. iannacci, j.p.\\nwilliam g. ford\\nhelen voutsinas\\njames p. mccormack, j...</td>\n",
       "    </tr>\n",
       "  </tbody>\n",
       "</table>\n",
       "</div>"
      ],
      "text/plain": [
       "    score                  file  \\\n",
       "0  0.4728  clean_opinion_34.txt   \n",
       "1  0.4611   clean_opinion_1.txt   \n",
       "2  0.4004  clean_opinion_51.txt   \n",
       "3  0.3840  clean_opinion_22.txt   \n",
       "4  0.3791  clean_opinion_21.txt   \n",
       "\n",
       "                                                                                                                                                                                                                                                                                                                                                                                                                                                                                                                                   text  \n",
       "0    green v forster &amp; garbus, llp (2025 ny slip op 02324)\\ngreen v forster &amp; garbus, llp\\n2025 ny slip op 02324\\ndecided on april 23, 2025\\nappellate division, second department\\npublished by new york state law reporting bureau pursuant to judiciary law § 431.\\nthis opinion is uncorrected and subject to revision before publication in the official reports.\\ndecided on april 23, 2025\\nsupreme court of the state of new york\\nappellate division, second judicial department\\ncheryl e. chambers, j.p.\\npaul wo...  \n",
       "1  pantanilla v yuson (2025 ny slip op 02597)\\npantanilla v yuson\\n2025 ny slip op 02597\\ndecided on april 30, 2025\\nappellate division, second department\\npublished by new york state law reporting bureau pursuant to judiciary law § 431.\\nthis opinion is uncorrected and subject to revision before publication in the official reports.\\ndecided on april 30, 2025\\nsupreme court of the state of new york\\nappellate division, second judicial department\\nmark c. dillon, j.p.\\nrobert j. miller\\nhelen voutsinas\\nlourdes ...  \n",
       "2  us bank n.a. v pane (2025 ny slip op 02619)\\nus bank n.a. v pane\\n2025 ny slip op 02619\\ndecided on april 30, 2025\\nappellate division, second department\\npublished by new york state law reporting bureau pursuant to judiciary law § 431.\\nthis opinion is uncorrected and subject to revision before publication in the official reports.\\ndecided on april 30, 2025\\nsupreme court of the state of new york\\nappellate division, second judicial department\\nangela g. iannacci, j.p.\\npaul wooten\\nbarry e. warhit\\ncarl j....  \n",
       "3      fg&amp;n trust v 165 hous. corp. (2025 ny slip op 02129)\\nfg&amp;n trust v 165 hous. corp.\\n2025 ny slip op 02129\\ndecided on april 10, 2025\\nappellate division, first department\\npublished by new york state law reporting bureau pursuant to judiciary law § 431.\\nthis opinion is uncorrected and subject to revision before publication in the official reports.\\ndecided and entered: april 10, 2025\\nbefore: kern, j.p., kennedy, gesmer, pitt-burke, o'neill levy, jj. \\nindex no. 158976/23|appeal no. 4093|case no...  \n",
       "4  rauch v rauch (2025 ny slip op 02802)\\nrauch v rauch\\n2025 ny slip op 02802\\ndecided on may 7, 2025\\nappellate division, second department\\npublished by new york state law reporting bureau pursuant to judiciary law § 431.\\nthis opinion is uncorrected and subject to revision before publication in the official reports.\\ndecided on may 7, 2025\\nsupreme court of the state of new york\\nappellate division, second judicial department\\nangela g. iannacci, j.p.\\nwilliam g. ford\\nhelen voutsinas\\njames p. mccormack, j...  "
      ]
     },
     "execution_count": 26,
     "metadata": {},
     "output_type": "execute_result"
    }
   ],
   "source": [
    "# Show full column width and long strings\n",
    "pd.set_option('display.max_colwidth', None)\n",
    "\n",
    "results = search(\"default judgment in breach of contract\", 5)\n",
    "results"
   ]
  }
 ],
 "metadata": {
  "kernelspec": {
   "display_name": "Python (Compliance Project)",
   "language": "python",
   "name": "compliance_env"
  },
  "language_info": {
   "codemirror_mode": {
    "name": "ipython",
    "version": 3
   },
   "file_extension": ".py",
   "mimetype": "text/x-python",
   "name": "python",
   "nbconvert_exporter": "python",
   "pygments_lexer": "ipython3",
   "version": "3.10.18"
  }
 },
 "nbformat": 4,
 "nbformat_minor": 5
}
