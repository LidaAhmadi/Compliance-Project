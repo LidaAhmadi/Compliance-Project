{
 "cells": [
  {
   "cell_type": "markdown",
   "id": "7f2cdb02-e749-4f23-9b9c-179bc6ec4a29",
   "metadata": {},
   "source": [
    "## 1. Load Cleaned Rulings\n",
    "\n",
    "This notebook loads the pre-cleaned legal rulings from `data/clean/` to build TF-IDF embeddings for similarity-based retrieval.\n"
   ]
  },
  {
   "cell_type": "code",
   "execution_count": 1,
   "id": "80301ce3-8c1f-4f6e-8a43-d6aa1e1cda9e",
   "metadata": {
    "tags": []
   },
   "outputs": [
    {
     "name": "stdout",
     "output_type": "stream",
     "text": [
      "Loaded 74 cleaned rulings.\n"
     ]
    }
   ],
   "source": [
    "import os\n",
    "\n",
    "# Load cleaned ruling texts\n",
    "clean_dir = os.path.join(\"data\", \"clean\")\n",
    "filepaths = [os.path.join(clean_dir, f) for f in os.listdir(clean_dir) if f.endswith(\".txt\")]\n",
    "\n",
    "documents = []\n",
    "for filepath in filepaths:\n",
    "    with open(filepath, \"r\", encoding=\"utf-8\") as file:\n",
    "        documents.append(file.read().strip())\n",
    "\n",
    "print(f\"Loaded {len(documents)} cleaned rulings.\")"
   ]
  },
  {
   "cell_type": "markdown",
   "id": "5f60cb85-238b-4e18-a59e-32b23f1ee4f7",
   "metadata": {},
   "source": [
    "## 2. Build TF-IDF Embeddings\n",
    "\n",
    "This step converts each ruling into a numerical vector using TF-IDF,  \n",
    "capturing the importance of terms relative to the collection of documents.\n"
   ]
  },
  {
   "cell_type": "code",
   "execution_count": 2,
   "id": "d8abfcd5-d988-4e1c-b571-90300acb7cbc",
   "metadata": {
    "tags": []
   },
   "outputs": [
    {
     "name": "stdout",
     "output_type": "stream",
     "text": [
      "TF-IDF matrix shape: (74, 5545)\n"
     ]
    }
   ],
   "source": [
    "from sklearn.feature_extraction.text import TfidfVectorizer\n",
    "\n",
    "# Initialize TF-IDF Vectorizer\n",
    "vectorizer = TfidfVectorizer(stop_words=\"english\")\n",
    "\n",
    "# Fit and transform the documents\n",
    "tfidf_matrix = vectorizer.fit_transform(documents)\n",
    "\n",
    "print(f\"TF-IDF matrix shape: {tfidf_matrix.shape}\")"
   ]
  },
  {
   "cell_type": "markdown",
   "id": "d79ccff0-7e09-477b-ba55-6e4839c5a2d6",
   "metadata": {},
   "source": [
    "## 3. Search Interface: Find Similar Rulings\n",
    "\n",
    "Enter a query, convert it to TF-IDF, compute cosine similarity,  \n",
    "and display the most relevant rulings.\n"
   ]
  },
  {
   "cell_type": "code",
   "execution_count": 7,
   "id": "32e738c2-eb73-4067-9058-318de43c036e",
   "metadata": {
    "tags": []
   },
   "outputs": [
    {
     "name": "stdout",
     "output_type": "stream",
     "text": [
      "\n",
      "--- Result 1 | Score: 0.06 ---\n",
      "\n",
      "Matter of Hoovler v Vazquez-Doles (2025 NY Slip Op 02204)\n",
      "\n",
      "\n",
      "\n",
      "\n",
      "\n",
      "Matter of Hoovler v Vazquez-Doles\n",
      "\n",
      "\n",
      "2025 NY Slip Op 02204\n",
      "\n",
      "\n",
      "Decided on April 16, 2025\n",
      "\n",
      "\n",
      "Appellate Division, Second Department\n",
      "\n",
      "\n",
      "\n",
      "Published by New York State Law Reporting Bureau pursuant to Judiciary Law § 431.\n",
      "\n",
      "\n",
      "This opinion is uncorrected and subject to revision before publication in the Official Reports.\n",
      "\n",
      "\n",
      "\n",
      "Decided on April 16, 2025\n",
      "SUPREME COURT OF THE STATE OF NEW YORK\n",
      "Appellate Division, Second Judicial Department\n",
      "\n",
      "MARK C. DILL\n",
      "\n",
      "--- End Result ---\n",
      "\n",
      "\n",
      "--- Result 2 | Score: 0.05 ---\n",
      "\n",
      "People v Palm (2025 NY Slip Op 02799)\n",
      "\n",
      "\n",
      "\n",
      "\n",
      "\n",
      "People v Palm\n",
      "\n",
      "\n",
      "2025 NY Slip Op 02799\n",
      "\n",
      "\n",
      "Decided on May 7, 2025\n",
      "\n",
      "\n",
      "Appellate Division, Second Department\n",
      "\n",
      "\n",
      "\n",
      "Published by New York State Law Reporting Bureau pursuant to Judiciary Law § 431.\n",
      "\n",
      "\n",
      "This opinion is uncorrected and subject to revision before publication in the Official Reports.\n",
      "\n",
      "\n",
      "\n",
      "Decided on May 7, 2025\n",
      "SUPREME COURT OF THE STATE OF NEW YORK\n",
      "Appellate Division, Second Judicial Department\n",
      "\n",
      "FRANCESCA E. CONNOLLY, J.P.\n",
      "ROBERT J. MILLER\n",
      "LOURDES M. VE\n",
      "\n",
      "--- End Result ---\n",
      "\n",
      "\n",
      "--- Result 3 | Score: 0.05 ---\n",
      "\n",
      "People v Palm (2025 NY Slip Op 02799)\n",
      "\n",
      "\n",
      "\n",
      "\n",
      "\n",
      "People v Palm\n",
      "\n",
      "\n",
      "2025 NY Slip Op 02799\n",
      "\n",
      "\n",
      "Decided on May 7, 2025\n",
      "\n",
      "\n",
      "Appellate Division, Second Department\n",
      "\n",
      "\n",
      "\n",
      "Published by New York State Law Reporting Bureau pursuant to Judiciary Law § 431.\n",
      "\n",
      "\n",
      "This opinion is uncorrected and subject to revision before publication in the Official Reports.\n",
      "\n",
      "\n",
      "\n",
      "Decided on May 7, 2025\n",
      "SUPREME COURT OF THE STATE OF NEW YORK\n",
      "Appellate Division, Second Judicial Department\n",
      "\n",
      "FRANCESCA E. CONNOLLY, J.P.\n",
      "ROBERT J. MILLER\n",
      "LOURDES M. VE\n",
      "\n",
      "--- End Result ---\n",
      "\n"
     ]
    }
   ],
   "source": [
    "from sklearn.metrics.pairwise import cosine_similarity\n",
    "\n",
    "def search(query, top_n=5):\n",
    "    query_vec = vectorizer.transform([query])\n",
    "    similarities = cosine_similarity(query_vec, tfidf_matrix).flatten()\n",
    "    ranked_indices = similarities.argsort()[::-1][:top_n]\n",
    "    \n",
    "    results = []\n",
    "    for idx in ranked_indices:\n",
    "        results.append((idx, similarities[idx], documents[idx]))\n",
    "    \n",
    "    return results\n",
    "\n",
    "# Example query\n",
    "query = \"criminal tax fraud conviction in New York\"\n",
    "results = search(query, top_n=3)\n",
    "\n",
    "# Show results\n",
    "for i, (idx, score, doc) in enumerate(results):\n",
    "    print(f\"\\n--- Result {i+1} | Score: {score:.2f} ---\\n\")\n",
    "    print(doc[:500])\n",
    "    print(\"\\n--- End Result ---\\n\")\n"
   ]
  },
  {
   "cell_type": "code",
   "execution_count": null,
   "id": "b492391f-99e5-46b4-8999-59192ab5639c",
   "metadata": {},
   "outputs": [],
   "source": []
  }
 ],
 "metadata": {
  "kernelspec": {
   "display_name": "Python 3 (ipykernel)",
   "language": "python",
   "name": "python3"
  },
  "language_info": {
   "codemirror_mode": {
    "name": "ipython",
    "version": 3
   },
   "file_extension": ".py",
   "mimetype": "text/x-python",
   "name": "python",
   "nbconvert_exporter": "python",
   "pygments_lexer": "ipython3",
   "version": "3.11.3"
  }
 },
 "nbformat": 4,
 "nbformat_minor": 5
}
