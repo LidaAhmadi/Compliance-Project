{
 "cells": [
  {
   "cell_type": "markdown",
   "id": "d4c62182-5d4b-438c-974d-7bbce42f87e0",
   "metadata": {
    "tags": []
   },
   "source": [
    "## 1. Load and Inspect Ruling Files\n",
    "\n",
    "This notebook loads the saved legal rulings from `data/raw/` into memory and previews their content.\n",
    "\n",
    "### Goal:\n",
    "- Verify structure and content quality\n",
    "- Clean and prepare for embedding"
   ]
  },
  {
   "cell_type": "code",
   "execution_count": 13,
   "id": "1ed8fba0-083d-4c75-a810-5ea16447fbe9",
   "metadata": {
    "tags": []
   },
   "outputs": [
    {
     "name": "stdout",
     "output_type": "stream",
     "text": [
      "Loaded 74 rulings into memory.\n"
     ]
    }
   ],
   "source": [
    "import sys  # Provides access to system-specific functions and paths\n",
    "import os  # Provides functions for interacting with the file system\n",
    "\n",
    "# Add the parent directory to the module search path\n",
    "# This allows importing config.py if it's located one level up\n",
    "sys.path.append(os.path.abspath(\"..\"))\n",
    "\n",
    "# Import the path to the data directory from the config module\n",
    "from config import DATA_DIR\n",
    "\n",
    "# Collect paths to all .txt files in the data directory\n",
    "filepaths = [os.path.join(DATA_DIR, f) for f in os.listdir(DATA_DIR) if f.endswith(\".txt\")]\n",
    "documents = []\n",
    "\n",
    "# Read and store the contents of each text file\n",
    "for filepath in filepaths:\n",
    "    with open(filepath, \"r\", encoding=\"utf-8\") as file:\n",
    "        text = file.read().strip()\n",
    "        documents.append(text)\n",
    "\n",
    "# Print the total number of rulings loaded into memory\n",
    "print(f\"Loaded {len(documents)} rulings into memory.\")"
   ]
  },
  {
   "cell_type": "markdown",
   "id": "b4c85b99-c4c6-40d0-b75a-2f3f9a584d90",
   "metadata": {
    "tags": []
   },
   "source": [
    "### Preview Sample Rulings\n",
    "\n",
    "We now print the start of a few rulings to manually inspect structure, quality, and potential cleaning needs.\n"
   ]
  },
  {
   "cell_type": "code",
   "execution_count": 14,
   "id": "523c5355-e06a-47e8-a96f-5ef69ea4add2",
   "metadata": {
    "tags": []
   },
   "outputs": [
    {
     "name": "stdout",
     "output_type": "stream",
     "text": [
      "\n",
      " Ruling 1 Preview ------------------------------------------------------------------------------\n",
      "\n",
      "<div>\n",
      "\n",
      "People v Palm (<span class=\"citation\" data-id=\"11022071\"><a href=\"/opinion/10555483/people-v-palm/\" aria-description=\"Citation for case: People v. Palm\">2025 NY Slip Op 02799</a></span>)\n",
      "\n",
      "\n",
      "\n",
      "<table width=\"80%\" border=\"1\" cellspacing=\"2\" cellpadding=\"5\" align=\"center\">\n",
      "<tr>\n",
      "<td align=\"center\"><b>People v Palm</b></td>\n",
      "</tr>\n",
      "<tr>\n",
      "<td align=\"center\"><span class=\"citation\" data-id=\"11022071\"><a href=\"/opinion/10555483/people-v-palm/\" aria-description=\"Citation for case: People v. Palm\">2025 NY\n",
      "\n",
      " End of Ruling 1 Preview -----------------------------------------------------------------------\n",
      "\n",
      "\n",
      " Ruling 2 Preview ------------------------------------------------------------------------------\n",
      "\n",
      "<div>\n",
      "\n",
      "Pantanilla v Yuson (<span class=\"citation\" data-id=\"10889300\"><a href=\"/opinion/10422712/pantanilla-v-yuson/\" aria-description=\"Citation for case: Pantanilla v. Yuson\">2025 NY Slip Op 02597</a></span>)\n",
      "\n",
      "\n",
      "\n",
      "<table width=\"80%\" border=\"1\" cellspacing=\"2\" cellpadding=\"5\" align=\"center\">\n",
      "<tr>\n",
      "<td align=\"center\"><b>Pantanilla v Yuson</b></td>\n",
      "</tr>\n",
      "<tr>\n",
      "<td align=\"center\"><span class=\"citation\" data-id=\"10889300\"><a href=\"/opinion/10422712/pantanilla-v-yuson/\" aria-description=\"Citation for case\n",
      "\n",
      " End of Ruling 2 Preview -----------------------------------------------------------------------\n",
      "\n",
      "\n",
      " Ruling 3 Preview ------------------------------------------------------------------------------\n",
      "\n",
      "<div>\n",
      "\n",
      "Franklin Carroll, LLC v Carroll Dev. Plaza, LLC (<span class=\"citation\" data-id=\"11022112\"><a href=\"/opinion/10555524/franklin-carroll-llc-v-carroll-dev-plaza-llc/\" aria-description=\"Citation for case: Franklin Carroll, LLC v. Carroll Dev. Plaza, LLC\">2025 NY Slip Op 02759</a></span>)\n",
      "\n",
      "\n",
      "\n",
      "<table width=\"80%\" border=\"1\" cellspacing=\"2\" cellpadding=\"5\" align=\"center\">\n",
      "<tr>\n",
      "<td align=\"center\"><b>Franklin Carroll, LLC v Carroll Dev. Plaza, LLC</b></td>\n",
      "</tr>\n",
      "<tr>\n",
      "<td align=\"center\"><span class=\n",
      "\n",
      " End of Ruling 3 Preview -----------------------------------------------------------------------\n",
      "\n"
     ]
    }
   ],
   "source": [
    "# Preview the first few rulings to check content structure\n",
    "for i, doc in enumerate(documents[:3]):\n",
    "    print(f\"\\n Ruling {i+1} Preview ------------------------------------------------------------------------------\\n\")\n",
    "    print(doc[:500])  # Print the first 500 characters\n",
    "    print(f\"\\n End of Ruling {i+1} Preview -----------------------------------------------------------------------\\n\")"
   ]
  },
  {
   "cell_type": "markdown",
   "id": "7925ad98-982e-4325-bf5e-a9f331282e88",
   "metadata": {
    "tags": []
   },
   "source": [
    "## 2. Clean Rulings (Light Cleaning for Semantic Use)\n",
    "This section lightly cleans the ruling text for semantic search and readability.\n",
    "- HTML tags are stripped\n",
    "- Whitespace is normalized but **newlines are preserved** for document structure\n",
    "- Unicode is standardized\n",
    "\n",
    "**Note:** We avoid over-cleaning in early stages — keep sentence boundaries for LLMs."
   ]
  },
  {
   "cell_type": "code",
   "execution_count": 15,
   "id": "07a1efb2-2e4d-4804-958a-efff1d60fb5f",
   "metadata": {
    "tags": []
   },
   "outputs": [],
   "source": [
    "import re\n",
    "\n",
    "def clean_ruling_text(text):\n",
    "    \"\"\"Clean and normalize ruling text for semantic tasks.\"\"\"\n",
    "    \n",
    "    # 1. Remove HTML tags\n",
    "    text = re.sub(r'<.*?>', '', text)\n",
    "        \n",
    "    # 2. Replace multiple newlines with a double newline (for paragraph breaks)\n",
    "    text = re.sub(r'\\n\\s*\\n+', '\\n', text)\n",
    "    \n",
    "    # 3. Normalize spaces and tabs (but not newlines)\n",
    "    text = re.sub(r'[ \\t]+', ' ', text)\n",
    "    \n",
    "    # 4. Strip extra space at beginning/end\n",
    "    return text.strip()\n",
    "\n",
    "# Apply combined cleaning to all documents\n",
    "cleaned_documents = [clean_ruling_text(doc) for doc in documents]"
   ]
  },
  {
   "cell_type": "markdown",
   "id": "7b655e5a-d99f-4524-9de3-804eeba486b4",
   "metadata": {
    "tags": []
   },
   "source": [
    "### Preview Cleaned Ruling"
   ]
  },
  {
   "cell_type": "code",
   "execution_count": 17,
   "id": "4b9a6bf3-e837-4ee4-980c-a1ea1dbc5d7e",
   "metadata": {
    "tags": []
   },
   "outputs": [],
   "source": [
    "#print(cleaned_documents[0])"
   ]
  },
  {
   "cell_type": "code",
   "execution_count": 9,
   "id": "e2a6cc6e-e340-4d9a-afba-73a89d5cac2a",
   "metadata": {
    "tags": []
   },
   "outputs": [
    {
     "name": "stdout",
     "output_type": "stream",
     "text": [
      "\n",
      " Cleaned Ruling 1 Preview ---------------------------------------------------------\n",
      "\n",
      "People v Palm (2025 NY Slip Op 02799)\n",
      "People v Palm\n",
      "2025 NY Slip Op 02799\n",
      "Decided on May 7, 2025\n",
      "Appellate Division, Second Department\n",
      "Published by New York State Law Reporting Bureau pursuant to Judiciary Law § 431.\n",
      "This opinion is uncorrected and subject to revision before publication in the Official Reports.\n",
      "Decided on May 7, 2025\n",
      "SUPREME COURT OF THE STATE OF NEW YORK\n",
      "Appellate Division, Second Judicial Department\n",
      "FRANCESCA E. CONNOLLY, J.P.\n",
      "ROBERT J. MILLER\n",
      "LOURDES M. VENTURA\n",
      "JAMES P. MCCORMACK, JJ.\n",
      "2023-05297\n",
      " (Ind. No. 70575/22)\n",
      "[*1]The People of the State of New York, respondent,\n",
      "vNicholas Palm, appellant.\n",
      "Mark Diamond, Pound Ridge, NY, for appellant.\n",
      "David M. Hoovler, District Attorney, Goshen, NY (Edward D. Saslaw of counsel), for respondent.\n",
      "DECISION &amp; ORDER\n",
      "Appeal by the defendant from a judgment of the County Court, Orange County (Craig S. Brown, J.), rendered May 16, 2023, convicting him of criminal possession of a weapon in the second degree, upon a jury verdict, and imposing sentence. The appeal brings up for review the denial, after a hearing, of those branches of the defendant's omnibus motion which were to suppress physical evidence and his statements to law enforcement officials.\n",
      "ORDERED that the judgment is affirmed.\n",
      "The defendant was arrested after a stop and frisk resulting in the recovery of a firearm. After a hearing, the County Court denied those branches of the defendant's omnibus motion which were to suppress the physical evidence recovered, in\n",
      "\n",
      " End Ruling 1 Preview -------------------------------------------------------------\n",
      "\n",
      "\n",
      " Cleaned Ruling 2 Preview ---------------------------------------------------------\n",
      "\n",
      "Pantanilla v Yuson (2025 NY Slip Op 02597)\n",
      "Pantanilla v Yuson\n",
      "2025 NY Slip Op 02597\n",
      "Decided on April 30, 2025\n",
      "Appellate Division, Second Department\n",
      "Published by New York State Law Reporting Bureau pursuant to Judiciary Law § 431.\n",
      "This opinion is uncorrected and subject to revision before publication in the Official Reports.\n",
      "Decided on April 30, 2025\n",
      "SUPREME COURT OF THE STATE OF NEW YORK\n",
      "Appellate Division, Second Judicial Department\n",
      "MARK C. DILLON, J.P.\n",
      "ROBERT J. MILLER\n",
      "HELEN VOUTSINAS\n",
      "LOURDES M. VENTURA, JJ.\n",
      "2023-04248\n",
      " (Index No. 615229/21)\n",
      "[*1]Maria Airene Pantanilla, respondent, \n",
      "vGuillerma Yuson, appellant.\n",
      "David De Andrade, New York, NY, for appellant.\n",
      "Mordente Law Firm LLC, Fresh Meadows, NY (Anthony R. Mordente of counsel), for respondent.\n",
      "DECISION &amp; ORDER\n",
      "In an action, in effect, to recover damages for money had and received and unjust enrichment, the defendant appeals from a judgment of the Supreme Court, Nassau County (Dawn Jimenez, J.), dated March 17, 2023. The judgment, upon an order of the same court entered March 15, 2023, granting the plaintiff's motion for leave to enter a default judgment, is in favor of the plaintiff and against the defendant in the principal sum of $40,000.\n",
      "ORDERED that the judgment is affirmed, with costs.\n",
      "On December 2, 2021, the plaintiff commenced this action against the defendant, alleging that the plaintiff and the defendant reached an agreement pursuant to which the plaintiff would purchase the defendant's grocery store and re\n",
      "\n",
      " End Ruling 2 Preview -------------------------------------------------------------\n",
      "\n",
      "\n",
      " Cleaned Ruling 3 Preview ---------------------------------------------------------\n",
      "\n",
      "Franklin Carroll, LLC v Carroll Dev. Plaza, LLC (2025 NY Slip Op 02759)\n",
      "Franklin Carroll, LLC v Carroll Dev. Plaza, LLC\n",
      "2025 NY Slip Op 02759\n",
      "Decided on May 7, 2025\n",
      "Appellate Division, Second Department\n",
      "Published by New York State Law Reporting Bureau pursuant to Judiciary Law § 431.\n",
      "This opinion is uncorrected and subject to revision before publication in the Official Reports.\n",
      "Decided on May 7, 2025\n",
      "SUPREME COURT OF THE STATE OF NEW YORK\n",
      "Appellate Division, Second Judicial Department\n",
      "ANGELA G. IANNACCI, J.P.\n",
      "LINDA CHRISTOPHER\n",
      "BARRY E. WARHIT\n",
      "DONNA-MARIE E. GOLIA, JJ.\n",
      "2024-03137\n",
      " (Index No. 502435/24)\n",
      "[*1]Franklin Carroll, LLC, appellant, \n",
      "vCarroll Development Plaza, LLC, respondent.\n",
      "Butler, Fitzgerald &amp; Fiveson, P.C., New York, NY (David K. Fiveson of counsel), for appellant.\n",
      "Peraino Malinowski LLP, New York, NY (David M. Peraino and Matthew C. Schwartz of counsel), for respondent.\n",
      "DECISION &amp; ORDER\n",
      "In an action, inter alia, for injunctive relief and to recover damages for trespass, the plaintiff appeals from an order of the Supreme Court, Kings County (Carolyn E. Wade, J.), dated February 27, 2024. The order denied the plaintiff's motion for a preliminary injunction and, in effect, granted the defendant's cross-motion for a license, among other things, to access the plaintiff's real property, subject to certain conditions.\n",
      "ORDERED that the order is affirmed, with costs.\n",
      "The plaintiff and the defendant own adjacent real properties located in Brooklyn. In 2019, in furt\n",
      "\n",
      " End Ruling 3 Preview -------------------------------------------------------------\n",
      "\n"
     ]
    }
   ],
   "source": [
    "# Preview cleaned rulings\n",
    "for i, doc in enumerate(cleaned_documents[:3]):\n",
    "    print(f\"\\n Cleaned Ruling {i+1} Preview ---------------------------------------------------------\\n\")\n",
    "    print(doc[:1500])\n",
    "    print(f\"\\n End Ruling {i+1} Preview -------------------------------------------------------------\\n\")"
   ]
  },
  {
   "cell_type": "markdown",
   "id": "5eb17663-a0d3-4b38-950a-56fc666f9d8d",
   "metadata": {
    "tags": []
   },
   "source": [
    "### Optional: Normalize for Token-Level Tasks\n",
    "Use this version for modeling tasks that require uniform text format."
   ]
  },
  {
   "cell_type": "code",
   "execution_count": 11,
   "id": "777f86dc-0825-4c25-b902-b092e0a9b98f",
   "metadata": {
    "tags": []
   },
   "outputs": [],
   "source": [
    "def normalize_text(text, remove_punctuation=True, remove_stopwords=True):\n",
    "    \"\"\"Optionally remove punctuation and stopwords\"\"\"\n",
    "    text = re.sub(r\"\\s+\", \" \", text).strip()\n",
    "    return text"
   ]
  },
  {
   "cell_type": "markdown",
   "id": "5e7db5b2-526e-425c-92de-6b0b52a67cc4",
   "metadata": {
    "tags": []
   },
   "source": [
    "## 3. Save Cleaned Rulings \n",
    "\n",
    "Now that the rulings are cleaned and verified for content,  \n",
    "we save them to `data/clean/` for reuse without repeating the cleaning step.\n"
   ]
  },
  {
   "cell_type": "code",
   "execution_count": 12,
   "id": "9cfd4f31-c962-487b-aa9d-4f5b13183973",
   "metadata": {
    "tags": []
   },
   "outputs": [
    {
     "name": "stdout",
     "output_type": "stream",
     "text": [
      "Saved 74 cleaned rulings to data/clean\n"
     ]
    }
   ],
   "source": [
    "import os\n",
    "\n",
    "# Create clean output directory if it doesn't exist\n",
    "clean_dir = os.path.join(\"data\", \"clean\")\n",
    "os.makedirs(clean_dir, exist_ok=True)\n",
    "\n",
    "# Save cleaned rulings\n",
    "for i, text in enumerate(cleaned_documents):\n",
    "    filename = f\"clean_opinion_{i}.txt\"\n",
    "    with open(os.path.join(clean_dir, filename), \"w\", encoding=\"utf-8\") as f:\n",
    "        f.write(text)\n",
    "\n",
    "print(f\"Saved {len(cleaned_documents)} cleaned rulings to {clean_dir}\")"
   ]
  }
 ],
 "metadata": {
  "kernelspec": {
   "display_name": "Python 3 (ipykernel)",
   "language": "python",
   "name": "python3"
  },
  "language_info": {
   "codemirror_mode": {
    "name": "ipython",
    "version": 3
   },
   "file_extension": ".py",
   "mimetype": "text/x-python",
   "name": "python",
   "nbconvert_exporter": "python",
   "pygments_lexer": "ipython3",
   "version": "3.11.3"
  }
 },
 "nbformat": 4,
 "nbformat_minor": 5
}
