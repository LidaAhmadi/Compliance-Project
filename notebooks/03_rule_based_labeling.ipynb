{
 "cells": [
  {
   "cell_type": "markdown",
   "id": "236cf6f8-757b-4488-adab-a0a17f69fa8e",
   "metadata": {},
   "source": [
    "# Rule-Based Triage Modeling and Evaluation\n",
    "\n",
    "This notebook is the core of my Phase 1 analysis. Here, I will apply the rule-based labeling logic I've developed to the cleaned dataset of court rulings.\n",
    "\n",
    "My goal is to transform the unstructured text into a structured, prioritized list by assigning a risk label (`high`, `medium`, `low`) to each document. This process uses simple, transparent rules to flag decisions that may contain procedural errors, unfair limitations on parties, or other issues that warrant further review.\n",
    "\n",
    "## Why a Rule-Based Approach?\n",
    "\n",
    "For this initial phase, I chose a rule-based system for two reasons:\n",
    "\n",
    "* **Transparent for Legal Review**: Each flag can be traced back to the exact rule and phrase that triggered it, providing a clear and auditable trail for legal analysts.\n",
    "\n",
    "* **Reliable for Known Legal Patterns**: This approach is especially effective in a legal context where specific phrases (e.g., “terminated parental rights”) are strong indicators of a case's significance.\n",
    "\n",
    "## Notebook Objective & Plan\n",
    "\n",
    "The goal of this notebook is to process the cleaned dataset and assign a final, evaluated priority flag to each document.\n",
    "\n",
    "My process will follow these seven steps:\n",
    "\n",
    "1. **Load and Explore Data**: I will load the cleaned DataFrame and the initial `v1` rule set.\n",
    "\n",
    "2. **Apply Initial Model (V1)**: I will perform a first run of the Triage model to generate a baseline set of risk labels.\n",
    "\n",
    "3. **Analyze Initial Results**: I will quantitatively and qualitatively analyze the baseline results to inform the refinement process.\n",
    "\n",
    "4. **Final Model Run with Refined Rules**: After updating my rule set, I will re-run the entire pipeline to generate the final labels.\n",
    "\n",
    "5. **Create Final Deliverable**: I will save the final, enriched dataset as the key output of this notebook.\n",
    "\n",
    "6. **Model Performance Evaluation**: I will quantitatively evaluate the final model's performance against a human-labeled ground truth set.\n",
    "\n",
    "7. **Conclusion & Next Steps**: I will summarize the project's findings and outline the strategic next steps."
   ]
  },
  {
   "cell_type": "code",
   "execution_count": 1,
   "id": "9517ccb8-54c1-41e0-af8b-471c09f2c8a3",
   "metadata": {},
   "outputs": [
    {
     "name": "stdout",
     "output_type": "stream",
     "text": [
      "Changed working directory to project root: /Users/lidasmac/compliance-nlp\n"
     ]
    }
   ],
   "source": [
    "# --- Standard Library Imports ---\n",
    "import os\n",
    "import re\n",
    "import pandas as pd\n",
    "from pathlib import Path\n",
    "from sklearn.metrics import confusion_matrix, ConfusionMatrixDisplay, classification_report\n",
    "import matplotlib.pyplot as plt\n",
    "\n",
    "# --- Project Root Setup ---\n",
    "# This block ensures the notebook's working directory is always the project root (compliance-nlp/).\n",
    "# This makes all file paths for data and source code consistent and reproducible.\n",
    "current_dir = Path.cwd()\n",
    "if current_dir.name == 'notebooks':\n",
    "    os.chdir(current_dir.parent)\n",
    "    print(f\"Changed working directory to project root: {os.getcwd()}\")\n",
    "else:\n",
    "    print(f\"Already at project root: {os.getcwd()}\")"
   ]
  },
  {
   "cell_type": "code",
   "execution_count": 2,
   "id": "52977c5c-ade3-4572-88b7-b2c161945068",
   "metadata": {
    "tags": []
   },
   "outputs": [],
   "source": [
    "# --- Custom & Configuration Imports ---\n",
    "# This cell can only run correctly after the working directory has been set above.\n",
    "from config import DATA_DIR\n",
    "\n",
    "# Import all the specific cleaning functions from my custom preprocessing module\n",
    "from src.rule_based_labeling import (\n",
    "    find_matched_phrases,\n",
    "    find_highest_risk_label\n",
    ")\n",
    "\n",
    "# --- Pandas Display Options ---\n",
    "pd.set_option('display.max_rows', 100)\n",
    "pd.set_option('display.max_columns', 100)\n",
    "pd.set_option('display.max_colwidth', 150)"
   ]
  },
  {
   "cell_type": "markdown",
   "id": "0315df67-8dfc-4a03-8105-89007d490484",
   "metadata": {},
   "source": [
    "## Step 1: Load and Explore Data\n",
    "\n",
    "In this step, I will load the two primary data sources for my analysis:\n",
    "\n",
    "1.  **Cleaned Court Rulings:** The `party_and_decision_metadata.csv` file, which is the structured output from the previous notebook.\n",
    "2.  **Initial Rule Set (v1):** The `labels_v1.csv` file. This is my baseline set of rules that I will use to generate the initial \"v1\" risk labels before any refinement."
   ]
  },
  {
   "cell_type": "code",
   "execution_count": 3,
   "id": "f966c404-1c3c-4d1c-8a72-7587132cb505",
   "metadata": {
    "tags": []
   },
   "outputs": [
    {
     "name": "stdout",
     "output_type": "stream",
     "text": [
      "Data loaded successfully!\n",
      "  - Rulings (df): 74 rows\n",
      "  - V1 Rules (labels_df_v1): 16 rules\n"
     ]
    }
   ],
   "source": [
    "# --- Load the cleaned data and the initial (v1) rule set ---\n",
    "\n",
    "try:\n",
    "    # 1. Define the correct paths using pathlib for robustness\n",
    "    processed_dir = Path(DATA_DIR) / \"processed\"\n",
    "    main_data_path = processed_dir / \"party_and_decision_metadata.csv\"\n",
    "    labels_v1_path = Path(DATA_DIR) / \"labels_v1.csv\"\n",
    "\n",
    "    # 2. Load the data from the specified paths\n",
    "    df = pd.read_csv(main_data_path)\n",
    "    labels_df_v1 = pd.read_csv(labels_v1_path)\n",
    "    \n",
    "    # 3. Provide an informative success message\n",
    "    print(\"Data loaded successfully!\")\n",
    "    print(f\"  - Rulings (df): {df.shape[0]} rows\")\n",
    "    print(f\"  - V1 Rules (labels_df_v1): {labels_df_v1.shape[0]} rules\")\n",
    "\n",
    "except FileNotFoundError as e:\n",
    "    print(f\"Error: A required data file was not found.\")\n",
    "    print(f\"   Details: {e}\")\n",
    "    print(\"\\nPlease ensure you have run the previous notebooks and\"\n",
    "    \"that the files are in the correct 'data/processed/' and 'data/' directories.\")"
   ]
  },
  {
   "cell_type": "markdown",
   "id": "eba07ba3-2477-4512-9aa1-99cb1fe7e186",
   "metadata": {},
   "source": [
    "### 1.1 Inspect the Main Dataset (`df`)\n",
    "\n",
    "First, I will examine the main `df` DataFrame to understand its structure, confirm the data types, and check for any missing values before proceeding with the analysis."
   ]
  },
  {
   "cell_type": "code",
   "execution_count": 4,
   "id": "f87cf5ab-c547-4c48-ac64-2fe0d1fad27a",
   "metadata": {
    "tags": []
   },
   "outputs": [
    {
     "name": "stdout",
     "output_type": "stream",
     "text": [
      "<class 'pandas.core.frame.DataFrame'>\n",
      "RangeIndex: 74 entries, 0 to 73\n",
      "Data columns (total 3 columns):\n",
      " #   Column         Non-Null Count  Dtype \n",
      "---  ------         --------------  ----- \n",
      " 0   doc_index      74 non-null     int64 \n",
      " 1   party_line     74 non-null     object\n",
      " 2   decision_text  59 non-null     object\n",
      "dtypes: int64(1), object(2)\n",
      "memory usage: 1.9+ KB\n"
     ]
    }
   ],
   "source": [
    "# Get a concise summary of the DataFrame\n",
    "df.info()"
   ]
  },
  {
   "cell_type": "code",
   "execution_count": 5,
   "id": "1f5ce128-8ca4-477b-aa3c-444611b8e8b1",
   "metadata": {
    "tags": []
   },
   "outputs": [
    {
     "data": {
      "text/html": [
       "<div>\n",
       "<style scoped>\n",
       "    .dataframe tbody tr th:only-of-type {\n",
       "        vertical-align: middle;\n",
       "    }\n",
       "\n",
       "    .dataframe tbody tr th {\n",
       "        vertical-align: top;\n",
       "    }\n",
       "\n",
       "    .dataframe thead th {\n",
       "        text-align: right;\n",
       "    }\n",
       "</style>\n",
       "<table border=\"1\" class=\"dataframe\">\n",
       "  <thead>\n",
       "    <tr style=\"text-align: right;\">\n",
       "      <th></th>\n",
       "      <th>doc_index</th>\n",
       "      <th>party_line</th>\n",
       "      <th>decision_text</th>\n",
       "    </tr>\n",
       "  </thead>\n",
       "  <tbody>\n",
       "    <tr>\n",
       "      <th>0</th>\n",
       "      <td>0</td>\n",
       "      <td>Bank of New York Mellon, etc., respondent, v Fenimore St. Realty, Inc., appellant, et al., defendants.</td>\n",
       "      <td>In an action to foreclose a mortgage, the defendant Fenimore St. Realty, Inc., appeals from an order of the Supreme Court, Kings County (Larry D. ...</td>\n",
       "    </tr>\n",
       "    <tr>\n",
       "      <th>1</th>\n",
       "      <td>1</td>\n",
       "      <td>Citimortgage, Inc., etc., respondent, v Yehudit Benyacob, etc., appellant, et al., defendants. Henry Kohn, Brooklyn, NY, for appellant.</td>\n",
       "      <td>In an action to foreclose a mortgage, the defendant Yehudit Benyacob appeals from an order of the Supreme Court, Kings County (Larry D. Martin, J....</td>\n",
       "    </tr>\n",
       "    <tr>\n",
       "      <th>2</th>\n",
       "      <td>2</td>\n",
       "      <td>853-855 McLean, LLC, respondent, v City of Yonkers, NY, et al., appellants.</td>\n",
       "      <td>In a proceeding pursuant to CPLR article 78 to review a determination of the City Council of the City of Yonkers, NY, dated December 11, 2018, den...</td>\n",
       "    </tr>\n",
       "    <tr>\n",
       "      <th>3</th>\n",
       "      <td>3</td>\n",
       "      <td>Edwin Delcid-Funez, appellant-respondent, v Seasons at East Meadow Home Owners Association, Inc., et al., respondents-appellants, et al., defendant.</td>\n",
       "      <td>In an action to recover damages for personal injuries, the plaintiff appeals, and the defendants Seasons at East Meadow Home Owners Association, I...</td>\n",
       "    </tr>\n",
       "    <tr>\n",
       "      <th>4</th>\n",
       "      <td>4</td>\n",
       "      <td>Kristin M. Cirillo, appellant, v Ronald Grullon, respondent. Kenneth M. Tuccillo, Hastings on Hudson, NY, for appellant. Steven A. Feldman, Manhas...</td>\n",
       "      <td>In a proceeding pursuant to Family Court Act article 6, the mother appeals from an order of the Family Court, Nassau County (Darlene D. Harris, J....</td>\n",
       "    </tr>\n",
       "  </tbody>\n",
       "</table>\n",
       "</div>"
      ],
      "text/plain": [
       "   doc_index  \\\n",
       "0          0   \n",
       "1          1   \n",
       "2          2   \n",
       "3          3   \n",
       "4          4   \n",
       "\n",
       "                                                                                                                                              party_line  \\\n",
       "0                                                 Bank of New York Mellon, etc., respondent, v Fenimore St. Realty, Inc., appellant, et al., defendants.   \n",
       "1                Citimortgage, Inc., etc., respondent, v Yehudit Benyacob, etc., appellant, et al., defendants. Henry Kohn, Brooklyn, NY, for appellant.   \n",
       "2                                                                            853-855 McLean, LLC, respondent, v City of Yonkers, NY, et al., appellants.   \n",
       "3   Edwin Delcid-Funez, appellant-respondent, v Seasons at East Meadow Home Owners Association, Inc., et al., respondents-appellants, et al., defendant.   \n",
       "4  Kristin M. Cirillo, appellant, v Ronald Grullon, respondent. Kenneth M. Tuccillo, Hastings on Hudson, NY, for appellant. Steven A. Feldman, Manhas...   \n",
       "\n",
       "                                                                                                                                           decision_text  \n",
       "0  In an action to foreclose a mortgage, the defendant Fenimore St. Realty, Inc., appeals from an order of the Supreme Court, Kings County (Larry D. ...  \n",
       "1  In an action to foreclose a mortgage, the defendant Yehudit Benyacob appeals from an order of the Supreme Court, Kings County (Larry D. Martin, J....  \n",
       "2  In a proceeding pursuant to CPLR article 78 to review a determination of the City Council of the City of Yonkers, NY, dated December 11, 2018, den...  \n",
       "3  In an action to recover damages for personal injuries, the plaintiff appeals, and the defendants Seasons at East Meadow Home Owners Association, I...  \n",
       "4  In a proceeding pursuant to Family Court Act article 6, the mother appeals from an order of the Family Court, Nassau County (Darlene D. Harris, J....  "
      ]
     },
     "execution_count": 5,
     "metadata": {},
     "output_type": "execute_result"
    }
   ],
   "source": [
    "# Display the first few rows to see the data's format\n",
    "df.head()"
   ]
  },
  {
   "cell_type": "markdown",
   "id": "72ed6aa3-dafb-4fb7-89ef-82bc3d569212",
   "metadata": {},
   "source": [
    "The `.info()` output confirms that while we have 74 rows in total, the `decision_text` column only has 59 non-null values. This is the expected result from our previous notebook, where 15 documents failed the parsing step.\n",
    "\n",
    "As a final data quality check, I will now run an explicit count of missing values to confirm this number precisely."
   ]
  },
  {
   "cell_type": "code",
   "execution_count": 6,
   "id": "e30b27a2-2ecd-4348-b728-6bef31392cf5",
   "metadata": {
    "tags": []
   },
   "outputs": [
    {
     "data": {
      "text/plain": [
       "doc_index         0\n",
       "party_line        0\n",
       "decision_text    15\n",
       "dtype: int64"
      ]
     },
     "execution_count": 6,
     "metadata": {},
     "output_type": "execute_result"
    }
   ],
   "source": [
    "# Count null values in each column.\n",
    "df.isnull().sum()"
   ]
  },
  {
   "cell_type": "markdown",
   "id": "08813aa2-6626-44e2-9898-4a9b546fc7f9",
   "metadata": {},
   "source": [
    "### 1.2 Inspect the Initial Rule Set (`labels_df_v1`)\n",
    "\n",
    "Next, I will perform a quick inspection of my initial `v1` rule set. This will confirm the number of rules I'm starting with and allow me to review the distribution of the `high`, `medium`, and `low` risk labels in my baseline version."
   ]
  },
  {
   "cell_type": "code",
   "execution_count": 7,
   "id": "07888e29-154d-47a7-a181-70ebf999b26a",
   "metadata": {},
   "outputs": [
    {
     "name": "stdout",
     "output_type": "stream",
     "text": [
      "<class 'pandas.core.frame.DataFrame'>\n",
      "RangeIndex: 16 entries, 0 to 15\n",
      "Data columns (total 2 columns):\n",
      " #   Column  Non-Null Count  Dtype \n",
      "---  ------  --------------  ----- \n",
      " 0   phrase  16 non-null     object\n",
      " 1   label   16 non-null     object\n",
      "dtypes: object(2)\n",
      "memory usage: 384.0+ bytes\n"
     ]
    }
   ],
   "source": [
    "# Get a concise summary of the labels_df DataFrame\n",
    "labels_df_v1.info()"
   ]
  },
  {
   "cell_type": "code",
   "execution_count": 8,
   "id": "0065502c-8b67-42f1-b4fe-fb7c2e914792",
   "metadata": {},
   "outputs": [
    {
     "data": {
      "text/html": [
       "<div>\n",
       "<style scoped>\n",
       "    .dataframe tbody tr th:only-of-type {\n",
       "        vertical-align: middle;\n",
       "    }\n",
       "\n",
       "    .dataframe tbody tr th {\n",
       "        vertical-align: top;\n",
       "    }\n",
       "\n",
       "    .dataframe thead th {\n",
       "        text-align: right;\n",
       "    }\n",
       "</style>\n",
       "<table border=\"1\" class=\"dataframe\">\n",
       "  <thead>\n",
       "    <tr style=\"text-align: right;\">\n",
       "      <th></th>\n",
       "      <th>phrase</th>\n",
       "      <th>label</th>\n",
       "    </tr>\n",
       "  </thead>\n",
       "  <tbody>\n",
       "    <tr>\n",
       "      <th>0</th>\n",
       "      <td>parental rights terminated</td>\n",
       "      <td>high</td>\n",
       "    </tr>\n",
       "    <tr>\n",
       "      <th>1</th>\n",
       "      <td>default judgment</td>\n",
       "      <td>high</td>\n",
       "    </tr>\n",
       "    <tr>\n",
       "      <th>2</th>\n",
       "      <td>appeal dismissed</td>\n",
       "      <td>medium</td>\n",
       "    </tr>\n",
       "    <tr>\n",
       "      <th>3</th>\n",
       "      <td>order affirmed</td>\n",
       "      <td>medium</td>\n",
       "    </tr>\n",
       "    <tr>\n",
       "      <th>4</th>\n",
       "      <td>judgment reversed</td>\n",
       "      <td>low</td>\n",
       "    </tr>\n",
       "  </tbody>\n",
       "</table>\n",
       "</div>"
      ],
      "text/plain": [
       "                       phrase   label\n",
       "0  parental rights terminated    high\n",
       "1            default judgment    high\n",
       "2            appeal dismissed  medium\n",
       "3              order affirmed  medium\n",
       "4           judgment reversed     low"
      ]
     },
     "execution_count": 8,
     "metadata": {},
     "output_type": "execute_result"
    }
   ],
   "source": [
    "# Display the first few rows to see a sample of the v1 rules\n",
    "labels_df_v1.head()"
   ]
  },
  {
   "cell_type": "markdown",
   "id": "2b8b4cb7-034b-449e-a54b-d3ff7b434a10",
   "metadata": {},
   "source": [
    "### 1.3 Analyze the Initial Rule Distribution\n",
    "\n",
    "Next, I need to know how many rules I have for each risk level in my `v1` rule set. This is an important check to understand if my initial set of rules is balanced or skewed towards a particular category, which can influence the model's final output."
   ]
  },
  {
   "cell_type": "code",
   "execution_count": 9,
   "id": "fb785adf-21a9-480f-acb1-724d204abadb",
   "metadata": {},
   "outputs": [
    {
     "data": {
      "text/plain": [
       "label\n",
       "high      6\n",
       "medium    6\n",
       "low       4\n",
       "Name: count, dtype: int64"
      ]
     },
     "execution_count": 9,
     "metadata": {},
     "output_type": "execute_result"
    }
   ],
   "source": [
    "# Get the distribution of labels. Jupyter will auto-display the result.\n",
    "labels_df_v1['label'].value_counts()"
   ]
  },
  {
   "cell_type": "markdown",
   "id": "041feed6-afe1-4ae3-9a17-8838375cffff",
   "metadata": {},
   "source": [
    "### 1.4 Qualitative Review of Initial Rules\n",
    "\n",
    "As a final step in my data exploration, I will perform a qualitative sanity check on the `v1` rule set. I will loop through each risk level and review a sample of the phrases associated with it.\n",
    "\n",
    "This helps me confirm that my initial rules make intuitive sense before applying them in the model."
   ]
  },
  {
   "cell_type": "code",
   "execution_count": 10,
   "id": "a989bc38-e6be-42ad-af5d-4c7d96dd87d8",
   "metadata": {},
   "outputs": [
    {
     "name": "stdout",
     "output_type": "stream",
     "text": [
      "Risk Level: 'high'\n",
      "  - parental rights terminated\n",
      "  - default judgment\n",
      "  - conviction affirmed\n",
      "  - custody transferred\n",
      "  - suppressed evidence\n",
      "-----------------------------------\n",
      "Risk Level: 'low'\n",
      "  - judgment reversed\n",
      "  - conviction reversed\n",
      "  - motion to dismiss granted\n",
      "  - no appeal lies\n",
      "-----------------------------------\n",
      "Risk Level: 'medium'\n",
      "  - appeal dismissed\n",
      "  - order affirmed\n",
      "  - remanded for further proceedings\n",
      "  - motion to dismiss denied\n",
      "  - best interests of the child\n",
      "-----------------------------------\n"
     ]
    }
   ],
   "source": [
    "# Group by the label and show all phrases from each group\n",
    "for label_name, group in labels_df_v1.groupby('label'):\n",
    "    print(f\"Risk Level: '{label_name}'\")\n",
    "    for phrase in group['phrase'].head():\n",
    "        print(f\"  - {phrase}\")\n",
    "    print(\"-\" * 35)"
   ]
  },
  {
   "cell_type": "markdown",
   "id": "bbf06baa-1c8b-4efa-bbce-99355abf2fef",
   "metadata": {},
   "source": [
    "## Step 2: Apply Initial Model (V1)\n",
    "\n",
    "With the data loaded and inspected, I will now run the initial \"v1\" of my Triage model. This involves two main actions: creating an efficient lookup dictionary from my rules, and then applying a phrase-matching function to find all relevant phrases in the documents."
   ]
  },
  {
   "cell_type": "markdown",
   "id": "1d7a0379-8708-4de2-b84b-66daf82bfca8",
   "metadata": {
    "tags": []
   },
   "source": [
    "### 2.1 Create the Initial Rule Dictionary\n",
    "\n",
    "Before I can scan the documents, I need to convert my `labels_df_v1` DataFrame into a more efficient data structure for lookups.\n",
    "\n",
    "I will create a Python dictionary where each key is a rule phrase and its value is the corresponding risk label (`high`, `medium`, `low`). Using a dictionary is much faster than repeatedly searching a DataFrame inside a loop.\n",
    "\n",
    "To ensure consistent matching, I will convert all the phrases in the dictionary to lowercase, as my phrase-matching function is case-insensitive."
   ]
  },
  {
   "cell_type": "code",
   "execution_count": 11,
   "id": "a59836c1-4300-4698-b1e6-e158e592683b",
   "metadata": {
    "tags": []
   },
   "outputs": [
    {
     "name": "stdout",
     "output_type": "stream",
     "text": [
      "Created the v1 rule dictionary with 16 rules.\n"
     ]
    }
   ],
   "source": [
    "# --- Create the initial (v1) rules lookup dictionary ---\n",
    "# I will create a dictionary from my v1 ruleset for efficient lookups.\n",
    "# The phrases are converted to lowercase to ensure case-insensitive matching.\n",
    "\n",
    "label_dict_v1 = dict(zip(labels_df_v1[\"phrase\"].str.lower(), labels_df_v1[\"label\"]))\n",
    "\n",
    "print(f\"Created the v1 rule dictionary with {len(label_dict_v1)} rules.\")"
   ]
  },
  {
   "cell_type": "markdown",
   "id": "e160fe93-dd25-4281-a464-7e31f7cfe992",
   "metadata": {},
   "source": [
    "### 2.2 Apply Initial Model (V1) - Phrase Matching\n",
    "\n",
    "Now I will apply my rule-based matching engine to the cleaned dataset. Using the initial `v1` rule dictionary, I will scan each decision text and create a new `flag_phrases` column that lists all the rule phrases found in each document.\n",
    "\n",
    "This is a critical step because this list of found phrases helps me understand why a ruling might be flagged and will be the direct input for the Triage model in the next step."
   ]
  },
  {
   "cell_type": "code",
   "execution_count": 12,
   "id": "f4985036-60f9-401d-b337-5347bfed6921",
   "metadata": {
    "tags": []
   },
   "outputs": [
    {
     "name": "stdout",
     "output_type": "stream",
     "text": [
      "Initial phrase matching complete. 'flag_phrases_v1' column added.\n"
     ]
    },
    {
     "data": {
      "text/html": [
       "<div>\n",
       "<style scoped>\n",
       "    .dataframe tbody tr th:only-of-type {\n",
       "        vertical-align: middle;\n",
       "    }\n",
       "\n",
       "    .dataframe tbody tr th {\n",
       "        vertical-align: top;\n",
       "    }\n",
       "\n",
       "    .dataframe thead th {\n",
       "        text-align: right;\n",
       "    }\n",
       "</style>\n",
       "<table border=\"1\" class=\"dataframe\">\n",
       "  <thead>\n",
       "    <tr style=\"text-align: right;\">\n",
       "      <th></th>\n",
       "      <th>decision_text</th>\n",
       "      <th>flag_phrases_v1</th>\n",
       "    </tr>\n",
       "  </thead>\n",
       "  <tbody>\n",
       "    <tr>\n",
       "      <th>0</th>\n",
       "      <td>In an action to foreclose a mortgage, the defendant Fenimore St. Realty, Inc., appeals from an order of the Supreme Court, Kings County (Larry D. ...</td>\n",
       "      <td>[]</td>\n",
       "    </tr>\n",
       "    <tr>\n",
       "      <th>1</th>\n",
       "      <td>In an action to foreclose a mortgage, the defendant Yehudit Benyacob appeals from an order of the Supreme Court, Kings County (Larry D. Martin, J....</td>\n",
       "      <td>[]</td>\n",
       "    </tr>\n",
       "    <tr>\n",
       "      <th>2</th>\n",
       "      <td>In a proceeding pursuant to CPLR article 78 to review a determination of the City Council of the City of Yonkers, NY, dated December 11, 2018, den...</td>\n",
       "      <td>[]</td>\n",
       "    </tr>\n",
       "    <tr>\n",
       "      <th>3</th>\n",
       "      <td>In an action to recover damages for personal injuries, the plaintiff appeals, and the defendants Seasons at East Meadow Home Owners Association, I...</td>\n",
       "      <td>[]</td>\n",
       "    </tr>\n",
       "    <tr>\n",
       "      <th>4</th>\n",
       "      <td>In a proceeding pursuant to Family Court Act article 6, the mother appeals from an order of the Family Court, Nassau County (Darlene D. Harris, J....</td>\n",
       "      <td>[]</td>\n",
       "    </tr>\n",
       "    <tr>\n",
       "      <th>5</th>\n",
       "      <td>In an action to recover damages for negligence, the defendant appeals from an order of the Supreme Court, Kings County (Alexander M. Tisch, J.), d...</td>\n",
       "      <td>[]</td>\n",
       "    </tr>\n",
       "    <tr>\n",
       "      <th>6</th>\n",
       "      <td>In an action, in effect, to recover damages for money had and received and unjust enrichment, the defendant appeals from a judgment of the Supreme...</td>\n",
       "      <td>[default judgment]</td>\n",
       "    </tr>\n",
       "    <tr>\n",
       "      <th>7</th>\n",
       "      <td>Appeal by the defendant, as limited by his motion, from a sentence of the Supreme Court, Kings County (Joseph E. Gubbay, J., at plea; Matthew J. D...</td>\n",
       "      <td>[]</td>\n",
       "    </tr>\n",
       "  </tbody>\n",
       "</table>\n",
       "</div>"
      ],
      "text/plain": [
       "                                                                                                                                           decision_text  \\\n",
       "0  In an action to foreclose a mortgage, the defendant Fenimore St. Realty, Inc., appeals from an order of the Supreme Court, Kings County (Larry D. ...   \n",
       "1  In an action to foreclose a mortgage, the defendant Yehudit Benyacob appeals from an order of the Supreme Court, Kings County (Larry D. Martin, J....   \n",
       "2  In a proceeding pursuant to CPLR article 78 to review a determination of the City Council of the City of Yonkers, NY, dated December 11, 2018, den...   \n",
       "3  In an action to recover damages for personal injuries, the plaintiff appeals, and the defendants Seasons at East Meadow Home Owners Association, I...   \n",
       "4  In a proceeding pursuant to Family Court Act article 6, the mother appeals from an order of the Family Court, Nassau County (Darlene D. Harris, J....   \n",
       "5  In an action to recover damages for negligence, the defendant appeals from an order of the Supreme Court, Kings County (Alexander M. Tisch, J.), d...   \n",
       "6  In an action, in effect, to recover damages for money had and received and unjust enrichment, the defendant appeals from a judgment of the Supreme...   \n",
       "7  Appeal by the defendant, as limited by his motion, from a sentence of the Supreme Court, Kings County (Joseph E. Gubbay, J., at plea; Matthew J. D...   \n",
       "\n",
       "      flag_phrases_v1  \n",
       "0                  []  \n",
       "1                  []  \n",
       "2                  []  \n",
       "3                  []  \n",
       "4                  []  \n",
       "5                  []  \n",
       "6  [default judgment]  \n",
       "7                  []  "
      ]
     },
     "metadata": {},
     "output_type": "display_data"
    }
   ],
   "source": [
    "# --- Apply the phrase matching engine using the v1 rule set ---\n",
    "\n",
    "# 1. (THE FIX) Ensure all values in the column are strings.\n",
    "#    This explicitly replaces any NaN values with an empty string \"\" and reassigns the column.\n",
    "df['decision_text'] = df['decision_text'].fillna(\"\")\n",
    "\n",
    "# 2. Apply the function to the cleaned column.\n",
    "#    I'll create a new 'flag_phrases_v1' column containing a list of all\n",
    "#    rule phrases found in each document.\n",
    "df['flag_phrases_v1'] = df['decision_text'].apply(\n",
    "    lambda text: find_matched_phrases(text, label_dict_v1)\n",
    ")\n",
    "\n",
    "print(\"Initial phrase matching complete. 'flag_phrases_v1' column added.\")\n",
    "\n",
    "\n",
    "# --- Verification Step: Inspect the new column ---\n",
    "# I'll display the new column alongside the source text to verify the output.\n",
    "display(df[['decision_text', 'flag_phrases_v1']].head(8))"
   ]
  },
  {
   "cell_type": "markdown",
   "id": "e89ecf22-16cb-4463-b780-809da2fc1524",
   "metadata": {},
   "source": [
    "### 2.3 Apply Triage Model to Assign Risk Labels (V1)\n",
    "\n",
    "My goal is to assign a single, definitive risk label to each document. For this, I will use a \"Triage\" approach: a document's final risk label will be determined by the most severe rule that it triggers. This allows me to quickly categorize all documents into clear buckets for review without requiring extensive tuning.\n",
    "\n",
    "I will now apply my custom `find_highest_risk_label` function, which inspects the list of matched phrases and returns the single highest-ranking label found."
   ]
  },
  {
   "cell_type": "code",
   "execution_count": 13,
   "id": "d0c7888a-e279-4450-b454-bc07000fd916",
   "metadata": {
    "tags": []
   },
   "outputs": [
    {
     "name": "stdout",
     "output_type": "stream",
     "text": [
      "Initial Triage labeling complete. 'risk_label_v1' column added.\n"
     ]
    },
    {
     "data": {
      "text/html": [
       "<div>\n",
       "<style scoped>\n",
       "    .dataframe tbody tr th:only-of-type {\n",
       "        vertical-align: middle;\n",
       "    }\n",
       "\n",
       "    .dataframe tbody tr th {\n",
       "        vertical-align: top;\n",
       "    }\n",
       "\n",
       "    .dataframe thead th {\n",
       "        text-align: right;\n",
       "    }\n",
       "</style>\n",
       "<table border=\"1\" class=\"dataframe\">\n",
       "  <thead>\n",
       "    <tr style=\"text-align: right;\">\n",
       "      <th></th>\n",
       "      <th>flag_phrases_v1</th>\n",
       "      <th>risk_label_v1</th>\n",
       "    </tr>\n",
       "  </thead>\n",
       "  <tbody>\n",
       "    <tr>\n",
       "      <th>0</th>\n",
       "      <td>[]</td>\n",
       "      <td>low</td>\n",
       "    </tr>\n",
       "    <tr>\n",
       "      <th>1</th>\n",
       "      <td>[]</td>\n",
       "      <td>low</td>\n",
       "    </tr>\n",
       "    <tr>\n",
       "      <th>2</th>\n",
       "      <td>[]</td>\n",
       "      <td>low</td>\n",
       "    </tr>\n",
       "    <tr>\n",
       "      <th>3</th>\n",
       "      <td>[]</td>\n",
       "      <td>low</td>\n",
       "    </tr>\n",
       "    <tr>\n",
       "      <th>4</th>\n",
       "      <td>[]</td>\n",
       "      <td>low</td>\n",
       "    </tr>\n",
       "    <tr>\n",
       "      <th>5</th>\n",
       "      <td>[]</td>\n",
       "      <td>low</td>\n",
       "    </tr>\n",
       "    <tr>\n",
       "      <th>6</th>\n",
       "      <td>[default judgment]</td>\n",
       "      <td>high</td>\n",
       "    </tr>\n",
       "    <tr>\n",
       "      <th>7</th>\n",
       "      <td>[]</td>\n",
       "      <td>low</td>\n",
       "    </tr>\n",
       "    <tr>\n",
       "      <th>8</th>\n",
       "      <td>[best interests of the child]</td>\n",
       "      <td>medium</td>\n",
       "    </tr>\n",
       "    <tr>\n",
       "      <th>9</th>\n",
       "      <td>[]</td>\n",
       "      <td>low</td>\n",
       "    </tr>\n",
       "  </tbody>\n",
       "</table>\n",
       "</div>"
      ],
      "text/plain": [
       "                 flag_phrases_v1 risk_label_v1\n",
       "0                             []           low\n",
       "1                             []           low\n",
       "2                             []           low\n",
       "3                             []           low\n",
       "4                             []           low\n",
       "5                             []           low\n",
       "6             [default judgment]          high\n",
       "7                             []           low\n",
       "8  [best interests of the child]        medium\n",
       "9                             []           low"
      ]
     },
     "metadata": {},
     "output_type": "display_data"
    }
   ],
   "source": [
    "# --- Apply the Triage model using the v1 rule set ---\n",
    "# I'll apply my custom 'find_highest_risk_label' function to the 'flag_phrases_v1'\n",
    "# column to generate the initial risk labels.\n",
    "\n",
    "df['risk_label_v1'] = df['flag_phrases_v1'].apply(\n",
    "    lambda phrase_list: find_highest_risk_label(phrase_list, label_dict_v1)\n",
    ")\n",
    "\n",
    "print(\"Initial Triage labeling complete. 'risk_label_v1' column added.\")\n",
    "\n",
    "\n",
    "# --- Verification Step: Inspect the results ---\n",
    "# I'll display the results to verify the output, focusing on the new label.\n",
    "display(df[['flag_phrases_v1', 'risk_label_v1']].head(10))"
   ]
  },
  {
   "cell_type": "markdown",
   "id": "bcc8b2c8-ea20-4bdc-8779-e77b7dfa80f5",
   "metadata": {},
   "source": [
    "## Step 3: Analyze Initial Results Quantitatively\n",
    "\n",
    "Now that I have qualitatively inspected a sample of the results, I will perform a quantitative analysis.\n",
    "\n",
    "My goal is to get a high-level overview of the model's baseline performance by counting how many documents were assigned to each risk category. This distribution is the primary result of my initial Triage model run and will serve as the \"before\" snapshot for my later comparison."
   ]
  },
  {
   "cell_type": "code",
   "execution_count": 14,
   "id": "625fefe7-88bb-4a35-9e9c-69de3b922664",
   "metadata": {},
   "outputs": [
    {
     "data": {
      "text/plain": [
       "risk_label_v1\n",
       "low       66\n",
       "high       7\n",
       "medium     1\n",
       "Name: count, dtype: int64"
      ]
     },
     "execution_count": 14,
     "metadata": {},
     "output_type": "execute_result"
    }
   ],
   "source": [
    "# This is the primary result of our triage model.\n",
    "risk_buckets_v1 = df['risk_label_v1'].value_counts()\n",
    "risk_buckets_v1"
   ]
  },
  {
   "cell_type": "markdown",
   "id": "482ea156-911d-421d-a596-712982214753",
   "metadata": {},
   "source": [
    "### 3.1 Inspect High-Risk Documents\n",
    "\n",
    "As a final sanity check, let's filter for the documents that were labeled `high` and inspect the phrases that were flagged within them. This confirms that our most important rules are working as expected.\n",
    "\n",
    "#### A Note on My Refinement Strategy\n",
    "\n",
    "For this first refinement cycle, I made a practical choice to focus my review only on the documents already flagged as`high`. My thinking was that these cases were the most likely place to quickly find other important key phrases.\n",
    "\n",
    "I recognize this is a biased approach. A more comprehensive second round of refinement would need to analyze those specific \"False Negatives\" to make the model more thorough."
   ]
  },
  {
   "cell_type": "code",
   "execution_count": 15,
   "id": "865818d5-c7f1-468f-b1b5-a29217135acc",
   "metadata": {
    "tags": []
   },
   "outputs": [
    {
     "data": {
      "text/html": [
       "<div>\n",
       "<style scoped>\n",
       "    .dataframe tbody tr th:only-of-type {\n",
       "        vertical-align: middle;\n",
       "    }\n",
       "\n",
       "    .dataframe tbody tr th {\n",
       "        vertical-align: top;\n",
       "    }\n",
       "\n",
       "    .dataframe thead th {\n",
       "        text-align: right;\n",
       "    }\n",
       "</style>\n",
       "<table border=\"1\" class=\"dataframe\">\n",
       "  <thead>\n",
       "    <tr style=\"text-align: right;\">\n",
       "      <th></th>\n",
       "      <th>decision_text</th>\n",
       "      <th>flag_phrases_v1</th>\n",
       "      <th>risk_label_v1</th>\n",
       "    </tr>\n",
       "  </thead>\n",
       "  <tbody>\n",
       "    <tr>\n",
       "      <th>6</th>\n",
       "      <td>In an action, in effect, to recover damages for money had and received and unjust enrichment, the defendant appeals from a judgment of the Supreme...</td>\n",
       "      <td>[default judgment]</td>\n",
       "      <td>high</td>\n",
       "    </tr>\n",
       "    <tr>\n",
       "      <th>11</th>\n",
       "      <td>In an action to foreclose a mortgage, the defendant Salvatore Pane appeals from an order and judgment of foreclosure and sale (one paper) of the S...</td>\n",
       "      <td>[default judgment]</td>\n",
       "      <td>high</td>\n",
       "    </tr>\n",
       "    <tr>\n",
       "      <th>35</th>\n",
       "      <td>Appeal by the defendant from a judgment of the County Court, Orange County (Craig S. Brown, J.), rendered May 16, 2023, convicting him of criminal...</td>\n",
       "      <td>[ineffective assistance of counsel]</td>\n",
       "      <td>high</td>\n",
       "    </tr>\n",
       "    <tr>\n",
       "      <th>39</th>\n",
       "      <td>Appeal by the defendant from a judgment of the County Court, Orange County (Craig S. Brown, J.), rendered May 16, 2023, convicting him of criminal...</td>\n",
       "      <td>[ineffective assistance of counsel]</td>\n",
       "      <td>high</td>\n",
       "    </tr>\n",
       "    <tr>\n",
       "      <th>58</th>\n",
       "      <td>In an action, inter alia, to recover damages for negligence, the plaintiff appeals from an order of the Supreme Court, Orange County (David S. Zuc...</td>\n",
       "      <td>[default judgment]</td>\n",
       "      <td>high</td>\n",
       "    </tr>\n",
       "  </tbody>\n",
       "</table>\n",
       "</div>"
      ],
      "text/plain": [
       "                                                                                                                                            decision_text  \\\n",
       "6   In an action, in effect, to recover damages for money had and received and unjust enrichment, the defendant appeals from a judgment of the Supreme...   \n",
       "11  In an action to foreclose a mortgage, the defendant Salvatore Pane appeals from an order and judgment of foreclosure and sale (one paper) of the S...   \n",
       "35  Appeal by the defendant from a judgment of the County Court, Orange County (Craig S. Brown, J.), rendered May 16, 2023, convicting him of criminal...   \n",
       "39  Appeal by the defendant from a judgment of the County Court, Orange County (Craig S. Brown, J.), rendered May 16, 2023, convicting him of criminal...   \n",
       "58  In an action, inter alia, to recover damages for negligence, the plaintiff appeals from an order of the Supreme Court, Orange County (David S. Zuc...   \n",
       "\n",
       "                        flag_phrases_v1 risk_label_v1  \n",
       "6                    [default judgment]          high  \n",
       "11                   [default judgment]          high  \n",
       "35  [ineffective assistance of counsel]          high  \n",
       "39  [ineffective assistance of counsel]          high  \n",
       "58                   [default judgment]          high  "
      ]
     },
     "execution_count": 15,
     "metadata": {},
     "output_type": "execute_result"
    }
   ],
   "source": [
    "# --- 1. Filter the DataFrame to create a subset of only 'high' risk cases ---\n",
    "high_risk_cases = df[df['risk_label_v1'] == 'high']\n",
    "\n",
    "# --- 2. Display a sample of this subset, showing the most relevant columns ---\n",
    "high_risk_cases[['decision_text', 'flag_phrases_v1', 'risk_label_v1']].head()"
   ]
  },
  {
   "cell_type": "markdown",
   "id": "d95fb374-b59d-46af-95cd-eb6c7ebd96ea",
   "metadata": {},
   "source": [
    "### 3.2 Refinement: Analyzing Results and Improving the Rules\n",
    "\n",
    "Now I will perform the important manual step. By manually reviewing the documents flagged by my initial model, I can validate my existing rules and discover new, high-impact phrases to make the system more intelligent.\n",
    "\n",
    "#### Key Findings from My Review\n",
    "My analysis of the initial high risk results was successful and yielded three key insights:\n",
    "\n",
    "- **Validation of Existing Rules**: The review confirms that my core high risk rules are performing well. Phrases like `effective assistance of counsel` and `default judgment` consistently identified documents with significant procedural and fairness issues, validating my initial strategy.\n",
    "\n",
    "- **Confirmation of Proposed Phrases**: The review confirmed that several phrases I considered adding are indeed high-value. I saw `immigration consequences`, `failure to state a cause of action`, and `special duty` appear in the flagged documents, proving they are worth adding to my rule set.\n",
    "\n",
    "- **Discovery of New High-Impact Phrases**: Most importantly, the review uncovered several new phrases that are strong indicators of a noteworthy case but were not yet in my system.\n",
    "\n",
    "Based on the findings above, the clear next step is to update my `labels.csv` file. The table below lists the new rules I will add to create a more robust and nuanced model.\n",
    "\n",
    "| New Phrase to Add (as a Pattern) | Suggested Label | Rationale |\n",
    "| :--- | :--- | :--- |\n",
    "| **`waived (his\\|her\\|their) right to appeal`** | `high` | Catches all gender variations of this event in one rule. |\n",
    "| **`violated (his\\|her\\|their) miranda rights`** | `high` | A fundamental constitutional challenge, now gender-neutral. |\n",
    "| **`immigration consequences`** | `medium` | A critical factor in plea deals for non-citizens. |\n",
    "| **`stop and frisk`** | `medium` | A key Fourth Amendment issue indicating a police procedure review. |\n",
    "| **`unpreserved for appellate review`** | `medium` | An important procedural reason why a case's outcome was decided. |\n",
    "| **`failure to state a cause of action`** | `medium` | A key reason for early-stage case dismissals. |"
   ]
  },
  {
   "cell_type": "markdown",
   "id": "9d354496-7fb0-4f0f-8ac5-11ef7a45e6b4",
   "metadata": {},
   "source": [
    "**ACTION: Manually Update `labels.csv`**\n",
    "\n",
    "The next step is a manual one. I will now open the `data/labels.csv` file and add the new rules outlined in the table above, ensuring the regular expression patterns are correct. After saving the updated file, we will proceed with the cells below."
   ]
  },
  {
   "cell_type": "markdown",
   "id": "74b07af4-4cf9-4c6c-848e-7c5873ac3dff",
   "metadata": {},
   "source": [
    "## Step 4: Final Model Run with Refined Rules\n",
    "\n",
    "Based on my analysis in the previous step, I have created an improved rule set which I've saved as `labels.csv`.\n",
    "\n",
    "I will now re-run the entire analysis pipeline using this new, larger rule set. This will allow me to directly measure the impact of my refinements and generate the final labels for the dataset."
   ]
  },
  {
   "cell_type": "markdown",
   "id": "af940adc-447f-414d-9df0-07360ba6fafc",
   "metadata": {
    "tags": []
   },
   "source": [
    "### 4.1 Re-load Rules & Re-run Phrase Matching\n",
    "\n",
    "First, I load the refined rule set and then re-run the phrase matching engine to create an updated list of flags for each document."
   ]
  },
  {
   "cell_type": "code",
   "execution_count": 16,
   "id": "63447798-e82e-4392-9ff6-c17d76105a64",
   "metadata": {},
   "outputs": [
    {
     "name": "stdout",
     "output_type": "stream",
     "text": [
      "Success! The refined rule set now contains 22 rules.\n"
     ]
    }
   ],
   "source": [
    "# Re-load the REFINED rules \n",
    "labels_df_final = pd.read_csv(\"data/labels.csv\")\n",
    "label_dict_final = dict(zip(labels_df_final[\"phrase\"].str.lower(), labels_df_final[\"label\"].str.lower()))\n",
    "print(f\"Success! The refined rule set now contains {len(label_dict_final)} rules.\")"
   ]
  },
  {
   "cell_type": "markdown",
   "id": "db806744-efe7-4cc1-9d9f-0517fe32d49a",
   "metadata": {},
   "source": [
    "### 4.2 Apply Final Triage Model\n",
    "\n",
    "With the updated flags, we now apply our Triage function to assign the final risk label."
   ]
  },
  {
   "cell_type": "code",
   "execution_count": 17,
   "id": "d8e99a38-86bc-4027-9ed1-42070bc9c30e",
   "metadata": {
    "tags": []
   },
   "outputs": [],
   "source": [
    "# Re-run the phrase matching with the NEW rules \n",
    "# This creates a new 'final_flag_phrases' column containing our refined results.\n",
    "df['final_flag_phrases'] = df['decision_text'].apply(\n",
    "    lambda text: find_matched_phrases(text, label_dict_final)\n",
    ")"
   ]
  },
  {
   "cell_type": "code",
   "execution_count": 18,
   "id": "ba50c104-463e-4650-90c1-5e4e52f3be55",
   "metadata": {
    "tags": []
   },
   "outputs": [
    {
     "name": "stdout",
     "output_type": "stream",
     "text": [
      "--- Inspecting Documents Affected by Rule Refinements ---\n",
      "Found 15 documents where the flagged phrases changed after refinement.\n",
      "Displaying a sample:\n"
     ]
    },
    {
     "data": {
      "text/html": [
       "<div>\n",
       "<style scoped>\n",
       "    .dataframe tbody tr th:only-of-type {\n",
       "        vertical-align: middle;\n",
       "    }\n",
       "\n",
       "    .dataframe tbody tr th {\n",
       "        vertical-align: top;\n",
       "    }\n",
       "\n",
       "    .dataframe thead th {\n",
       "        text-align: right;\n",
       "    }\n",
       "</style>\n",
       "<table border=\"1\" class=\"dataframe\">\n",
       "  <thead>\n",
       "    <tr style=\"text-align: right;\">\n",
       "      <th></th>\n",
       "      <th>flag_phrases_v1</th>\n",
       "      <th>final_flag_phrases</th>\n",
       "    </tr>\n",
       "  </thead>\n",
       "  <tbody>\n",
       "    <tr>\n",
       "      <th>12</th>\n",
       "      <td>[]</td>\n",
       "      <td>[failure to state a cause of action]</td>\n",
       "    </tr>\n",
       "    <tr>\n",
       "      <th>14</th>\n",
       "      <td>[]</td>\n",
       "      <td>[unpreserved for appellate review]</td>\n",
       "    </tr>\n",
       "    <tr>\n",
       "      <th>16</th>\n",
       "      <td>[]</td>\n",
       "      <td>[unpreserved for appellate review]</td>\n",
       "    </tr>\n",
       "    <tr>\n",
       "      <th>17</th>\n",
       "      <td>[]</td>\n",
       "      <td>[failure to state a cause of action]</td>\n",
       "    </tr>\n",
       "    <tr>\n",
       "      <th>33</th>\n",
       "      <td>[]</td>\n",
       "      <td>[waived (his|her|their) right to appeal, unpreserved for appellate review]</td>\n",
       "    </tr>\n",
       "  </tbody>\n",
       "</table>\n",
       "</div>"
      ],
      "text/plain": [
       "   flag_phrases_v1  \\\n",
       "12              []   \n",
       "14              []   \n",
       "16              []   \n",
       "17              []   \n",
       "33              []   \n",
       "\n",
       "                                                            final_flag_phrases  \n",
       "12                                        [failure to state a cause of action]  \n",
       "14                                          [unpreserved for appellate review]  \n",
       "16                                          [unpreserved for appellate review]  \n",
       "17                                        [failure to state a cause of action]  \n",
       "33  [waived (his|her|their) right to appeal, unpreserved for appellate review]  "
      ]
     },
     "metadata": {},
     "output_type": "display_data"
    }
   ],
   "source": [
    "# --- Verification Step: Compare Flagged Phrases Before and After Refinement ---\n",
    "\n",
    "# I will compare the 'v1' flags with the 'final' flags.\n",
    "# First, I'll find the rows where the list of flagged phrases actually changed.\n",
    "changed_flags_mask = df['flag_phrases_v1'].astype(str) != df['final_flag_phrases'].astype(str)\n",
    "changed_flags_df = df[changed_flags_mask]\n",
    "\n",
    "print(\"--- Inspecting Documents Affected by Rule Refinements ---\")\n",
    "\n",
    "if not changed_flags_df.empty:\n",
    "    print(f\"Found {len(changed_flags_df)} documents where the flagged phrases changed after refinement.\")\n",
    "    print(\"Displaying a sample:\")\n",
    "    \n",
    "    # This view shows the direct impact of adding new rules.\n",
    "    display(changed_flags_df[['flag_phrases_v1', 'final_flag_phrases']].head())\n",
    "else:\n",
    "    print(\"No documents had their list of flagged phrases changed by the new rules.\")\n",
    "    print(\"\\nDisplaying a general sample of the final flags for review:\")\n",
    "    display(df[['flag_phrases_v1', 'final_flag_phrases']].head(10))"
   ]
  },
  {
   "cell_type": "code",
   "execution_count": 19,
   "id": "76f392e2-9d9a-475c-8a67-1aec76fe94e1",
   "metadata": {
    "tags": []
   },
   "outputs": [
    {
     "data": {
      "text/html": [
       "<div>\n",
       "<style scoped>\n",
       "    .dataframe tbody tr th:only-of-type {\n",
       "        vertical-align: middle;\n",
       "    }\n",
       "\n",
       "    .dataframe tbody tr th {\n",
       "        vertical-align: top;\n",
       "    }\n",
       "\n",
       "    .dataframe thead th {\n",
       "        text-align: right;\n",
       "    }\n",
       "</style>\n",
       "<table border=\"1\" class=\"dataframe\">\n",
       "  <thead>\n",
       "    <tr style=\"text-align: right;\">\n",
       "      <th></th>\n",
       "      <th>final_flag_phrases</th>\n",
       "      <th>risk_label_v1</th>\n",
       "      <th>final_risk_label</th>\n",
       "    </tr>\n",
       "  </thead>\n",
       "  <tbody>\n",
       "    <tr>\n",
       "      <th>0</th>\n",
       "      <td>[]</td>\n",
       "      <td>low</td>\n",
       "      <td>low</td>\n",
       "    </tr>\n",
       "    <tr>\n",
       "      <th>1</th>\n",
       "      <td>[]</td>\n",
       "      <td>low</td>\n",
       "      <td>low</td>\n",
       "    </tr>\n",
       "    <tr>\n",
       "      <th>2</th>\n",
       "      <td>[]</td>\n",
       "      <td>low</td>\n",
       "      <td>low</td>\n",
       "    </tr>\n",
       "    <tr>\n",
       "      <th>3</th>\n",
       "      <td>[]</td>\n",
       "      <td>low</td>\n",
       "      <td>low</td>\n",
       "    </tr>\n",
       "    <tr>\n",
       "      <th>4</th>\n",
       "      <td>[]</td>\n",
       "      <td>low</td>\n",
       "      <td>low</td>\n",
       "    </tr>\n",
       "  </tbody>\n",
       "</table>\n",
       "</div>"
      ],
      "text/plain": [
       "  final_flag_phrases risk_label_v1 final_risk_label\n",
       "0                 []           low              low\n",
       "1                 []           low              low\n",
       "2                 []           low              low\n",
       "3                 []           low              low\n",
       "4                 []           low              low"
      ]
     },
     "execution_count": 19,
     "metadata": {},
     "output_type": "execute_result"
    }
   ],
   "source": [
    "# Execute the FINAL Triage Analysis with the new rules \n",
    "# We apply our imported `find_highest_risk_label` function,\n",
    "# passing it the new `label_dict_final`.\n",
    "df['final_risk_label'] = df['final_flag_phrases'].apply(\n",
    "    lambda phrase_list: find_highest_risk_label(phrase_list, label_dict_final)\n",
    ")\n",
    "\n",
    "# Display a sample to verify the new final column exists\n",
    "df[['final_flag_phrases', 'risk_label_v1', 'final_risk_label']].head()"
   ]
  },
  {
   "cell_type": "markdown",
   "id": "34496d21-4e7e-4dbd-b2de-2e3992910a96",
   "metadata": {},
   "source": [
    "### 4.3 Compare Before-and-After Results\n",
    "\n",
    "By comparing the distribution of our initial run (`risk_label_v1`) with my final run (`final_risk_label`), I can see the direct impact of this update. I expect to see more documents categorized, especially in the `medium` and `high` buckets."
   ]
  },
  {
   "cell_type": "code",
   "execution_count": 20,
   "id": "1c426007-9729-4be4-abdd-69c908b146d6",
   "metadata": {},
   "outputs": [
    {
     "name": "stdout",
     "output_type": "stream",
     "text": [
      "--- Initial Run Results (Before Refinement) ---\n"
     ]
    },
    {
     "data": {
      "text/plain": [
       "risk_label_v1\n",
       "low       66\n",
       "high       7\n",
       "medium     1\n",
       "Name: count, dtype: int64"
      ]
     },
     "metadata": {},
     "output_type": "display_data"
    },
    {
     "name": "stdout",
     "output_type": "stream",
     "text": [
      "\n",
      "--- Final Run Results (After Refinement) ---\n"
     ]
    },
    {
     "data": {
      "text/plain": [
       "final_risk_label\n",
       "low       55\n",
       "medium    11\n",
       "high       8\n",
       "Name: count, dtype: int64"
      ]
     },
     "metadata": {},
     "output_type": "display_data"
    }
   ],
   "source": [
    "print(\"--- Initial Run Results (Before Refinement) ---\")\n",
    "display(df['risk_label_v1'].value_counts())\n",
    "\n",
    "print(\"\\n--- Final Run Results (After Refinement) ---\")\n",
    "display(df['final_risk_label'].value_counts())"
   ]
  },
  {
   "cell_type": "markdown",
   "id": "c2c94531-8a0b-40de-852c-88d678755faf",
   "metadata": {},
   "source": [
    "### 4.4 Interpretation of Final Results\n",
    "\n",
    "The side-by-side comparison clearly demonstrates the success of my refinement cycle.\n",
    "\n",
    "* **Successful Re-categorization:** The number of documents in the `low` risk category decreased by 11. These documents were successfully \"upgraded\" to more relevant risk categories.\n",
    "* **High-Impact New Rules:** The `medium` risk category saw the most significant growth (from 1 to 11 cases), proving that my newly added `medium`-risk phrases were highly effective at identifying noteworthy cases that were previously missed. The `high` risk category also correctly identified one new case.\n",
    "\n",
    "**Conclusion:** The manual refinement process was effective. It demonstrably improved the model's ability to correctly categorize documents, providing a more accurate set of labels for my final deliverable."
   ]
  },
  {
   "cell_type": "markdown",
   "id": "707ee63d-64c0-44e7-8542-ff9b83def052",
   "metadata": {},
   "source": [
    "## Step 5: Create Final Deliverable\n",
    "\n",
    "The comparison shows my refinements have successfully improved the model's coverage and classification. I am now ready to export my final, enriched dataset. This file is the main asset from this phase of the project and will be used for subsequent analysis and review."
   ]
  },
  {
   "cell_type": "code",
   "execution_count": 21,
   "id": "aafad6d8-0fdb-44c3-aa6f-45f7bbee2d00",
   "metadata": {
    "tags": []
   },
   "outputs": [
    {
     "name": "stdout",
     "output_type": "stream",
     "text": [
      "Final deliverable successfully saved to: data/processed/decisions_with_risk_labels.csv\n",
      "\n",
      "--- Displaying a sample of the final deliverable ---\n"
     ]
    },
    {
     "data": {
      "text/html": [
       "<div>\n",
       "<style scoped>\n",
       "    .dataframe tbody tr th:only-of-type {\n",
       "        vertical-align: middle;\n",
       "    }\n",
       "\n",
       "    .dataframe tbody tr th {\n",
       "        vertical-align: top;\n",
       "    }\n",
       "\n",
       "    .dataframe thead th {\n",
       "        text-align: right;\n",
       "    }\n",
       "</style>\n",
       "<table border=\"1\" class=\"dataframe\">\n",
       "  <thead>\n",
       "    <tr style=\"text-align: right;\">\n",
       "      <th></th>\n",
       "      <th>doc_index</th>\n",
       "      <th>decision_text</th>\n",
       "      <th>risk_label_v1</th>\n",
       "      <th>final_flag_phrases</th>\n",
       "      <th>final_risk_label</th>\n",
       "    </tr>\n",
       "  </thead>\n",
       "  <tbody>\n",
       "    <tr>\n",
       "      <th>0</th>\n",
       "      <td>0</td>\n",
       "      <td>In an action to foreclose a mortgage, the defendant Fenimore St. Realty, Inc., appeals from an order of the Supreme Court, Kings County (Larry D. ...</td>\n",
       "      <td>low</td>\n",
       "      <td>[]</td>\n",
       "      <td>low</td>\n",
       "    </tr>\n",
       "    <tr>\n",
       "      <th>1</th>\n",
       "      <td>1</td>\n",
       "      <td>In an action to foreclose a mortgage, the defendant Yehudit Benyacob appeals from an order of the Supreme Court, Kings County (Larry D. Martin, J....</td>\n",
       "      <td>low</td>\n",
       "      <td>[]</td>\n",
       "      <td>low</td>\n",
       "    </tr>\n",
       "    <tr>\n",
       "      <th>2</th>\n",
       "      <td>2</td>\n",
       "      <td>In a proceeding pursuant to CPLR article 78 to review a determination of the City Council of the City of Yonkers, NY, dated December 11, 2018, den...</td>\n",
       "      <td>low</td>\n",
       "      <td>[]</td>\n",
       "      <td>low</td>\n",
       "    </tr>\n",
       "    <tr>\n",
       "      <th>3</th>\n",
       "      <td>3</td>\n",
       "      <td>In an action to recover damages for personal injuries, the plaintiff appeals, and the defendants Seasons at East Meadow Home Owners Association, I...</td>\n",
       "      <td>low</td>\n",
       "      <td>[]</td>\n",
       "      <td>low</td>\n",
       "    </tr>\n",
       "    <tr>\n",
       "      <th>4</th>\n",
       "      <td>4</td>\n",
       "      <td>In a proceeding pursuant to Family Court Act article 6, the mother appeals from an order of the Family Court, Nassau County (Darlene D. Harris, J....</td>\n",
       "      <td>low</td>\n",
       "      <td>[]</td>\n",
       "      <td>low</td>\n",
       "    </tr>\n",
       "  </tbody>\n",
       "</table>\n",
       "</div>"
      ],
      "text/plain": [
       "   doc_index  \\\n",
       "0          0   \n",
       "1          1   \n",
       "2          2   \n",
       "3          3   \n",
       "4          4   \n",
       "\n",
       "                                                                                                                                           decision_text  \\\n",
       "0  In an action to foreclose a mortgage, the defendant Fenimore St. Realty, Inc., appeals from an order of the Supreme Court, Kings County (Larry D. ...   \n",
       "1  In an action to foreclose a mortgage, the defendant Yehudit Benyacob appeals from an order of the Supreme Court, Kings County (Larry D. Martin, J....   \n",
       "2  In a proceeding pursuant to CPLR article 78 to review a determination of the City Council of the City of Yonkers, NY, dated December 11, 2018, den...   \n",
       "3  In an action to recover damages for personal injuries, the plaintiff appeals, and the defendants Seasons at East Meadow Home Owners Association, I...   \n",
       "4  In a proceeding pursuant to Family Court Act article 6, the mother appeals from an order of the Family Court, Nassau County (Darlene D. Harris, J....   \n",
       "\n",
       "  risk_label_v1 final_flag_phrases final_risk_label  \n",
       "0           low                 []              low  \n",
       "1           low                 []              low  \n",
       "2           low                 []              low  \n",
       "3           low                 []              low  \n",
       "4           low                 []              low  "
      ]
     },
     "metadata": {},
     "output_type": "display_data"
    }
   ],
   "source": [
    "# --- Select final columns and save the deliverable ---\n",
    "\n",
    "# 1. Select the most useful columns for the final output.\n",
    "#    Including both v1 and final labels is great for documenting the changes.\n",
    "final_deliverable_df = df[[\n",
    "    'doc_index',\n",
    "    'decision_text',\n",
    "    'risk_label_v1',      # The \"before\" label\n",
    "    'final_flag_phrases', # The full list of flags from the refined run\n",
    "    'final_risk_label'    # The \"after\" label\n",
    "]].copy()\n",
    "\n",
    "# 2. Define the output path within the 'processed' directory and save the file\n",
    "output_dir = Path(DATA_DIR) / \"processed\"\n",
    "os.makedirs(output_dir, exist_ok=True) # Ensure the directory exists\n",
    "output_path = output_dir / \"decisions_with_risk_labels.csv\"\n",
    "\n",
    "final_deliverable_df.to_csv(output_path, index=False)\n",
    "\n",
    "print(f\"Final deliverable successfully saved to: {output_path}\")\n",
    "\n",
    "# 3. Display a sample of the final saved data\n",
    "print(\"\\n--- Displaying a sample of the final deliverable ---\")\n",
    "display(final_deliverable_df.head())"
   ]
  },
  {
   "cell_type": "markdown",
   "id": "958db030-773f-4881-ab11-fc4480ea2acc",
   "metadata": {},
   "source": [
    "## Step 6: Model Performance Evaluation\n",
    "\n",
    "With my `final_risk_label` generated by the model and my `human_label` prepared as a ground truth \"answer key,\" I can now perform a final, quantitative evaluation. This will allow me to objectively measure how well my Triage model performed against my holistic, context-aware analysis.\n",
    "\n",
    "### 6.1 Load and Merge Datasets\n",
    "\n",
    "First, I will load both my model's final output and my ground truth file, then merge them together on their common ID."
   ]
  },
  {
   "cell_type": "code",
   "execution_count": 22,
   "id": "320486eb-0644-4d14-995e-f7cc61240b52",
   "metadata": {
    "tags": []
   },
   "outputs": [
    {
     "name": "stdout",
     "output_type": "stream",
     "text": [
      "Data loaded and merged successfully.\n"
     ]
    },
    {
     "data": {
      "text/html": [
       "<div>\n",
       "<style scoped>\n",
       "    .dataframe tbody tr th:only-of-type {\n",
       "        vertical-align: middle;\n",
       "    }\n",
       "\n",
       "    .dataframe tbody tr th {\n",
       "        vertical-align: top;\n",
       "    }\n",
       "\n",
       "    .dataframe thead th {\n",
       "        text-align: right;\n",
       "    }\n",
       "</style>\n",
       "<table border=\"1\" class=\"dataframe\">\n",
       "  <thead>\n",
       "    <tr style=\"text-align: right;\">\n",
       "      <th></th>\n",
       "      <th>doc_index</th>\n",
       "      <th>human_label</th>\n",
       "      <th>final_risk_label</th>\n",
       "    </tr>\n",
       "  </thead>\n",
       "  <tbody>\n",
       "    <tr>\n",
       "      <th>0</th>\n",
       "      <td>0</td>\n",
       "      <td>high</td>\n",
       "      <td>low</td>\n",
       "    </tr>\n",
       "    <tr>\n",
       "      <th>1</th>\n",
       "      <td>1</td>\n",
       "      <td>high</td>\n",
       "      <td>low</td>\n",
       "    </tr>\n",
       "    <tr>\n",
       "      <th>2</th>\n",
       "      <td>2</td>\n",
       "      <td>low</td>\n",
       "      <td>low</td>\n",
       "    </tr>\n",
       "    <tr>\n",
       "      <th>3</th>\n",
       "      <td>3</td>\n",
       "      <td>medium</td>\n",
       "      <td>low</td>\n",
       "    </tr>\n",
       "    <tr>\n",
       "      <th>4</th>\n",
       "      <td>4</td>\n",
       "      <td>medium</td>\n",
       "      <td>low</td>\n",
       "    </tr>\n",
       "  </tbody>\n",
       "</table>\n",
       "</div>"
      ],
      "text/plain": [
       "   doc_index human_label final_risk_label\n",
       "0          0        high              low\n",
       "1          1        high              low\n",
       "2          2         low              low\n",
       "3          3      medium              low\n",
       "4          4      medium              low"
      ]
     },
     "metadata": {},
     "output_type": "display_data"
    }
   ],
   "source": [
    "# --- Load and Merge Datasets for Evaluation ---\n",
    "\n",
    "try:\n",
    "    # 1. Define the correct paths using pathlib for robustness\n",
    "    processed_dir = Path(DATA_DIR) / \"processed\"\n",
    "    model_results_path = processed_dir / \"decisions_with_risk_labels.csv\"\n",
    "    ground_truth_path = Path(DATA_DIR) / \"ground_truth_labels.csv\"\n",
    "\n",
    "    # 2. Load the data from the specified paths\n",
    "    model_results_df = pd.read_csv(model_results_path)\n",
    "    ground_truth_df = pd.read_csv(ground_truth_path)\n",
    "\n",
    "    # 3. Merge the two DataFrames to align model predictions with human labels\n",
    "    #    The 'doc_index' column is the key for joining them.\n",
    "    eval_df = pd.merge(model_results_df, ground_truth_df, on='doc_index')\n",
    "\n",
    "    # 4. Verification: Display a sample of the merged evaluation data\n",
    "    print(\"Data loaded and merged successfully.\")\n",
    "    display(eval_df[['doc_index', 'human_label', 'final_risk_label']].head())\n",
    "\n",
    "except FileNotFoundError as e:\n",
    "    print(f\"Error: A required data file was not found.\")\n",
    "    print(f\"   Details: {e}\")\n",
    "    print(\"\\nPlease ensure all necessary CSV files exist in the 'data/processed/' and 'data/' directories.\")"
   ]
  },
  {
   "cell_type": "markdown",
   "id": "1daa8e1e-429e-4281-b389-792fc3222783",
   "metadata": {},
   "source": [
    "### A Note on Evaluation Strategy\n",
    "\n",
    "In a real-world scenario with thousands of documents, the dataset would likely be highly imbalanced (e.g., many `low` risk cases and very few `high` risk cases). In that situation, the best practice for creating a ground truth set is **stratified sampling**. This would involve taking a random sample from each predicted category (`high`, `medium`, `low`) to ensure that the rare but critical `high` risk cases are properly represented in the evaluation.\n",
    "\n",
    "However, since my dataset for this project is a manageable 59 documents, I can perform a **full population review**. This is a more robust approach for this specific project, as it allows me to create a complete ground truth \"answer key\" and measure my model's exact performance without any sampling error.\n",
    "\n",
    "The following evaluation is therefore based on a ground truth set covering 100% of the data."
   ]
  },
  {
   "cell_type": "markdown",
   "id": "bd097bcb-2825-4464-a112-d93e91c31207",
   "metadata": {
    "tags": []
   },
   "source": [
    "### 6.2 Confusion Matrix\n",
    "\n",
    "A confusion matrix is the best way for me to visualize the performance of my classification model. It shows exactly where the model was correct and where it was \"confused.\"\n",
    "\n",
    "* The **rows** will represent the **True Label** (from my manual review).\n",
    "* The **columns** will represent the **Model's Prediction**.\n",
    "* The diagonal from top-left to bottom-right shows all the correct predictions."
   ]
  },
  {
   "cell_type": "code",
   "execution_count": 50,
   "id": "9f58fc3e-38c7-455e-a649-0bf6c3c7f792",
   "metadata": {},
   "outputs": [
    {
     "name": "stdout",
     "output_type": "stream",
     "text": [
      "--- Confusion Matrix ---\n"
     ]
    },
    {
     "data": {
      "image/png": "[encoded data removed]",
      "text/plain": [
       "<Figure size 640x480 with 2 Axes>"
      ]
     },
     "metadata": {},
     "output_type": "display_data"
    }
   ],
   "source": [
    "# Define the \"true\" answers and the model's \"predicted\" answers\n",
    "y_true = eval_df['human_label']\n",
    "y_pred = eval_df['final_risk_label']\n",
    "\n",
    "# Define the order of your labels for the matrix axes so it's easy to read\n",
    "labels = ['high', 'medium', 'low']\n",
    "\n",
    "# Generate and display the matrix\n",
    "cm = confusion_matrix(y_true, y_pred, labels=labels)\n",
    "disp = ConfusionMatrixDisplay(confusion_matrix=cm, display_labels=labels)\n",
    "\n",
    "print(\"--- Confusion Matrix ---\")\n",
    "disp.plot(cmap=plt.cm.Blues)\n",
    "plt.show()"
   ]
  },
  {
   "cell_type": "markdown",
   "id": "6d7a7a49-96d0-455b-9c9f-b15e1101de31",
   "metadata": {},
   "source": [
    "### 6.3 Precision & Recall Report\n",
    "\n",
    "From the confusion matrix, I can calculate the key performance metrics. The `classification_report` from scikit-learn does this for us automatically.\n",
    "\n",
    "* **Precision:** \"When the model predicted `high`, how often was it right?\" (Measures reliability)\n",
    "* **Recall:** \"Of all the cases that were truly `high`, how many did the model find?\" (Measures completeness)\n",
    "* **F1-Score:** A weighted average of Precision and Recall, providing a single score for performance."
   ]
  },
  {
   "cell_type": "code",
   "execution_count": 52,
   "id": "c7a89d5d-6543-4edb-987d-e8001409212a",
   "metadata": {},
   "outputs": [
    {
     "name": "stdout",
     "output_type": "stream",
     "text": [
      "--- Classification Report ---\n",
      "              precision    recall  f1-score   support\n",
      "\n",
      "        high       0.75      0.40      0.52        15\n",
      "      medium       0.55      0.27      0.36        22\n",
      "         low       0.47      0.86      0.61        22\n",
      "\n",
      "    accuracy                           0.53        59\n",
      "   macro avg       0.59      0.51      0.50        59\n",
      "weighted avg       0.57      0.53      0.50        59\n",
      "\n"
     ]
    }
   ],
   "source": [
    "# Use the same variables and labels from the previous step\n",
    "print(\"--- Classification Report ---\")\n",
    "print(classification_report(y_true, y_pred, labels=labels))"
   ]
  },
  {
   "cell_type": "markdown",
   "id": "df06b7a0-7f33-4d1b-ae30-4a563e6a57fb",
   "metadata": {},
   "source": [
    "## Step 7: Conclusion & Next Steps\n",
    "\n",
    "This notebook successfully developed, refined, and evaluated a rule-based Triage model. The process validated that a rules-based approach can effectively flag high-risk legal documents and provided a quantitative baseline for its performance.\n",
    "\n",
    "### Final Performance Evaluation\n",
    "\n",
    "The quantitative evaluation provides a clear performance baseline for the model and validates the project's strategic approach. The key findings are for the **`high` risk category**, which is the most critical for any compliance review.\n",
    "\n",
    "* **Key Strength (Precision): 75% for `high` risk cases.**\n",
    "    * This indicates that when the model flags a case as high priority, the flag is reliable and warrants attention.\n",
    "\n",
    "* **Area for Improvement (Recall): 40% for `high` risk cases.**\n",
    "    * This result was expected due to my targeted refinement strategy. It confirms the model is not yet comprehensive and provides a clear, data-driven justification for moving to Phase 2, where the primary goal will be to use more advanced techniques to improve recall.\n",
    "### Next Steps Justified by This Analysis\n",
    "\n",
    "The results of this evaluation provide a clear, data-driven mandate for the next phase of the project:\n",
    "\n",
    "1.  **Address Recall with Semantic Search:** The top priority is to use more advanced NLP techniques to find the cases that the current rule set misses. I will implement a semantic search pipeline using SBERT and FAISS to find conceptually similar documents, directly addressing the low recall.\n",
    "2.  **Benchmark Against Advanced Methods:** Using the `ground_truth_labels.csv` file as a high-quality evaluation set, I will benchmark the rule-based model against an LLM-based classifier (using a RAG approach) to objectively compare the two methods."
   ]
  },
  {
   "cell_type": "code",
   "execution_count": null,
   "id": "d78ed8e0-077f-45c2-9789-400a92a0c083",
   "metadata": {},
   "outputs": [],
   "source": []
  }
 ],
 "metadata": {
  "kernelspec": {
   "display_name": "Python (Compliance Project)",
   "language": "python",
   "name": "compliance_env"
  },
  "language_info": {
   "codemirror_mode": {
    "name": "ipython",
    "version": 3
   },
   "file_extension": ".py",
   "mimetype": "text/x-python",
   "name": "python",
   "nbconvert_exporter": "python",
   "pygments_lexer": "ipython3",
   "version": "3.10.18"
  }
 },
 "nbformat": 4,
 "nbformat_minor": 5
}
