{
 "cells": [
  {
   "cell_type": "markdown",
   "id": "236cf6f8-757b-4488-adab-a0a17f69fa8e",
   "metadata": {},
   "source": [
    "# Rule-Based Flagging\n",
    "\n",
    "Court rulings can have different levels of impact. Some just follow routine procedures. Others raise important questions—like whether someone’s rights were violated, whether key evidence should have been allowed, or whether a judge made a surprising decision.\n",
    "\n",
    "In this notebook we use simple, transparent rules to flag court rulings that might indicate elevated legal or policy risk — such as disputes over constitutional rights, evidentiary issues, or adverse outcomes.\n",
    "\n",
    "## Why Rule Based Flagging?\n",
    "\n",
    "**Transparent and interpretable**: Rule-based labels are easy to understand, explain, and audit.\n",
    "\n",
    "**Quick to implement**: No need for large training datasets—rules can be written and applied immediately.\n",
    "\n",
    "**Reliable for known patterns**: Especially effective in domains where specific phrases strongly indicate meaning (e.g., “terminated parental rights” → high risk).\n",
    "\n",
    "**Great for bootstrapping**: Provides an initial labeled dataset that can help train or evaluate LLMs.\n",
    "\n",
    "**Valuable in regulated settings**: Ensures consistency and compliance in domains like law, healthcare, or finance.\n"
   ]
  },
  {
   "cell_type": "code",
   "execution_count": 2,
   "id": "cc899867-e980-4280-984a-8da31aa3bc44",
   "metadata": {
    "tags": []
   },
   "outputs": [],
   "source": [
    "# --- Set working directory ---\n",
    "import os\n",
    "os.chdir(\"/Users/lidasmac/compliance-nlp/\")  # Use only if necessary (e.g., running from a notebook)\n",
    "\n",
    "# --- Standard Library Imports ---\n",
    "import pandas as pd\n",
    "import re\n",
    "\n",
    "# --- Custom Module Imports ---\n",
    "from src.rule_based_labeling import (\n",
    "    label_risk,\n",
    "    find_matched_phrases\n",
    ")\n",
    "# --- Load data ---\n",
    "df = pd.read_csv(\"data/party_and_decision_metadata.csv\")\n",
    "labels_df = pd.read_csv(\"data/labels.csv\")"
   ]
  },
  {
   "cell_type": "markdown",
   "id": "bbf06baa-1c8b-4efa-bbce-99355abf2fef",
   "metadata": {},
   "source": [
    "## Step 1: Apply Rule-Based Labels\n",
    "\n",
    "We will scan each decision text for known trigger phrases using our label dictionary. If a phrase is found, we assign the corresponding risk label. For now, we use a simple matching strategy to check if any phrase appears in the text."
   ]
  },
  {
   "cell_type": "code",
   "execution_count": 3,
   "id": "a59836c1-4300-4698-b1e6-e158e592683b",
   "metadata": {
    "tags": []
   },
   "outputs": [
    {
     "data": {
      "text/html": [
       "<div>\n",
       "<style scoped>\n",
       "    .dataframe tbody tr th:only-of-type {\n",
       "        vertical-align: middle;\n",
       "    }\n",
       "\n",
       "    .dataframe tbody tr th {\n",
       "        vertical-align: top;\n",
       "    }\n",
       "\n",
       "    .dataframe thead th {\n",
       "        text-align: right;\n",
       "    }\n",
       "</style>\n",
       "<table border=\"1\" class=\"dataframe\">\n",
       "  <thead>\n",
       "    <tr style=\"text-align: right;\">\n",
       "      <th></th>\n",
       "      <th>decision_text</th>\n",
       "      <th>rule_based_label</th>\n",
       "    </tr>\n",
       "  </thead>\n",
       "  <tbody>\n",
       "    <tr>\n",
       "      <th>0</th>\n",
       "      <td>appeal by the defendant from a judgment of the...</td>\n",
       "      <td>high</td>\n",
       "    </tr>\n",
       "    <tr>\n",
       "      <th>1</th>\n",
       "      <td>in an action, in effect, to recover damages fo...</td>\n",
       "      <td>high</td>\n",
       "    </tr>\n",
       "    <tr>\n",
       "      <th>2</th>\n",
       "      <td>in an action, inter alia, for injunctive relie...</td>\n",
       "      <td>low</td>\n",
       "    </tr>\n",
       "    <tr>\n",
       "      <th>3</th>\n",
       "      <td>in related proceedings pursuant to family cour...</td>\n",
       "      <td>low</td>\n",
       "    </tr>\n",
       "    <tr>\n",
       "      <th>4</th>\n",
       "      <td>in an action to foreclose a mortgage, the defe...</td>\n",
       "      <td>low</td>\n",
       "    </tr>\n",
       "  </tbody>\n",
       "</table>\n",
       "</div>"
      ],
      "text/plain": [
       "                                       decision_text rule_based_label\n",
       "0  appeal by the defendant from a judgment of the...             high\n",
       "1  in an action, in effect, to recover damages fo...             high\n",
       "2  in an action, inter alia, for injunctive relie...              low\n",
       "3  in related proceedings pursuant to family cour...              low\n",
       "4  in an action to foreclose a mortgage, the defe...              low"
      ]
     },
     "execution_count": 3,
     "metadata": {},
     "output_type": "execute_result"
    }
   ],
   "source": [
    "# --- Normalize text columns ---\n",
    "df[\"decision_text\"] = df[\"decision_text\"].fillna(\"\").str.lower()\n",
    "\n",
    "# --- Load label dictionary ---\n",
    "label_dict = dict(zip(labels_df[\"phrase\"].str.lower(), labels_df[\"label\"].str.lower()))\n",
    "\n",
    "\n",
    "# --- Apply labeling ---\n",
    "df[\"rule_based_label\"] = df[\"decision_text\"].apply(lambda x: label_risk(x, label_dict))\n",
    "\n",
    "# --- Preview result ---\n",
    "df[[\"decision_text\", \"rule_based_label\"]].head()\n"
   ]
  },
  {
   "cell_type": "markdown",
   "id": "db37aa04-e2e6-4166-95f5-c64382800274",
   "metadata": {},
   "source": [
    "## Step 2: Apply Rule-Based Phrase Matching\n",
    "\n",
    "Using the dictionary of labeled phrases, we scan each decision text and record any phrases that appear. This helps us understand why a ruling might be flagged and supports later stages like prioritization, evaluation, and LLM-assisted refinement.\n"
   ]
  },
  {
   "cell_type": "code",
   "execution_count": 4,
   "id": "9538c9ee-f542-4a9d-bfdc-66eb62305023",
   "metadata": {
    "tags": []
   },
   "outputs": [],
   "source": [
    "# --- Prepare phrase-label dictionary ---\n",
    "phrase_to_label = dict(zip(labels_df[\"phrase\"], labels_df[\"label\"]))\n",
    "\n",
    "# --- Apply to your DataFrame ---\n",
    "df[\"flag_phrases\"] = df[\"decision_text\"].fillna(\"\").apply(lambda x: find_matched_phrases(x, phrase_to_label))"
   ]
  },
  {
   "cell_type": "code",
   "execution_count": 5,
   "id": "4d4f35bb-68e6-46d9-a81a-80d723318c67",
   "metadata": {
    "tags": []
   },
   "outputs": [
    {
     "data": {
      "text/html": [
       "<div>\n",
       "<style scoped>\n",
       "    .dataframe tbody tr th:only-of-type {\n",
       "        vertical-align: middle;\n",
       "    }\n",
       "\n",
       "    .dataframe tbody tr th {\n",
       "        vertical-align: top;\n",
       "    }\n",
       "\n",
       "    .dataframe thead th {\n",
       "        text-align: right;\n",
       "    }\n",
       "</style>\n",
       "<table border=\"1\" class=\"dataframe\">\n",
       "  <thead>\n",
       "    <tr style=\"text-align: right;\">\n",
       "      <th></th>\n",
       "      <th>doc_index</th>\n",
       "      <th>party_line</th>\n",
       "      <th>decision_text</th>\n",
       "      <th>rule_based_label</th>\n",
       "      <th>flag_phrases</th>\n",
       "    </tr>\n",
       "  </thead>\n",
       "  <tbody>\n",
       "    <tr>\n",
       "      <th>0</th>\n",
       "      <td>0</td>\n",
       "      <td>The People of the State of New York, responden...</td>\n",
       "      <td>appeal by the defendant from a judgment of the...</td>\n",
       "      <td>high</td>\n",
       "      <td>[ineffective assistance of counsel]</td>\n",
       "    </tr>\n",
       "    <tr>\n",
       "      <th>1</th>\n",
       "      <td>1</td>\n",
       "      <td>Maria Airene Pantanilla, respondent, v Guiller...</td>\n",
       "      <td>in an action, in effect, to recover damages fo...</td>\n",
       "      <td>high</td>\n",
       "      <td>[default judgment]</td>\n",
       "    </tr>\n",
       "    <tr>\n",
       "      <th>2</th>\n",
       "      <td>2</td>\n",
       "      <td>Franklin Carroll, LLC, appellant, v Carroll De...</td>\n",
       "      <td>in an action, inter alia, for injunctive relie...</td>\n",
       "      <td>low</td>\n",
       "      <td>[]</td>\n",
       "    </tr>\n",
       "    <tr>\n",
       "      <th>3</th>\n",
       "      <td>3</td>\n",
       "      <td>Pamela De Phillips, etc., appellant, v Nicole ...</td>\n",
       "      <td>in related proceedings pursuant to family cour...</td>\n",
       "      <td>low</td>\n",
       "      <td>[]</td>\n",
       "    </tr>\n",
       "    <tr>\n",
       "      <th>4</th>\n",
       "      <td>4</td>\n",
       "      <td>Bank of America, N.A., respondent, v Dale Bent...</td>\n",
       "      <td>in an action to foreclose a mortgage, the defe...</td>\n",
       "      <td>low</td>\n",
       "      <td>[]</td>\n",
       "    </tr>\n",
       "  </tbody>\n",
       "</table>\n",
       "</div>"
      ],
      "text/plain": [
       "   doc_index                                         party_line  \\\n",
       "0          0  The People of the State of New York, responden...   \n",
       "1          1  Maria Airene Pantanilla, respondent, v Guiller...   \n",
       "2          2  Franklin Carroll, LLC, appellant, v Carroll De...   \n",
       "3          3  Pamela De Phillips, etc., appellant, v Nicole ...   \n",
       "4          4  Bank of America, N.A., respondent, v Dale Bent...   \n",
       "\n",
       "                                       decision_text rule_based_label  \\\n",
       "0  appeal by the defendant from a judgment of the...             high   \n",
       "1  in an action, in effect, to recover damages fo...             high   \n",
       "2  in an action, inter alia, for injunctive relie...              low   \n",
       "3  in related proceedings pursuant to family cour...              low   \n",
       "4  in an action to foreclose a mortgage, the defe...              low   \n",
       "\n",
       "                          flag_phrases  \n",
       "0  [ineffective assistance of counsel]  \n",
       "1                   [default judgment]  \n",
       "2                                   []  \n",
       "3                                   []  \n",
       "4                                   []  "
      ]
     },
     "execution_count": 5,
     "metadata": {},
     "output_type": "execute_result"
    }
   ],
   "source": [
    "df.head()"
   ]
  },
  {
   "cell_type": "markdown",
   "id": "a2b0f91e-fb2c-4bec-aab8-7bc55868727b",
   "metadata": {
    "tags": []
   },
   "source": [
    "## Step 3: Save Labeled Output\n",
    "\n",
    "Now that we’ve applied our rule-based labeling logic, we save the resulting DataFrame to the `data/clean/` folder. This allows us to reuse the labeled output in future steps like evaluation, semantic expansion, or model-assisted review."
   ]
  },
  {
   "cell_type": "code",
   "execution_count": 8,
   "id": "aafad6d8-0fdb-44c3-aa6f-45f7bbee2d00",
   "metadata": {
    "tags": []
   },
   "outputs": [
    {
     "name": "stdout",
     "output_type": "stream",
     "text": [
      "Saved labeled data to data/clean/labeled_rule_based.csv\n"
     ]
    }
   ],
   "source": [
    "# --- Save the labeled DataFrame ---\n",
    "output_path = \"data/clean/labeled_rule_based.csv\"\n",
    "df.to_csv(output_path, index=False)\n",
    "\n",
    "print(f\"Saved labeled data to {output_path}\")"
   ]
  },
  {
   "cell_type": "code",
   "execution_count": null,
   "id": "50d391a8-bcbf-4a09-9824-7cb1d87dd90e",
   "metadata": {},
   "outputs": [],
   "source": []
  }
 ],
 "metadata": {
  "kernelspec": {
   "display_name": "Python 3 (ipykernel)",
   "language": "python",
   "name": "python3"
  },
  "language_info": {
   "codemirror_mode": {
    "name": "ipython",
    "version": 3
   },
   "file_extension": ".py",
   "mimetype": "text/x-python",
   "name": "python",
   "nbconvert_exporter": "python",
   "pygments_lexer": "ipython3",
   "version": "3.11.3"
  }
 },
 "nbformat": 4,
 "nbformat_minor": 5
}
