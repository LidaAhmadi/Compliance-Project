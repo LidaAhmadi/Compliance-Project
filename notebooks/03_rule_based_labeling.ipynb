{
 "cells": [
  {
   "cell_type": "markdown",
   "id": "236cf6f8-757b-4488-adab-a0a17f69fa8e",
   "metadata": {},
   "source": [
    "# Rule-Based Flagging\n",
    "\n",
    "Court rulings can have different levels of impact. Some just follow routine procedures. Others raise important questions, like whether someone’s rights were violated, whether key evidence should have been allowed, or whether a judge made a surprising decision.\n",
    "\n",
    "In this notebook we use simple, transparent rules to flag decisions that may contain procedural errors, unfair limitations on parties, or other mistakes that warrant further review. To achieve this, we will develop a labeling system based on the presence of specific legal phrases and procedural terms within the text of the rulings.\n",
    "\n",
    "## Why Rule Based Flagging?\n",
    "\n",
    "**Transparent for Legal Review**: Each flag can be traced back to the exact rule and phrase that triggered it, providing a clear and auditable trail for legal analysts.\n",
    "\n",
    "**Reliable for known Legal patterns**: Especially effective in legal domains where specific phrases strongly indicate meaning (e.g., “terminated parental rights” → high risk).\n",
    "\n",
    "## Project Objective & Plan\n",
    "\n",
    "The goal of this notebook is to process a dataset of court decision texts and assign each document a **priority flag** ('High', 'Medium', 'Low') based on a set of predefined rules.\n",
    "\n",
    "Our process will be as follows:\n",
    "\n",
    "1. **Load & Explore Data**: We will load two key datasets: the main DataFrame of court rulings, previously cleaned in our `02_load_and_clean_rulings.ipynb` notebook, and our initial rule set from `labels.csv`. We will then perform a brief exploration of both to ensure they are loaded correctly.\n",
    "\n",
    "2. **Apply Initial Model & Refine Rules**: Perform a first run of the Triage model, analyze the results, and then update the rule set based on a manual review.\n",
    "3. **Apply Final Model & Analyze Results**: Re-run the Triage model with the improved rules and compare the \"before and after\" results to demonstrate the impact of the refinement.\n",
    "4. **Generate Final Deliverable**: Save the final, annotated dataset as the key output of this project phase.\n"
   ]
  },
  {
   "cell_type": "code",
   "execution_count": 1,
   "id": "b486793d-f4d1-4b74-8cd1-08af6748839c",
   "metadata": {},
   "outputs": [],
   "source": [
    "import os\n",
    "os.chdir(\"/Users/lidasmac/compliance-nlp/\")"
   ]
  },
  {
   "cell_type": "code",
   "execution_count": 27,
   "id": "52977c5c-ade3-4572-88b7-b2c161945068",
   "metadata": {
    "tags": []
   },
   "outputs": [
    {
     "name": "stdout",
     "output_type": "stream",
     "text": [
      "The autoreload extension is already loaded. To reload it, use:\n",
      "  %reload_ext autoreload\n"
     ]
    }
   ],
   "source": [
    "# --- Standard Library Imports ---\n",
    "import os\n",
    "import re\n",
    "import pandas as pd\n",
    "from sklearn.metrics import confusion_matrix, ConfusionMatrixDisplay, classification_report\n",
    "import matplotlib.pyplot as plt\n",
    "\n",
    "# --- Custom Module Imports ---\n",
    "from src.rule_based_labeling import (\n",
    "    find_matched_phrases,\n",
    "    find_highest_risk_label\n",
    ")\n",
    "\n",
    "# --- Pandas Display Options ---\n",
    "pd.set_option('display.max_rows', 100)\n",
    "pd.set_option('display.max_columns', 100)\n",
    "pd.set_option('display.max_colwidth', 150)\n",
    "\n",
    "# --- Autoreload  ---\n",
    "# Automatically reload your custom functions when you change them.\n",
    "%load_ext autoreload\n",
    "%autoreload 2"
   ]
  },
  {
   "cell_type": "markdown",
   "id": "0315df67-8dfc-4a03-8105-89007d490484",
   "metadata": {},
   "source": [
    "## Step 1: Data Loading & Initial Exploration\n",
    "\n",
    "In this step, we will load our two primary data sources:\n",
    "\n",
    "1. **Court Rulings (`party_and_decision_metadata.csv`)**: This is our main dataset. Each row represents a specific court case and includes metadata and the text of the court's decision.\n",
    "2. **Rule Labels (`labels.csv`)**: This file contains the phrases that form our rule-based system. Each row defines a specific rule, and its corresponding risk label."
   ]
  },
  {
   "cell_type": "code",
   "execution_count": 3,
   "id": "f966c404-1c3c-4d1c-8a72-7587132cb505",
   "metadata": {
    "tags": []
   },
   "outputs": [
    {
     "name": "stdout",
     "output_type": "stream",
     "text": [
      "Data loaded successfully!\n"
     ]
    }
   ],
   "source": [
    "# --- Load Data ---\n",
    "try:\n",
    "    df = pd.read_csv(\"data/party_and_decision_metadata.csv\")\n",
    "    labels_df = pd.read_csv(\"data/labels.csv\")\n",
    "    print(\"Data loaded successfully!\")\n",
    "except FileNotFoundError as e:\n",
    "    print(f\"Error: {e}\")\n",
    "    print(\"\\nPlease ensure you are running this notebook from the project root directory 'compliance-nlp/'\")"
   ]
  },
  {
   "cell_type": "markdown",
   "id": "eba07ba3-2477-4512-9aa1-99cb1fe7e186",
   "metadata": {},
   "source": [
    "### 1.1 Inspect the Main Dataset\n",
    "\n",
    "Let's start by examining the main `df` DataFrame to understand its structure, data types, and check for any missing values."
   ]
  },
  {
   "cell_type": "code",
   "execution_count": 4,
   "id": "f87cf5ab-c547-4c48-ac64-2fe0d1fad27a",
   "metadata": {
    "tags": []
   },
   "outputs": [
    {
     "name": "stdout",
     "output_type": "stream",
     "text": [
      "<class 'pandas.core.frame.DataFrame'>\n",
      "RangeIndex: 59 entries, 0 to 58\n",
      "Data columns (total 3 columns):\n",
      " #   Column         Non-Null Count  Dtype \n",
      "---  ------         --------------  ----- \n",
      " 0   doc_index      59 non-null     int64 \n",
      " 1   party_line     59 non-null     object\n",
      " 2   decision_text  59 non-null     object\n",
      "dtypes: int64(1), object(2)\n",
      "memory usage: 1.5+ KB\n"
     ]
    }
   ],
   "source": [
    "# Get a concise summary of the DataFrame\n",
    "df.info()"
   ]
  },
  {
   "cell_type": "code",
   "execution_count": 5,
   "id": "1f5ce128-8ca4-477b-aa3c-444611b8e8b1",
   "metadata": {
    "tags": []
   },
   "outputs": [
    {
     "data": {
      "text/html": [
       "<div>\n",
       "<style scoped>\n",
       "    .dataframe tbody tr th:only-of-type {\n",
       "        vertical-align: middle;\n",
       "    }\n",
       "\n",
       "    .dataframe tbody tr th {\n",
       "        vertical-align: top;\n",
       "    }\n",
       "\n",
       "    .dataframe thead th {\n",
       "        text-align: right;\n",
       "    }\n",
       "</style>\n",
       "<table border=\"1\" class=\"dataframe\">\n",
       "  <thead>\n",
       "    <tr style=\"text-align: right;\">\n",
       "      <th></th>\n",
       "      <th>doc_index</th>\n",
       "      <th>party_line</th>\n",
       "      <th>decision_text</th>\n",
       "    </tr>\n",
       "  </thead>\n",
       "  <tbody>\n",
       "    <tr>\n",
       "      <th>0</th>\n",
       "      <td>0</td>\n",
       "      <td>The People of the State of New York, respondent, v Nicholas Palm, appellant.</td>\n",
       "      <td>Appeal by the defendant from a judgment of the County Court, Orange County (Craig S. Brown, J.), rendered May 16, 2023, convicting him of criminal...</td>\n",
       "    </tr>\n",
       "    <tr>\n",
       "      <th>1</th>\n",
       "      <td>1</td>\n",
       "      <td>Maria Airene Pantanilla, respondent, v Guillerma Yuson, appellant.</td>\n",
       "      <td>In an action, in effect, to recover damages for money had and received and unjust enrichment, the defendant appeals from a judgment of the Supreme...</td>\n",
       "    </tr>\n",
       "    <tr>\n",
       "      <th>2</th>\n",
       "      <td>2</td>\n",
       "      <td>Franklin Carroll, LLC, appellant, v Carroll Development Plaza, LLC, respondent.</td>\n",
       "      <td>In an action, inter alia, for injunctive relief and to recover damages for trespass, the plaintiff appeals from an order of the Supreme Court, Kin...</td>\n",
       "    </tr>\n",
       "    <tr>\n",
       "      <th>3</th>\n",
       "      <td>3</td>\n",
       "      <td>Pamela De Phillips, etc., appellant, v Nicole Pascone Perez, respondent.</td>\n",
       "      <td>In related proceedings pursuant to Family Court Act article 8, the petitioner appeals from an order of the Family Court, Kings County (Sharon N. C...</td>\n",
       "    </tr>\n",
       "    <tr>\n",
       "      <th>4</th>\n",
       "      <td>4</td>\n",
       "      <td>Bank of America, N.A., respondent, v Dale Bente, appellant, et al., defendants.</td>\n",
       "      <td>In an action to foreclose a mortgage, the defendant Dale Bente appeals from (1) an order of the Supreme Court, Suffolk County (S. Betsy Heckman To...</td>\n",
       "    </tr>\n",
       "  </tbody>\n",
       "</table>\n",
       "</div>"
      ],
      "text/plain": [
       "   doc_index  \\\n",
       "0          0   \n",
       "1          1   \n",
       "2          2   \n",
       "3          3   \n",
       "4          4   \n",
       "\n",
       "                                                                        party_line  \\\n",
       "0     The People of the State of New York, respondent, v Nicholas Palm, appellant.   \n",
       "1               Maria Airene Pantanilla, respondent, v Guillerma Yuson, appellant.   \n",
       "2  Franklin Carroll, LLC, appellant, v Carroll Development Plaza, LLC, respondent.   \n",
       "3         Pamela De Phillips, etc., appellant, v Nicole Pascone Perez, respondent.   \n",
       "4  Bank of America, N.A., respondent, v Dale Bente, appellant, et al., defendants.   \n",
       "\n",
       "                                                                                                                                           decision_text  \n",
       "0  Appeal by the defendant from a judgment of the County Court, Orange County (Craig S. Brown, J.), rendered May 16, 2023, convicting him of criminal...  \n",
       "1  In an action, in effect, to recover damages for money had and received and unjust enrichment, the defendant appeals from a judgment of the Supreme...  \n",
       "2  In an action, inter alia, for injunctive relief and to recover damages for trespass, the plaintiff appeals from an order of the Supreme Court, Kin...  \n",
       "3  In related proceedings pursuant to Family Court Act article 8, the petitioner appeals from an order of the Family Court, Kings County (Sharon N. C...  \n",
       "4  In an action to foreclose a mortgage, the defendant Dale Bente appeals from (1) an order of the Supreme Court, Suffolk County (S. Betsy Heckman To...  "
      ]
     },
     "execution_count": 5,
     "metadata": {},
     "output_type": "execute_result"
    }
   ],
   "source": [
    "# Display the first few rows to see the data's format\n",
    "df.head()"
   ]
  },
  {
   "cell_type": "markdown",
   "id": "72ed6aa3-dafb-4fb7-89ef-82bc3d569212",
   "metadata": {},
   "source": [
    "The `.info()` output suggests our dataset is complete. As a final data quality check, we'll run an explicit count of missing (`NaN`) values to definitively confirm this."
   ]
  },
  {
   "cell_type": "code",
   "execution_count": 6,
   "id": "e30b27a2-2ecd-4348-b728-6bef31392cf5",
   "metadata": {
    "tags": []
   },
   "outputs": [
    {
     "data": {
      "text/plain": [
       "doc_index        0\n",
       "party_line       0\n",
       "decision_text    0\n",
       "dtype: int64"
      ]
     },
     "execution_count": 6,
     "metadata": {},
     "output_type": "execute_result"
    }
   ],
   "source": [
    "# Count null values in each column.\n",
    "df.isnull().sum()"
   ]
  },
  {
   "cell_type": "markdown",
   "id": "08813aa2-6626-44e2-9898-4a9b546fc7f9",
   "metadata": {},
   "source": [
    "### 1.2 Inspect the Rules Dataset (`labels_df`)\n",
    "\n",
    "Now we'll perform the same quick inspection on our `labels_df` to understand how our rules—the phrases and their corresponding labels—are structured."
   ]
  },
  {
   "cell_type": "code",
   "execution_count": 7,
   "id": "07888e29-154d-47a7-a181-70ebf999b26a",
   "metadata": {},
   "outputs": [
    {
     "name": "stdout",
     "output_type": "stream",
     "text": [
      "<class 'pandas.core.frame.DataFrame'>\n",
      "RangeIndex: 16 entries, 0 to 15\n",
      "Data columns (total 2 columns):\n",
      " #   Column  Non-Null Count  Dtype \n",
      "---  ------  --------------  ----- \n",
      " 0   phrase  16 non-null     object\n",
      " 1   label   16 non-null     object\n",
      "dtypes: object(2)\n",
      "memory usage: 388.0+ bytes\n"
     ]
    }
   ],
   "source": [
    "# Get a concise summary of the labels_df DataFrame\n",
    "labels_df.info()"
   ]
  },
  {
   "cell_type": "code",
   "execution_count": 8,
   "id": "0065502c-8b67-42f1-b4fe-fb7c2e914792",
   "metadata": {},
   "outputs": [
    {
     "data": {
      "text/html": [
       "<div>\n",
       "<style scoped>\n",
       "    .dataframe tbody tr th:only-of-type {\n",
       "        vertical-align: middle;\n",
       "    }\n",
       "\n",
       "    .dataframe tbody tr th {\n",
       "        vertical-align: top;\n",
       "    }\n",
       "\n",
       "    .dataframe thead th {\n",
       "        text-align: right;\n",
       "    }\n",
       "</style>\n",
       "<table border=\"1\" class=\"dataframe\">\n",
       "  <thead>\n",
       "    <tr style=\"text-align: right;\">\n",
       "      <th></th>\n",
       "      <th>phrase</th>\n",
       "      <th>label</th>\n",
       "    </tr>\n",
       "  </thead>\n",
       "  <tbody>\n",
       "    <tr>\n",
       "      <th>0</th>\n",
       "      <td>parental rights terminated</td>\n",
       "      <td>high</td>\n",
       "    </tr>\n",
       "    <tr>\n",
       "      <th>1</th>\n",
       "      <td>default judgment</td>\n",
       "      <td>high</td>\n",
       "    </tr>\n",
       "    <tr>\n",
       "      <th>2</th>\n",
       "      <td>appeal dismissed</td>\n",
       "      <td>medium</td>\n",
       "    </tr>\n",
       "    <tr>\n",
       "      <th>3</th>\n",
       "      <td>order affirmed</td>\n",
       "      <td>medium</td>\n",
       "    </tr>\n",
       "    <tr>\n",
       "      <th>4</th>\n",
       "      <td>judgment reversed</td>\n",
       "      <td>low</td>\n",
       "    </tr>\n",
       "  </tbody>\n",
       "</table>\n",
       "</div>"
      ],
      "text/plain": [
       "                       phrase   label\n",
       "0  parental rights terminated    high\n",
       "1            default judgment    high\n",
       "2            appeal dismissed  medium\n",
       "3              order affirmed  medium\n",
       "4           judgment reversed     low"
      ]
     },
     "execution_count": 8,
     "metadata": {},
     "output_type": "execute_result"
    }
   ],
   "source": [
    "# Display the first few rows to see a sample of the rules\n",
    "labels_df.head()"
   ]
  },
  {
   "cell_type": "markdown",
   "id": "2b8b4cb7-034b-449e-a54b-d3ff7b434a10",
   "metadata": {},
   "source": [
    "### 1.3 Analyze the Distribution of Labels\n",
    "We need to know how many rules we have for each risk level. This helps us understand if our rule set is balanced or skewed."
   ]
  },
  {
   "cell_type": "code",
   "execution_count": 9,
   "id": "fb785adf-21a9-480f-acb1-724d204abadb",
   "metadata": {},
   "outputs": [
    {
     "data": {
      "text/plain": [
       "high      6\n",
       "medium    6\n",
       "low       4\n",
       "Name: label, dtype: int64"
      ]
     },
     "execution_count": 9,
     "metadata": {},
     "output_type": "execute_result"
    }
   ],
   "source": [
    "# Get the distribution of labels. Jupyter will auto-display the result.\n",
    "labels_df['label'].value_counts()"
   ]
  },
  {
   "cell_type": "markdown",
   "id": "041feed6-afe1-4ae3-9a17-8838375cffff",
   "metadata": {},
   "source": [
    "### 1.4 Review Example Phrases for Each Label\n",
    "Finally, to do a qualitative sanity check, let's loop through each risk level and see some of the phrases associated with it. This helps confirm our rules make intuitive sense."
   ]
  },
  {
   "cell_type": "code",
   "execution_count": 10,
   "id": "a989bc38-e6be-42ad-af5d-4c7d96dd87d8",
   "metadata": {},
   "outputs": [
    {
     "name": "stdout",
     "output_type": "stream",
     "text": [
      "Risk Level: 'high'\n",
      "  - parental rights terminated\n",
      "  - default judgment\n",
      "  - conviction affirmed\n",
      "  - custody transferred\n",
      "  - suppressed evidence\n",
      "-----------------------------------\n",
      "Risk Level: 'low'\n",
      "  - judgment reversed\n",
      "  - conviction reversed\n",
      "  - motion to dismiss granted\n",
      "  - no appeal lies\n",
      "-----------------------------------\n",
      "Risk Level: 'medium'\n",
      "  - appeal dismissed\n",
      "  - order affirmed\n",
      "  - remanded for further proceedings\n",
      "  - motion to dismiss denied\n",
      "  - best interests of the child\n",
      "-----------------------------------\n"
     ]
    }
   ],
   "source": [
    "# Group by the label and show all phrases from each group\n",
    "for label_name, group in labels_df.groupby('label'):\n",
    "    print(f\"Risk Level: '{label_name}'\")\n",
    "    for phrase in group['phrase'].head():\n",
    "        print(f\"  - {phrase}\")\n",
    "    print(\"-\" * 35)"
   ]
  },
  {
   "cell_type": "markdown",
   "id": "bbf06baa-1c8b-4efa-bbce-99355abf2fef",
   "metadata": {},
   "source": [
    "## Step 2: Apply the Rule-Based Phrase Matching\n",
    "\n",
    "Using the dictionary of labeled phrases, we scan each decision text and record any phrases that appear. This helps us understand why a ruling might be flagged and supports later stages like prioritization, evaluation, and LLM-assisted refinement."
   ]
  },
  {
   "cell_type": "markdown",
   "id": "1d7a0379-8708-4de2-b84b-66daf82bfca8",
   "metadata": {
    "tags": []
   },
   "source": [
    "### 2.1 Prepare Data for Matching\n",
    "Before we can search for phrases, we need to prepare both our source text and our rules to ensure consistent matching. We will:\n",
    "1.  Convert the `decision_text` in our main DataFrame to lowercase and handle any missing values.\n",
    "2.  Create an efficient lookup dictionary from our `labels_df`, also converting the phrases and labels to lowercase."
   ]
  },
  {
   "cell_type": "code",
   "execution_count": 11,
   "id": "a59836c1-4300-4698-b1e6-e158e592683b",
   "metadata": {
    "tags": []
   },
   "outputs": [],
   "source": [
    "# --- Normalize text columns ---\n",
    "df[\"decision_text\"] = df[\"decision_text\"].fillna(\"\").str.lower()\n",
    "\n",
    "# --- Create the rules lookup dictionary ---\n",
    "label_dict = dict(zip(labels_df[\"phrase\"].str.lower(), labels_df[\"label\"].str.lower()))"
   ]
  },
  {
   "cell_type": "markdown",
   "id": "e160fe93-dd25-4281-a464-7e31f7cfe992",
   "metadata": {},
   "source": [
    "### 2.2 Apply Phrase Matching Engine\n",
    "\n",
    "Now that our data is prepared, we will apply our custom `find_matched_phrases` function to every document. This will create a new `flag_phrases` column containing a list of all rule phrases found in each text."
   ]
  },
  {
   "cell_type": "code",
   "execution_count": 12,
   "id": "f4985036-60f9-401d-b337-5347bfed6921",
   "metadata": {
    "tags": []
   },
   "outputs": [],
   "source": [
    "# Apply the function to create the 'flag_phrases' column\n",
    "df[\"flag_phrases\"] = df[\"decision_text\"].apply(lambda text: find_matched_phrases(text, label_dict))"
   ]
  },
  {
   "cell_type": "code",
   "execution_count": 13,
   "id": "7fa3a627-b770-437b-8843-c954607ad209",
   "metadata": {
    "tags": []
   },
   "outputs": [
    {
     "data": {
      "text/html": [
       "<div>\n",
       "<style scoped>\n",
       "    .dataframe tbody tr th:only-of-type {\n",
       "        vertical-align: middle;\n",
       "    }\n",
       "\n",
       "    .dataframe tbody tr th {\n",
       "        vertical-align: top;\n",
       "    }\n",
       "\n",
       "    .dataframe thead th {\n",
       "        text-align: right;\n",
       "    }\n",
       "</style>\n",
       "<table border=\"1\" class=\"dataframe\">\n",
       "  <thead>\n",
       "    <tr style=\"text-align: right;\">\n",
       "      <th></th>\n",
       "      <th>decision_text</th>\n",
       "      <th>flag_phrases</th>\n",
       "    </tr>\n",
       "  </thead>\n",
       "  <tbody>\n",
       "    <tr>\n",
       "      <th>0</th>\n",
       "      <td>appeal by the defendant from a judgment of the county court, orange county (craig s. brown, j.), rendered may 16, 2023, convicting him of criminal...</td>\n",
       "      <td>[ineffective assistance of counsel]</td>\n",
       "    </tr>\n",
       "    <tr>\n",
       "      <th>1</th>\n",
       "      <td>in an action, in effect, to recover damages for money had and received and unjust enrichment, the defendant appeals from a judgment of the supreme...</td>\n",
       "      <td>[default judgment]</td>\n",
       "    </tr>\n",
       "    <tr>\n",
       "      <th>2</th>\n",
       "      <td>in an action, inter alia, for injunctive relief and to recover damages for trespass, the plaintiff appeals from an order of the supreme court, kin...</td>\n",
       "      <td>[]</td>\n",
       "    </tr>\n",
       "    <tr>\n",
       "      <th>3</th>\n",
       "      <td>in related proceedings pursuant to family court act article 8, the petitioner appeals from an order of the family court, kings county (sharon n. c...</td>\n",
       "      <td>[]</td>\n",
       "    </tr>\n",
       "    <tr>\n",
       "      <th>4</th>\n",
       "      <td>in an action to foreclose a mortgage, the defendant dale bente appeals from (1) an order of the supreme court, suffolk county (s. betsy heckman to...</td>\n",
       "      <td>[]</td>\n",
       "    </tr>\n",
       "  </tbody>\n",
       "</table>\n",
       "</div>"
      ],
      "text/plain": [
       "                                                                                                                                           decision_text  \\\n",
       "0  appeal by the defendant from a judgment of the county court, orange county (craig s. brown, j.), rendered may 16, 2023, convicting him of criminal...   \n",
       "1  in an action, in effect, to recover damages for money had and received and unjust enrichment, the defendant appeals from a judgment of the supreme...   \n",
       "2  in an action, inter alia, for injunctive relief and to recover damages for trespass, the plaintiff appeals from an order of the supreme court, kin...   \n",
       "3  in related proceedings pursuant to family court act article 8, the petitioner appeals from an order of the family court, kings county (sharon n. c...   \n",
       "4  in an action to foreclose a mortgage, the defendant dale bente appeals from (1) an order of the supreme court, suffolk county (s. betsy heckman to...   \n",
       "\n",
       "                          flag_phrases  \n",
       "0  [ineffective assistance of counsel]  \n",
       "1                   [default judgment]  \n",
       "2                                   []  \n",
       "3                                   []  \n",
       "4                                   []  "
      ]
     },
     "execution_count": 13,
     "metadata": {},
     "output_type": "execute_result"
    }
   ],
   "source": [
    "# Display the source text and the new 'flag_phrases' column together.\n",
    "df[['decision_text', 'flag_phrases']].head()"
   ]
  },
  {
   "cell_type": "markdown",
   "id": "e89ecf22-16cb-4463-b780-809da2fc1524",
   "metadata": {},
   "source": [
    "## Step 3: Assign a Risk label from Flagged Phrases\n",
    "\n",
    "Our goal is to assign a single, definitive risk label to each document. We will use a \"Triage\" approach: a document's final risk label will be determined by the most severe rule that it triggers. This allows us to quickly categorize all documents into clear buckets for review without requiring extensive tuning.\n",
    "\n",
    "We will create a function that inspects the list of matched phrases and returns the single highest-ranking label found."
   ]
  },
  {
   "cell_type": "code",
   "execution_count": 14,
   "id": "d0c7888a-e279-4450-b454-bc07000fd916",
   "metadata": {
    "tags": []
   },
   "outputs": [],
   "source": [
    "# Apply the custom labeling function to the 'flag_phrases' column.\n",
    "df['risk_label_v1'] = df['flag_phrases'].apply(lambda phrase_list: find_highest_risk_label(phrase_list, label_dict))"
   ]
  },
  {
   "cell_type": "code",
   "execution_count": 15,
   "id": "b8431519-853b-4f05-974f-648a1bbe512a",
   "metadata": {
    "tags": []
   },
   "outputs": [
    {
     "data": {
      "text/html": [
       "<div>\n",
       "<style scoped>\n",
       "    .dataframe tbody tr th:only-of-type {\n",
       "        vertical-align: middle;\n",
       "    }\n",
       "\n",
       "    .dataframe tbody tr th {\n",
       "        vertical-align: top;\n",
       "    }\n",
       "\n",
       "    .dataframe thead th {\n",
       "        text-align: right;\n",
       "    }\n",
       "</style>\n",
       "<table border=\"1\" class=\"dataframe\">\n",
       "  <thead>\n",
       "    <tr style=\"text-align: right;\">\n",
       "      <th></th>\n",
       "      <th>decision_text</th>\n",
       "      <th>flag_phrases</th>\n",
       "      <th>risk_label_v1</th>\n",
       "    </tr>\n",
       "  </thead>\n",
       "  <tbody>\n",
       "    <tr>\n",
       "      <th>0</th>\n",
       "      <td>appeal by the defendant from a judgment of the county court, orange county (craig s. brown, j.), rendered may 16, 2023, convicting him of criminal...</td>\n",
       "      <td>[ineffective assistance of counsel]</td>\n",
       "      <td>high</td>\n",
       "    </tr>\n",
       "    <tr>\n",
       "      <th>1</th>\n",
       "      <td>in an action, in effect, to recover damages for money had and received and unjust enrichment, the defendant appeals from a judgment of the supreme...</td>\n",
       "      <td>[default judgment]</td>\n",
       "      <td>high</td>\n",
       "    </tr>\n",
       "    <tr>\n",
       "      <th>2</th>\n",
       "      <td>in an action, inter alia, for injunctive relief and to recover damages for trespass, the plaintiff appeals from an order of the supreme court, kin...</td>\n",
       "      <td>[]</td>\n",
       "      <td>low</td>\n",
       "    </tr>\n",
       "    <tr>\n",
       "      <th>3</th>\n",
       "      <td>in related proceedings pursuant to family court act article 8, the petitioner appeals from an order of the family court, kings county (sharon n. c...</td>\n",
       "      <td>[]</td>\n",
       "      <td>low</td>\n",
       "    </tr>\n",
       "    <tr>\n",
       "      <th>4</th>\n",
       "      <td>in an action to foreclose a mortgage, the defendant dale bente appeals from (1) an order of the supreme court, suffolk county (s. betsy heckman to...</td>\n",
       "      <td>[]</td>\n",
       "      <td>low</td>\n",
       "    </tr>\n",
       "  </tbody>\n",
       "</table>\n",
       "</div>"
      ],
      "text/plain": [
       "                                                                                                                                           decision_text  \\\n",
       "0  appeal by the defendant from a judgment of the county court, orange county (craig s. brown, j.), rendered may 16, 2023, convicting him of criminal...   \n",
       "1  in an action, in effect, to recover damages for money had and received and unjust enrichment, the defendant appeals from a judgment of the supreme...   \n",
       "2  in an action, inter alia, for injunctive relief and to recover damages for trespass, the plaintiff appeals from an order of the supreme court, kin...   \n",
       "3  in related proceedings pursuant to family court act article 8, the petitioner appeals from an order of the family court, kings county (sharon n. c...   \n",
       "4  in an action to foreclose a mortgage, the defendant dale bente appeals from (1) an order of the supreme court, suffolk county (s. betsy heckman to...   \n",
       "\n",
       "                          flag_phrases risk_label_v1  \n",
       "0  [ineffective assistance of counsel]          high  \n",
       "1                   [default judgment]          high  \n",
       "2                                   []           low  \n",
       "3                                   []           low  \n",
       "4                                   []           low  "
      ]
     },
     "execution_count": 15,
     "metadata": {},
     "output_type": "execute_result"
    }
   ],
   "source": [
    "# Display the source text, the 'flag_phrases', and the 'risk_label_v1' columns together.\n",
    "df[['decision_text', 'flag_phrases', 'risk_label_v1']].head()"
   ]
  },
  {
   "cell_type": "markdown",
   "id": "ea7fe131-f5bd-43a1-9293-337f7a350262",
   "metadata": {},
   "source": [
    "### 3.1 Initial Model Run & Analysis\n",
    "First, we'll run our Triage model using our current `labels.csv` file. The goal of this run is to produce a baseline result that we can analyze for potential improvements."
   ]
  },
  {
   "cell_type": "code",
   "execution_count": 16,
   "id": "625fefe7-88bb-4a35-9e9c-69de3b922664",
   "metadata": {},
   "outputs": [
    {
     "data": {
      "text/plain": [
       "low       51\n",
       "high       7\n",
       "medium     1\n",
       "Name: risk_label_v1, dtype: int64"
      ]
     },
     "execution_count": 16,
     "metadata": {},
     "output_type": "execute_result"
    }
   ],
   "source": [
    "# This is the primary result of our triage model.\n",
    "risk_buckets_v1 = df['risk_label_v1'].value_counts()\n",
    "risk_buckets_v1"
   ]
  },
  {
   "cell_type": "markdown",
   "id": "482ea156-911d-421d-a596-712982214753",
   "metadata": {},
   "source": [
    "### 3.2 Inspect High-Risk Documents\n",
    "\n",
    "As a final sanity check, let's filter for the documents that were labeled 'high' and inspect the phrases that were flagged within them. This confirms that our most important rules are working as expected."
   ]
  },
  {
   "cell_type": "code",
   "execution_count": 17,
   "id": "865818d5-c7f1-468f-b1b5-a29217135acc",
   "metadata": {
    "tags": []
   },
   "outputs": [
    {
     "data": {
      "text/html": [
       "<div>\n",
       "<style scoped>\n",
       "    .dataframe tbody tr th:only-of-type {\n",
       "        vertical-align: middle;\n",
       "    }\n",
       "\n",
       "    .dataframe tbody tr th {\n",
       "        vertical-align: top;\n",
       "    }\n",
       "\n",
       "    .dataframe thead th {\n",
       "        text-align: right;\n",
       "    }\n",
       "</style>\n",
       "<table border=\"1\" class=\"dataframe\">\n",
       "  <thead>\n",
       "    <tr style=\"text-align: right;\">\n",
       "      <th></th>\n",
       "      <th>decision_text</th>\n",
       "      <th>flag_phrases</th>\n",
       "      <th>risk_label_v1</th>\n",
       "    </tr>\n",
       "  </thead>\n",
       "  <tbody>\n",
       "    <tr>\n",
       "      <th>0</th>\n",
       "      <td>appeal by the defendant from a judgment of the county court, orange county (craig s. brown, j.), rendered may 16, 2023, convicting him of criminal...</td>\n",
       "      <td>[ineffective assistance of counsel]</td>\n",
       "      <td>high</td>\n",
       "    </tr>\n",
       "    <tr>\n",
       "      <th>1</th>\n",
       "      <td>in an action, in effect, to recover damages for money had and received and unjust enrichment, the defendant appeals from a judgment of the supreme...</td>\n",
       "      <td>[default judgment]</td>\n",
       "      <td>high</td>\n",
       "    </tr>\n",
       "    <tr>\n",
       "      <th>16</th>\n",
       "      <td>appeals by the defendant from two judgments of the county court, suffolk county (mark d. cohen, j.), both rendered june 18, 2018, convicting him o...</td>\n",
       "      <td>[ineffective assistance of counsel]</td>\n",
       "      <td>high</td>\n",
       "    </tr>\n",
       "    <tr>\n",
       "      <th>39</th>\n",
       "      <td>in an action, inter alia, to recover damages for negligence, the plaintiff appeals from an order of the supreme court, orange county (david s. zuc...</td>\n",
       "      <td>[default judgment]</td>\n",
       "      <td>high</td>\n",
       "    </tr>\n",
       "    <tr>\n",
       "      <th>41</th>\n",
       "      <td>in an action, inter alia, to recover damages for false imprisonment and medical malpractice, the defendants appeal from an order of the supreme co...</td>\n",
       "      <td>[default judgment]</td>\n",
       "      <td>high</td>\n",
       "    </tr>\n",
       "  </tbody>\n",
       "</table>\n",
       "</div>"
      ],
      "text/plain": [
       "                                                                                                                                            decision_text  \\\n",
       "0   appeal by the defendant from a judgment of the county court, orange county (craig s. brown, j.), rendered may 16, 2023, convicting him of criminal...   \n",
       "1   in an action, in effect, to recover damages for money had and received and unjust enrichment, the defendant appeals from a judgment of the supreme...   \n",
       "16  appeals by the defendant from two judgments of the county court, suffolk county (mark d. cohen, j.), both rendered june 18, 2018, convicting him o...   \n",
       "39  in an action, inter alia, to recover damages for negligence, the plaintiff appeals from an order of the supreme court, orange county (david s. zuc...   \n",
       "41  in an action, inter alia, to recover damages for false imprisonment and medical malpractice, the defendants appeal from an order of the supreme co...   \n",
       "\n",
       "                           flag_phrases risk_label_v1  \n",
       "0   [ineffective assistance of counsel]          high  \n",
       "1                    [default judgment]          high  \n",
       "16  [ineffective assistance of counsel]          high  \n",
       "39                   [default judgment]          high  \n",
       "41                   [default judgment]          high  "
      ]
     },
     "execution_count": 17,
     "metadata": {},
     "output_type": "execute_result"
    }
   ],
   "source": [
    "# --- 1. Filter the DataFrame to create a subset of only 'high' risk cases ---\n",
    "high_risk_cases = df[df['risk_label_v1'] == 'high']\n",
    "\n",
    "# --- 2. Display a sample of this subset, showing the most relevant columns ---\n",
    "high_risk_cases[['decision_text', 'flag_phrases', 'risk_label_v1']].head()"
   ]
  },
  {
   "cell_type": "markdown",
   "id": "d95fb374-b59d-46af-95cd-eb6c7ebd96ea",
   "metadata": {},
   "source": [
    "### 3.3 Refinement: Analyzing Results and Improving the Rules\n",
    "\n",
    "we now manually review the documents flagged by our initial model, so that we can validate our existing rules and discover new, high-impact phrases to make the system more intelligent.\n",
    "\n",
    "#### Key Findings from Our Review\n",
    "Our analysis of the initial high risk results was successful and yielded three key insights:\n",
    "\n",
    "- **Validation of Existing Rules**: The review confirms that our core high risk rules are performing very well. Phrases like `effective assistance of counsel` and `default judgment` consistently identified documents with significant procedural and fairness issues, validating our initial strategy.\n",
    "\n",
    "- **Confirmation of Proposed Phrases**: The review confirmed that several phrases we considered adding are indeed high-value. We saw `immigration consequences`, `failure to state a cause of action`, and `special duty` appear in the flagged documents, proving they are worth adding to our rule set.\n",
    "\n",
    "- **Discovery of New High-Impact Phrases**: Most importantly, the review uncovered several new phrases that are strong indicators of a noteworthy case but were not yet in our system.\n",
    "\n",
    "Based on the findings above, the clear next step is to update our `labels.csv` file. The table below lists the new rules we will add to create a more robust and nuanced model.\n",
    "\n",
    "| New Phrase to Add (as a Pattern) | Suggested Label | Rationale |\n",
    "| :--- | :--- | :--- |\n",
    "| **`waived (his\\|her\\|their) right to appeal`** | `high` | Catches all gender variations of this key event in one rule. |\n",
    "| **`violated (his\\|her\\|their) miranda rights`** | `high` | A fundamental constitutional challenge, now gender-neutral. |\n",
    "| **`immigration consequences`** | `medium` | A critical factor in plea deals for non-citizens. |\n",
    "| **`stop and frisk`** | `medium` | A key Fourth Amendment issue indicating a police procedure review. |\n",
    "| **`unpreserved for appellate review`** | `medium` | An important procedural reason why a case's outcome was decided. |\n",
    "| **`failure to state a cause of action`** | `medium` | A key reason for early-stage case dismissals. |"
   ]
  },
  {
   "cell_type": "markdown",
   "id": "9d354496-7fb0-4f0f-8ac5-11ef7a45e6b4",
   "metadata": {},
   "source": [
    "**ACTION: Manually Update `labels.csv`**\n",
    "\n",
    "The next step is a manual one. I will now open the `data/labels.csv` file and add the new rules outlined in the table above, ensuring the regular expression patterns are correct. After saving the updated file, we will proceed with the cells below."
   ]
  },
  {
   "cell_type": "markdown",
   "id": "74b07af4-4cf9-4c6c-848e-7c5873ac3dff",
   "metadata": {},
   "source": [
    "## Step 4: Final Model Run with Refined Rules\n",
    "\n",
    "Now that our `labels.csv` file has been improved, we will re-run the entire analysis pipeline: first finding the matches with our new, larger rule set, and then applying the Triage logic."
   ]
  },
  {
   "cell_type": "markdown",
   "id": "af940adc-447f-414d-9df0-07360ba6fafc",
   "metadata": {
    "tags": []
   },
   "source": [
    "### 4.1 Re-load Rules & Re-run Phrase Matching\n",
    "\n",
    "First, we load the refined rule set and then re-run the phrase matching engine to create an updated list of flags for each document."
   ]
  },
  {
   "cell_type": "code",
   "execution_count": 18,
   "id": "63447798-e82e-4392-9ff6-c17d76105a64",
   "metadata": {},
   "outputs": [
    {
     "name": "stdout",
     "output_type": "stream",
     "text": [
      "Success! The refined rule set now contains 22 rules.\n"
     ]
    }
   ],
   "source": [
    "# Re-load the REFINED rules \n",
    "labels_df_final = pd.read_csv(\"data/labels_updated.csv\")\n",
    "label_dict_final = dict(zip(labels_df_final[\"phrase\"].str.lower(), labels_df_final[\"label\"].str.lower()))\n",
    "print(f\"Success! The refined rule set now contains {len(label_dict_final)} rules.\")"
   ]
  },
  {
   "cell_type": "markdown",
   "id": "db806744-efe7-4cc1-9d9f-0517fe32d49a",
   "metadata": {},
   "source": [
    "### 4.2 Apply Final Triage Model\n",
    "\n",
    "With the updated flags, we now apply our Triage function to assign the final risk label."
   ]
  },
  {
   "cell_type": "code",
   "execution_count": 19,
   "id": "d8e99a38-86bc-4027-9ed1-42070bc9c30e",
   "metadata": {
    "tags": []
   },
   "outputs": [],
   "source": [
    "# Re-run the phrase matching with the NEW rules \n",
    "# This creates a new 'final_flag_phrases' column containing our refined results.\n",
    "df['final_flag_phrases'] = df['decision_text'].apply(\n",
    "    lambda text: find_matched_phrases(text, label_dict_final)\n",
    ")"
   ]
  },
  {
   "cell_type": "code",
   "execution_count": 20,
   "id": "ba50c104-463e-4650-90c1-5e4e52f3be55",
   "metadata": {
    "tags": []
   },
   "outputs": [
    {
     "data": {
      "text/html": [
       "<div>\n",
       "<style scoped>\n",
       "    .dataframe tbody tr th:only-of-type {\n",
       "        vertical-align: middle;\n",
       "    }\n",
       "\n",
       "    .dataframe tbody tr th {\n",
       "        vertical-align: top;\n",
       "    }\n",
       "\n",
       "    .dataframe thead th {\n",
       "        text-align: right;\n",
       "    }\n",
       "</style>\n",
       "<table border=\"1\" class=\"dataframe\">\n",
       "  <thead>\n",
       "    <tr style=\"text-align: right;\">\n",
       "      <th></th>\n",
       "      <th>decision_text</th>\n",
       "      <th>final_flag_phrases</th>\n",
       "    </tr>\n",
       "  </thead>\n",
       "  <tbody>\n",
       "    <tr>\n",
       "      <th>0</th>\n",
       "      <td>appeal by the defendant from a judgment of the county court, orange county (craig s. brown, j.), rendered may 16, 2023, convicting him of criminal...</td>\n",
       "      <td>[ineffective assistance of counsel, violated (his|her|their) miranda rights, stop and frisk, unpreserved for appellate review]</td>\n",
       "    </tr>\n",
       "    <tr>\n",
       "      <th>1</th>\n",
       "      <td>in an action, in effect, to recover damages for money had and received and unjust enrichment, the defendant appeals from a judgment of the supreme...</td>\n",
       "      <td>[default judgment]</td>\n",
       "    </tr>\n",
       "    <tr>\n",
       "      <th>2</th>\n",
       "      <td>in an action, inter alia, for injunctive relief and to recover damages for trespass, the plaintiff appeals from an order of the supreme court, kin...</td>\n",
       "      <td>[]</td>\n",
       "    </tr>\n",
       "    <tr>\n",
       "      <th>3</th>\n",
       "      <td>in related proceedings pursuant to family court act article 8, the petitioner appeals from an order of the family court, kings county (sharon n. c...</td>\n",
       "      <td>[]</td>\n",
       "    </tr>\n",
       "    <tr>\n",
       "      <th>4</th>\n",
       "      <td>in an action to foreclose a mortgage, the defendant dale bente appeals from (1) an order of the supreme court, suffolk county (s. betsy heckman to...</td>\n",
       "      <td>[]</td>\n",
       "    </tr>\n",
       "  </tbody>\n",
       "</table>\n",
       "</div>"
      ],
      "text/plain": [
       "                                                                                                                                           decision_text  \\\n",
       "0  appeal by the defendant from a judgment of the county court, orange county (craig s. brown, j.), rendered may 16, 2023, convicting him of criminal...   \n",
       "1  in an action, in effect, to recover damages for money had and received and unjust enrichment, the defendant appeals from a judgment of the supreme...   \n",
       "2  in an action, inter alia, for injunctive relief and to recover damages for trespass, the plaintiff appeals from an order of the supreme court, kin...   \n",
       "3  in related proceedings pursuant to family court act article 8, the petitioner appeals from an order of the family court, kings county (sharon n. c...   \n",
       "4  in an action to foreclose a mortgage, the defendant dale bente appeals from (1) an order of the supreme court, suffolk county (s. betsy heckman to...   \n",
       "\n",
       "                                                                                                               final_flag_phrases  \n",
       "0  [ineffective assistance of counsel, violated (his|her|their) miranda rights, stop and frisk, unpreserved for appellate review]  \n",
       "1                                                                                                              [default judgment]  \n",
       "2                                                                                                                              []  \n",
       "3                                                                                                                              []  \n",
       "4                                                                                                                              []  "
      ]
     },
     "execution_count": 20,
     "metadata": {},
     "output_type": "execute_result"
    }
   ],
   "source": [
    "# Display a sample to verify the flag phrase update \n",
    "# We'll display the NEW 'final_flag_phrases' column side-by-side\n",
    "# with the original text to confirm the new rules worked.\n",
    "df[['decision_text', 'final_flag_phrases']].head()"
   ]
  },
  {
   "cell_type": "code",
   "execution_count": 21,
   "id": "76f392e2-9d9a-475c-8a67-1aec76fe94e1",
   "metadata": {
    "tags": []
   },
   "outputs": [
    {
     "data": {
      "text/html": [
       "<div>\n",
       "<style scoped>\n",
       "    .dataframe tbody tr th:only-of-type {\n",
       "        vertical-align: middle;\n",
       "    }\n",
       "\n",
       "    .dataframe tbody tr th {\n",
       "        vertical-align: top;\n",
       "    }\n",
       "\n",
       "    .dataframe thead th {\n",
       "        text-align: right;\n",
       "    }\n",
       "</style>\n",
       "<table border=\"1\" class=\"dataframe\">\n",
       "  <thead>\n",
       "    <tr style=\"text-align: right;\">\n",
       "      <th></th>\n",
       "      <th>final_flag_phrases</th>\n",
       "      <th>risk_label_v1</th>\n",
       "      <th>final_risk_label</th>\n",
       "    </tr>\n",
       "  </thead>\n",
       "  <tbody>\n",
       "    <tr>\n",
       "      <th>0</th>\n",
       "      <td>[ineffective assistance of counsel, violated (his|her|their) miranda rights, stop and frisk, unpreserved for appellate review]</td>\n",
       "      <td>high</td>\n",
       "      <td>high</td>\n",
       "    </tr>\n",
       "    <tr>\n",
       "      <th>1</th>\n",
       "      <td>[default judgment]</td>\n",
       "      <td>high</td>\n",
       "      <td>high</td>\n",
       "    </tr>\n",
       "    <tr>\n",
       "      <th>2</th>\n",
       "      <td>[]</td>\n",
       "      <td>low</td>\n",
       "      <td>low</td>\n",
       "    </tr>\n",
       "    <tr>\n",
       "      <th>3</th>\n",
       "      <td>[]</td>\n",
       "      <td>low</td>\n",
       "      <td>low</td>\n",
       "    </tr>\n",
       "    <tr>\n",
       "      <th>4</th>\n",
       "      <td>[]</td>\n",
       "      <td>low</td>\n",
       "      <td>low</td>\n",
       "    </tr>\n",
       "  </tbody>\n",
       "</table>\n",
       "</div>"
      ],
      "text/plain": [
       "                                                                                                               final_flag_phrases  \\\n",
       "0  [ineffective assistance of counsel, violated (his|her|their) miranda rights, stop and frisk, unpreserved for appellate review]   \n",
       "1                                                                                                              [default judgment]   \n",
       "2                                                                                                                              []   \n",
       "3                                                                                                                              []   \n",
       "4                                                                                                                              []   \n",
       "\n",
       "  risk_label_v1 final_risk_label  \n",
       "0          high             high  \n",
       "1          high             high  \n",
       "2           low              low  \n",
       "3           low              low  \n",
       "4           low              low  "
      ]
     },
     "execution_count": 21,
     "metadata": {},
     "output_type": "execute_result"
    }
   ],
   "source": [
    "# Execute the FINAL Triage Analysis with the new rules \n",
    "# We apply our imported `find_highest_risk_label` function,\n",
    "# passing it the new `label_dict_final`.\n",
    "df['final_risk_label'] = df['final_flag_phrases'].apply(\n",
    "    lambda phrase_list: find_highest_risk_label(phrase_list, label_dict_final)\n",
    ")\n",
    "\n",
    "# Display a sample to verify the new final column exists\n",
    "df[['final_flag_phrases', 'risk_label_v1', 'final_risk_label']].head()"
   ]
  },
  {
   "cell_type": "markdown",
   "id": "34496d21-4e7e-4dbd-b2de-2e3992910a96",
   "metadata": {},
   "source": [
    "### 4.3 Compare Before-and-After Results\n",
    "\n",
    "By comparing the distribution of our initial run (`risk_label_v1`) with our final run (`final_risk_label`), we can see the direct impact of our work. We expect to see more documents categorized, especially in the `medium` and `high` buckets."
   ]
  },
  {
   "cell_type": "code",
   "execution_count": 22,
   "id": "1c426007-9729-4be4-abdd-69c908b146d6",
   "metadata": {},
   "outputs": [
    {
     "name": "stdout",
     "output_type": "stream",
     "text": [
      "--- Initial Run Results (Before Refinement) ---\n"
     ]
    },
    {
     "data": {
      "text/plain": [
       "low       51\n",
       "high       7\n",
       "medium     1\n",
       "Name: risk_label_v1, dtype: int64"
      ]
     },
     "metadata": {},
     "output_type": "display_data"
    },
    {
     "name": "stdout",
     "output_type": "stream",
     "text": [
      "\n",
      "--- Final Run Results (After Refinement) ---\n"
     ]
    },
    {
     "data": {
      "text/plain": [
       "low       40\n",
       "medium    11\n",
       "high       8\n",
       "Name: final_risk_label, dtype: int64"
      ]
     },
     "metadata": {},
     "output_type": "display_data"
    }
   ],
   "source": [
    "print(\"--- Initial Run Results (Before Refinement) ---\")\n",
    "display(df['risk_label_v1'].value_counts())\n",
    "\n",
    "print(\"\\n--- Final Run Results (After Refinement) ---\")\n",
    "display(df['final_risk_label'].value_counts())"
   ]
  },
  {
   "cell_type": "markdown",
   "id": "c2c94531-8a0b-40de-852c-88d678755faf",
   "metadata": {},
   "source": [
    "### 4.4 Interpretation of Final Results\n",
    "\n",
    "The side-by-side comparison clearly demonstrates the success of our refinement cycle.\n",
    "\n",
    "* **Successful Re-categorization:** The number of documents in the `low` risk category decreased by 11. These documents were successfully \"upgraded\" to more relevant risk categories.\n",
    "* **High-Impact New Rules:** The `medium` risk category saw the most significant growth (from 1 to 11 cases), proving that our newly added `medium`-risk phrases were highly effective at identifying noteworthy cases that were previously missed. The `high` risk category also correctly identified one new case.\n",
    "\n",
    "**Conclusion:** The manual process was highly effective. It improved the model's ability to correctly categorize documents, providing a more accurate set of labels for our final deliverable."
   ]
  },
  {
   "cell_type": "markdown",
   "id": "707ee63d-64c0-44e7-8542-ff9b83def052",
   "metadata": {},
   "source": [
    "## Step 5: Create Final Deliverable\n",
    "\n",
    "The comparison shows our refinements have successfully improved the model's coverage and classification. We are now ready to export our final, enriched dataset. This file is the key asset from this phase of the project and will be used for downstream analysis and review."
   ]
  },
  {
   "cell_type": "code",
   "execution_count": 23,
   "id": "aafad6d8-0fdb-44c3-aa6f-45f7bbee2d00",
   "metadata": {
    "tags": []
   },
   "outputs": [
    {
     "name": "stdout",
     "output_type": "stream",
     "text": [
      "\n",
      "Displaying a sample of the final deliverable:\n"
     ]
    },
    {
     "data": {
      "text/html": [
       "<div>\n",
       "<style scoped>\n",
       "    .dataframe tbody tr th:only-of-type {\n",
       "        vertical-align: middle;\n",
       "    }\n",
       "\n",
       "    .dataframe tbody tr th {\n",
       "        vertical-align: top;\n",
       "    }\n",
       "\n",
       "    .dataframe thead th {\n",
       "        text-align: right;\n",
       "    }\n",
       "</style>\n",
       "<table border=\"1\" class=\"dataframe\">\n",
       "  <thead>\n",
       "    <tr style=\"text-align: right;\">\n",
       "      <th></th>\n",
       "      <th>doc_index</th>\n",
       "      <th>decision_text</th>\n",
       "      <th>risk_label_v1</th>\n",
       "      <th>final_flag_phrases</th>\n",
       "      <th>final_risk_label</th>\n",
       "    </tr>\n",
       "  </thead>\n",
       "  <tbody>\n",
       "    <tr>\n",
       "      <th>0</th>\n",
       "      <td>0</td>\n",
       "      <td>appeal by the defendant from a judgment of the county court, orange county (craig s. brown, j.), rendered may 16, 2023, convicting him of criminal...</td>\n",
       "      <td>high</td>\n",
       "      <td>[ineffective assistance of counsel, violated (his|her|their) miranda rights, stop and frisk, unpreserved for appellate review]</td>\n",
       "      <td>high</td>\n",
       "    </tr>\n",
       "    <tr>\n",
       "      <th>1</th>\n",
       "      <td>1</td>\n",
       "      <td>in an action, in effect, to recover damages for money had and received and unjust enrichment, the defendant appeals from a judgment of the supreme...</td>\n",
       "      <td>high</td>\n",
       "      <td>[default judgment]</td>\n",
       "      <td>high</td>\n",
       "    </tr>\n",
       "    <tr>\n",
       "      <th>2</th>\n",
       "      <td>2</td>\n",
       "      <td>in an action, inter alia, for injunctive relief and to recover damages for trespass, the plaintiff appeals from an order of the supreme court, kin...</td>\n",
       "      <td>low</td>\n",
       "      <td>[]</td>\n",
       "      <td>low</td>\n",
       "    </tr>\n",
       "    <tr>\n",
       "      <th>3</th>\n",
       "      <td>3</td>\n",
       "      <td>in related proceedings pursuant to family court act article 8, the petitioner appeals from an order of the family court, kings county (sharon n. c...</td>\n",
       "      <td>low</td>\n",
       "      <td>[]</td>\n",
       "      <td>low</td>\n",
       "    </tr>\n",
       "    <tr>\n",
       "      <th>4</th>\n",
       "      <td>4</td>\n",
       "      <td>in an action to foreclose a mortgage, the defendant dale bente appeals from (1) an order of the supreme court, suffolk county (s. betsy heckman to...</td>\n",
       "      <td>low</td>\n",
       "      <td>[]</td>\n",
       "      <td>low</td>\n",
       "    </tr>\n",
       "  </tbody>\n",
       "</table>\n",
       "</div>"
      ],
      "text/plain": [
       "   doc_index  \\\n",
       "0          0   \n",
       "1          1   \n",
       "2          2   \n",
       "3          3   \n",
       "4          4   \n",
       "\n",
       "                                                                                                                                           decision_text  \\\n",
       "0  appeal by the defendant from a judgment of the county court, orange county (craig s. brown, j.), rendered may 16, 2023, convicting him of criminal...   \n",
       "1  in an action, in effect, to recover damages for money had and received and unjust enrichment, the defendant appeals from a judgment of the supreme...   \n",
       "2  in an action, inter alia, for injunctive relief and to recover damages for trespass, the plaintiff appeals from an order of the supreme court, kin...   \n",
       "3  in related proceedings pursuant to family court act article 8, the petitioner appeals from an order of the family court, kings county (sharon n. c...   \n",
       "4  in an action to foreclose a mortgage, the defendant dale bente appeals from (1) an order of the supreme court, suffolk county (s. betsy heckman to...   \n",
       "\n",
       "  risk_label_v1  \\\n",
       "0          high   \n",
       "1          high   \n",
       "2           low   \n",
       "3           low   \n",
       "4           low   \n",
       "\n",
       "                                                                                                               final_flag_phrases  \\\n",
       "0  [ineffective assistance of counsel, violated (his|her|their) miranda rights, stop and frisk, unpreserved for appellate review]   \n",
       "1                                                                                                              [default judgment]   \n",
       "2                                                                                                                              []   \n",
       "3                                                                                                                              []   \n",
       "4                                                                                                                              []   \n",
       "\n",
       "  final_risk_label  \n",
       "0             high  \n",
       "1             high  \n",
       "2              low  \n",
       "3              low  \n",
       "4              low  "
      ]
     },
     "metadata": {},
     "output_type": "display_data"
    }
   ],
   "source": [
    "# Select the most useful columns for the final output.\n",
    "# Including both v1 and final labels is great for documenting the changes.\n",
    "final_deliverable_df = df[[\n",
    "    'doc_index', # Or whatever your unique identifier column is\n",
    "    'decision_text',\n",
    "    'risk_label_v1',      # The \"before\" label\n",
    "    'final_flag_phrases', # The full list of flags from the refined run\n",
    "    'final_risk_label'    # The \"after\" label\n",
    "]].copy()\n",
    "\n",
    "# Save the annotated dataset to a new file in the 'data' directory\n",
    "output_path = \"data/decisions_with_risk_labels.csv\"\n",
    "final_deliverable_df.to_csv(output_path, index=False)\n",
    "\n",
    "print(\"\\nDisplaying a sample of the final deliverable:\")\n",
    "display(final_deliverable_df.head())"
   ]
  },
  {
   "cell_type": "markdown",
   "id": "958db030-773f-4881-ab11-fc4480ea2acc",
   "metadata": {},
   "source": [
    "## Step 6: Model Performance Evaluation\n",
    "\n",
    "With our `final_risk_label` generated by the model and our `human_label` prepared as a ground truth \"answer key,\" we can now perform a final, quantitative evaluation. This will allow us to objectively measure how well our Triage model performed against our holistic, context-aware analysis.\n",
    "\n",
    "### 6.1 Load and Merge Datasets\n",
    "\n",
    "First, we'll load both our model's final output and our ground truth file, then merge them together on their common ID."
   ]
  },
  {
   "cell_type": "code",
   "execution_count": 24,
   "id": "320486eb-0644-4d14-995e-f7cc61240b52",
   "metadata": {
    "tags": []
   },
   "outputs": [
    {
     "data": {
      "text/html": [
       "<div>\n",
       "<style scoped>\n",
       "    .dataframe tbody tr th:only-of-type {\n",
       "        vertical-align: middle;\n",
       "    }\n",
       "\n",
       "    .dataframe tbody tr th {\n",
       "        vertical-align: top;\n",
       "    }\n",
       "\n",
       "    .dataframe thead th {\n",
       "        text-align: right;\n",
       "    }\n",
       "</style>\n",
       "<table border=\"1\" class=\"dataframe\">\n",
       "  <thead>\n",
       "    <tr style=\"text-align: right;\">\n",
       "      <th></th>\n",
       "      <th>doc_index</th>\n",
       "      <th>human_label</th>\n",
       "      <th>final_risk_label</th>\n",
       "    </tr>\n",
       "  </thead>\n",
       "  <tbody>\n",
       "    <tr>\n",
       "      <th>0</th>\n",
       "      <td>0</td>\n",
       "      <td>high</td>\n",
       "      <td>high</td>\n",
       "    </tr>\n",
       "    <tr>\n",
       "      <th>1</th>\n",
       "      <td>1</td>\n",
       "      <td>high</td>\n",
       "      <td>high</td>\n",
       "    </tr>\n",
       "    <tr>\n",
       "      <th>2</th>\n",
       "      <td>2</td>\n",
       "      <td>low</td>\n",
       "      <td>low</td>\n",
       "    </tr>\n",
       "    <tr>\n",
       "      <th>3</th>\n",
       "      <td>3</td>\n",
       "      <td>medium</td>\n",
       "      <td>low</td>\n",
       "    </tr>\n",
       "    <tr>\n",
       "      <th>4</th>\n",
       "      <td>4</td>\n",
       "      <td>medium</td>\n",
       "      <td>low</td>\n",
       "    </tr>\n",
       "  </tbody>\n",
       "</table>\n",
       "</div>"
      ],
      "text/plain": [
       "   doc_index human_label final_risk_label\n",
       "0          0        high             high\n",
       "1          1        high             high\n",
       "2          2         low              low\n",
       "3          3      medium              low\n",
       "4          4      medium              low"
      ]
     },
     "execution_count": 24,
     "metadata": {},
     "output_type": "execute_result"
    }
   ],
   "source": [
    "# Load the model's predictions\n",
    "# We'll use the final deliverable file we created in the last step.\n",
    "model_results_df = pd.read_csv(\"data/decisions_with_risk_labels.csv\")\n",
    "\n",
    "# Load our human-labeled \"answer key\"\n",
    "ground_truth_df = pd.read_csv(\"data/ground_truth_labels.csv\")\n",
    "\n",
    "# Merge the two dataframes so each row has both the human label and the model's prediction\n",
    "# We'll use the 'doc_index' column from your ground truth data as the key.\n",
    "# First, let's ensure our main df has this column if it's just in the index.\n",
    "if 'doc_index' not in model_results_df.columns:\n",
    "    model_results_df.reset_index(inplace=True)\n",
    "    model_results_df.rename(columns={'index': 'doc_index'}, inplace=True)\n",
    "\n",
    "\n",
    "eval_df = pd.merge(model_results_df, ground_truth_df, on='doc_index')\n",
    "\n",
    "eval_df[['doc_index', 'human_label', 'final_risk_label']].head()"
   ]
  },
  {
   "cell_type": "markdown",
   "id": "bd097bcb-2825-4464-a112-d93e91c31207",
   "metadata": {
    "tags": []
   },
   "source": [
    "### 6.2 Confusion Matrix\n",
    "\n",
    "A confusion matrix is the best way to visualize the performance of a classification model. It shows us exactly where the model was correct and where it was \"confused.\"\n",
    "\n",
    "* The **rows** will represent the **True Label** (from your human review).\n",
    "* The **columns** will represent the **Model's Prediction**.\n",
    "* The diagonal from top-left to bottom-right shows all the correct predictions."
   ]
  },
  {
   "cell_type": "code",
   "execution_count": 46,
   "id": "9f58fc3e-38c7-455e-a649-0bf6c3c7f792",
   "metadata": {},
   "outputs": [
    {
     "name": "stdout",
     "output_type": "stream",
     "text": [
      "--- Confusion Matrix ---\n"
     ]
    },
    {
     "data": {
      "image/png": "[encoded data removed]",
      "text/plain": [
       "<Figure size 640x480 with 2 Axes>"
      ]
     },
     "metadata": {},
     "output_type": "display_data"
    }
   ],
   "source": [
    "# Define the \"true\" answers and the model's \"predicted\" answers\n",
    "y_true = eval_df['human_label']\n",
    "y_pred = eval_df['final_risk_label']\n",
    "\n",
    "# Define the order of your labels for the matrix axes so it's easy to read\n",
    "labels = ['high', 'medium', 'low']\n",
    "\n",
    "# Generate and display the matrix\n",
    "cm = confusion_matrix(y_true, y_pred, labels=labels)\n",
    "disp = ConfusionMatrixDisplay(confusion_matrix=cm, display_labels=labels)\n",
    "\n",
    "print(\"--- Confusion Matrix ---\")\n",
    "disp.plot(cmap=plt.cm.Blues)\n",
    "plt.show()"
   ]
  },
  {
   "cell_type": "markdown",
   "id": "6d7a7a49-96d0-455b-9c9f-b15e1101de31",
   "metadata": {},
   "source": [
    "### 6.3 Precision & Recall Report\n",
    "\n",
    "From the confusion matrix, we can calculate the key performance metrics. The `classification_report` from scikit-learn does this for us automatically.\n",
    "\n",
    "* **Precision:** \"When the model predicted `high`, how often was it right?\" (Measures reliability)\n",
    "* **Recall:** \"Of all the cases that were truly `high`, how many did the model find?\" (Measures completeness)\n",
    "* **F1-Score:** A weighted average of Precision and Recall, providing a single score for performance."
   ]
  },
  {
   "cell_type": "code",
   "execution_count": 28,
   "id": "c7a89d5d-6543-4edb-987d-e8001409212a",
   "metadata": {},
   "outputs": [
    {
     "name": "stdout",
     "output_type": "stream",
     "text": [
      "--- Classification Report ---\n",
      "              precision    recall  f1-score   support\n",
      "\n",
      "        high       0.75      0.40      0.52        15\n",
      "      medium       0.55      0.27      0.36        22\n",
      "         low       0.47      0.86      0.61        22\n",
      "        none       0.00      0.00      0.00         0\n",
      "\n",
      "   micro avg       0.53      0.53      0.53        59\n",
      "   macro avg       0.44      0.38      0.37        59\n",
      "weighted avg       0.57      0.53      0.50        59\n",
      "\n"
     ]
    },
    {
     "name": "stderr",
     "output_type": "stream",
     "text": [
      "/Users/lidasmac/anaconda3/lib/python3.11/site-packages/sklearn/metrics/_classification.py:1344: UndefinedMetricWarning: Precision and F-score are ill-defined and being set to 0.0 in labels with no predicted samples. Use `zero_division` parameter to control this behavior.\n",
      "  _warn_prf(average, modifier, msg_start, len(result))\n",
      "/Users/lidasmac/anaconda3/lib/python3.11/site-packages/sklearn/metrics/_classification.py:1344: UndefinedMetricWarning: Recall and F-score are ill-defined and being set to 0.0 in labels with no true samples. Use `zero_division` parameter to control this behavior.\n",
      "  _warn_prf(average, modifier, msg_start, len(result))\n",
      "/Users/lidasmac/anaconda3/lib/python3.11/site-packages/sklearn/metrics/_classification.py:1344: UndefinedMetricWarning: Precision and F-score are ill-defined and being set to 0.0 in labels with no predicted samples. Use `zero_division` parameter to control this behavior.\n",
      "  _warn_prf(average, modifier, msg_start, len(result))\n",
      "/Users/lidasmac/anaconda3/lib/python3.11/site-packages/sklearn/metrics/_classification.py:1344: UndefinedMetricWarning: Recall and F-score are ill-defined and being set to 0.0 in labels with no true samples. Use `zero_division` parameter to control this behavior.\n",
      "  _warn_prf(average, modifier, msg_start, len(result))\n",
      "/Users/lidasmac/anaconda3/lib/python3.11/site-packages/sklearn/metrics/_classification.py:1344: UndefinedMetricWarning: Precision and F-score are ill-defined and being set to 0.0 in labels with no predicted samples. Use `zero_division` parameter to control this behavior.\n",
      "  _warn_prf(average, modifier, msg_start, len(result))\n",
      "/Users/lidasmac/anaconda3/lib/python3.11/site-packages/sklearn/metrics/_classification.py:1344: UndefinedMetricWarning: Recall and F-score are ill-defined and being set to 0.0 in labels with no true samples. Use `zero_division` parameter to control this behavior.\n",
      "  _warn_prf(average, modifier, msg_start, len(result))\n"
     ]
    }
   ],
   "source": [
    "# Use the same variables and labels from the previous step\n",
    "print(\"--- Classification Report ---\")\n",
    "print(classification_report(y_true, y_pred, labels=labels))"
   ]
  },
  {
   "cell_type": "markdown",
   "id": "df06b7a0-7f33-4d1b-ae30-4a563e6a57fb",
   "metadata": {},
   "source": [
    "## Step 7: Conclusion & Strategic Next Steps\n",
    "\n",
    "This phase of the project successfully developed and deployed an end-to-end, rule-based Triage model capable of categorizing complex legal documents. The system effectively flags cases with high-risk procedural issues based on a transparent and explainable set of rules. The entire process, from initial analysis to manual refinement and quantitative evaluation, represents a complete \"round 1\" proof-of-concept.\n",
    "\n",
    "### Final Performance Evaluation\n",
    "\n",
    "The quantitative evaluation provides a clear performance baseline for the model in its current state.\n",
    "\n",
    "* **Key Strength (Precision):** The model demonstrates high **precision (75%)** for the `high` risk category. This indicates that when the model flags a case as high priority, the flag is reliable and warrants attention.\n",
    "\n",
    "* **Area for Improvement (Recall):** The primary area for future improvement is **recall (40% for `high`, 27% for `medium`)**. This shows that while the current rules are accurate, they are not yet comprehensive enough to find all relevant cases.\n",
    "\n",
    "### Strategic Next Steps\n",
    "\n",
    "The results of this evaluation define a clear and data-driven roadmap for \"round 2\" of this phase of the project, should it move forward in a real-world compliance context.\n",
    "\n",
    "1.  **Targeted Rule Expansion to Improve Recall:**\n",
    "    * The top priority would be to systematically analyze the \"False Negatives\" identified by the confusion matrix (e.g., cases that were labeled `low` by the model but `high` by the human expert).\n",
    "    * This analysis would uncover the missing keywords and patterns needed to increase recall for the `high` and `medium` categories.\n",
    "\n",
    "2.  **Introduce Granular Ranking:**\n",
    "    * Once the recall is improved, the Triage model could be evolved into an \"Accumulative Scoring\" model.\n",
    "    * This would provide a more granular numerical score, allowing for prioritization *within* the high-risk bucket (e.g., identifying the \"highest of the high\").\n",
    "\n",
    "3.  **Productionization:**\n",
    "    * The final logic would be packaged into a standalone Python script.\n",
    "    * This script could be scheduled to run daily, processing new rulings and feeding a dashboard or alert system for legal analyst review."
   ]
  }
 ],
 "metadata": {
  "kernelspec": {
   "display_name": "Python 3 (ipykernel)",
   "language": "python",
   "name": "python3"
  },
  "language_info": {
   "codemirror_mode": {
    "name": "ipython",
    "version": 3
   },
   "file_extension": ".py",
   "mimetype": "text/x-python",
   "name": "python",
   "nbconvert_exporter": "python",
   "pygments_lexer": "ipython3",
   "version": "3.11.3"
  }
 },
 "nbformat": 4,
 "nbformat_minor": 5
}
