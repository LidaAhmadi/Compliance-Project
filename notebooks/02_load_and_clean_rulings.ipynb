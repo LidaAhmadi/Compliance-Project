{
 "cells": [
  {
   "cell_type": "markdown",
   "id": "d4c62182-5d4b-438c-974d-7bbce42f87e0",
   "metadata": {
    "tags": []
   },
   "source": [
    "## 1. Load and Inspect Ruling Files\n",
    "\n",
    "This notebook loads the saved legal rulings from `data/raw/` into memory and previews their content.\n",
    "\n",
    "### Goal:\n",
    "- Verify structure and content quality\n",
    "- Clean and prepare for embedding"
   ]
  },
  {
   "cell_type": "code",
   "execution_count": 1,
   "id": "1ed8fba0-083d-4c75-a810-5ea16447fbe9",
   "metadata": {
    "tags": []
   },
   "outputs": [
    {
     "name": "stdout",
     "output_type": "stream",
     "text": [
      "Loaded 74 rulings into memory.\n"
     ]
    }
   ],
   "source": [
    "import sys  # Provides access to system-specific functions and paths\n",
    "import os  # Provides functions for interacting with the file system\n",
    "\n",
    "# Add the parent directory to the module search path\n",
    "# This allows importing config.py if it's located one level up\n",
    "sys.path.append(os.path.abspath(\"..\"))\n",
    "\n",
    "# Import the path to the data directory from the config module\n",
    "from config import DATA_DIR\n",
    "\n",
    "# Collect paths to all .txt files in the data directory\n",
    "filepaths = [os.path.join(DATA_DIR, f) for f in os.listdir(DATA_DIR) if f.endswith(\".txt\")]\n",
    "documents = []\n",
    "\n",
    "# Read and store the contents of each text file\n",
    "for filepath in filepaths:\n",
    "    with open(filepath, \"r\", encoding=\"utf-8\") as file:\n",
    "        text = file.read().strip()\n",
    "        documents.append(text)\n",
    "\n",
    "# Print the total number of rulings loaded into memory\n",
    "print(f\"Loaded {len(documents)} rulings into memory.\")"
   ]
  },
  {
   "cell_type": "markdown",
   "id": "b4c85b99-c4c6-40d0-b75a-2f3f9a584d90",
   "metadata": {
    "tags": []
   },
   "source": [
    "### Preview Sample Rulings\n",
    "\n",
    "We now print the start of a few rulings to manually inspect structure, quality, and potential cleaning needs.\n"
   ]
  },
  {
   "cell_type": "code",
   "execution_count": 2,
   "id": "523c5355-e06a-47e8-a96f-5ef69ea4add2",
   "metadata": {
    "tags": []
   },
   "outputs": [
    {
     "name": "stdout",
     "output_type": "stream",
     "text": [
      "\n",
      " Ruling 1 Preview ------------------------------------------------------------------------------\n",
      "\n",
      "<div>\n",
      "\n",
      "People v Palm (<span class=\"citation\" data-id=\"11022071\"><a href=\"/opinion/10555483/people-v-palm/\" aria-description=\"Citation for case: People v. Palm\">2025 NY Slip Op 02799</a></span>)\n",
      "\n",
      "\n",
      "\n",
      "<table width=\"80%\" border=\"1\" cellspacing=\"2\" cellpadding=\"5\" align=\"center\">\n",
      "<tr>\n",
      "<td align=\"center\"><b>People v Palm</b></td>\n",
      "</tr>\n",
      "<tr>\n",
      "<td align=\"center\"><span class=\"citation\" data-id=\"11022071\"><a href=\"/opinion/10555483/people-v-palm/\" aria-description=\"Citation for case: People v. Palm\">2025 NY\n",
      "\n",
      " End of Ruling 1 Preview -----------------------------------------------------------------------\n",
      "\n",
      "\n",
      " Ruling 2 Preview ------------------------------------------------------------------------------\n",
      "\n",
      "<div>\n",
      "\n",
      "Pantanilla v Yuson (<span class=\"citation\" data-id=\"10889300\"><a href=\"/opinion/10422712/pantanilla-v-yuson/\" aria-description=\"Citation for case: Pantanilla v. Yuson\">2025 NY Slip Op 02597</a></span>)\n",
      "\n",
      "\n",
      "\n",
      "<table width=\"80%\" border=\"1\" cellspacing=\"2\" cellpadding=\"5\" align=\"center\">\n",
      "<tr>\n",
      "<td align=\"center\"><b>Pantanilla v Yuson</b></td>\n",
      "</tr>\n",
      "<tr>\n",
      "<td align=\"center\"><span class=\"citation\" data-id=\"10889300\"><a href=\"/opinion/10422712/pantanilla-v-yuson/\" aria-description=\"Citation for case\n",
      "\n",
      " End of Ruling 2 Preview -----------------------------------------------------------------------\n",
      "\n",
      "\n",
      " Ruling 3 Preview ------------------------------------------------------------------------------\n",
      "\n",
      "<div>\n",
      "\n",
      "Franklin Carroll, LLC v Carroll Dev. Plaza, LLC (<span class=\"citation\" data-id=\"11022112\"><a href=\"/opinion/10555524/franklin-carroll-llc-v-carroll-dev-plaza-llc/\" aria-description=\"Citation for case: Franklin Carroll, LLC v. Carroll Dev. Plaza, LLC\">2025 NY Slip Op 02759</a></span>)\n",
      "\n",
      "\n",
      "\n",
      "<table width=\"80%\" border=\"1\" cellspacing=\"2\" cellpadding=\"5\" align=\"center\">\n",
      "<tr>\n",
      "<td align=\"center\"><b>Franklin Carroll, LLC v Carroll Dev. Plaza, LLC</b></td>\n",
      "</tr>\n",
      "<tr>\n",
      "<td align=\"center\"><span class=\n",
      "\n",
      " End of Ruling 3 Preview -----------------------------------------------------------------------\n",
      "\n"
     ]
    }
   ],
   "source": [
    "# Preview the first few rulings to check content structure\n",
    "for i, doc in enumerate(documents[:3]):\n",
    "    print(f\"\\n Ruling {i+1} Preview ------------------------------------------------------------------------------\\n\")\n",
    "    print(doc[:500])  # Print the first 500 characters\n",
    "    print(f\"\\n End of Ruling {i+1} Preview -----------------------------------------------------------------------\\n\")"
   ]
  },
  {
   "cell_type": "markdown",
   "id": "7925ad98-982e-4325-bf5e-a9f331282e88",
   "metadata": {
    "tags": []
   },
   "source": [
    "## 2. Clean Rulings (Light Cleaning for Semantic Use)\n",
    "This section lightly cleans the ruling text for semantic search and readability.\n",
    "- HTML tags are stripped\n",
    "- Whitespace is normalized but **newlines are preserved** for document structure\n",
    "\n",
    "**Note:** We avoid over-cleaning in early stages — keep sentence boundaries for LLMs."
   ]
  },
  {
   "cell_type": "code",
   "execution_count": 13,
   "id": "07a1efb2-2e4d-4804-958a-efff1d60fb5f",
   "metadata": {
    "tags": []
   },
   "outputs": [],
   "source": [
    "import re\n",
    "\n",
    "def clean_ruling_text(text):\n",
    "    \"\"\"Clean and normalize ruling text for semantic tasks.\"\"\"\n",
    "    \n",
    "    # 1. Lowercase and remove HTML tags\n",
    "    text = re.sub(r'<.*?>', '', text.lower())\n",
    "        \n",
    "    # 2. Replace multiple newlines with a single newline \n",
    "    text = re.sub(r'\\n\\s*\\n+', '\\n', text)\n",
    "    \n",
    "    # 3. Normalize spaces and tabs (but not newlines)\n",
    "    text = re.sub(r'[ \\t]+', ' ', text)\n",
    "    \n",
    "    # 4. Strip leading/trailing whitespace\n",
    "    text = text.strip()\n",
    "\n",
    "    return text\n",
    "\n",
    "# Apply combined cleaning to all documents\n",
    "cleaned_documents = [clean_ruling_text(doc) for doc in documents]"
   ]
  },
  {
   "cell_type": "markdown",
   "id": "7b655e5a-d99f-4524-9de3-804eeba486b4",
   "metadata": {
    "tags": []
   },
   "source": [
    "### Preview Cleaned Ruling"
   ]
  },
  {
   "cell_type": "code",
   "execution_count": 14,
   "id": "4b9a6bf3-e837-4ee4-980c-a1ea1dbc5d7e",
   "metadata": {
    "tags": []
   },
   "outputs": [],
   "source": [
    "#print(cleaned_documents[0])"
   ]
  },
  {
   "cell_type": "code",
   "execution_count": 15,
   "id": "e2a6cc6e-e340-4d9a-afba-73a89d5cac2a",
   "metadata": {
    "tags": []
   },
   "outputs": [
    {
     "name": "stdout",
     "output_type": "stream",
     "text": [
      "\n",
      " Cleaned Ruling 1 Preview ---------------------------------------------------------\n",
      "\n",
      "people v palm (2025 ny slip op 02799)\n",
      "people v palm\n",
      "2025 ny slip op 02799\n",
      "decided on may 7, 2025\n",
      "appellate division, second department\n",
      "published by new york state law reporting bureau pursuant to judiciary law § 431.\n",
      "this opinion is uncorrected and subject to revision before publication in the official reports.\n",
      "decided on may 7, 2025\n",
      "supreme court of the state of new york\n",
      "appellate division, second judicial department\n",
      "francesca e. connolly, j.p.\n",
      "robert j. miller\n",
      "lourdes m. ventura\n",
      "james p. mccormack, jj.\n",
      "2023-05297\n",
      " (ind. no. 70575/22)\n",
      "[*1]the people of the state of new york, respondent,\n",
      "vnicholas palm, appellant.\n",
      "mark diamond, pound ridge, ny, for appellant.\n",
      "david m. hoovler, district attorney, goshen, ny (edward d. saslaw of counsel), for respondent.\n",
      "decision &amp; order\n",
      "appeal by the defendant from a judgment of the county court, orange county (craig s. brown, j.), rendered may 16, 2023, convicting him of criminal possession of a weapon in the second degree, upon a jury verdict, and imposing sentence. the appeal brings up for review the denial, after a hearing, of those branches of the defendant's omnibus motion which were to suppress physical evidence and his statements to law enforcement officials.\n",
      "ordered that the judgment is affirmed.\n",
      "the defendant was arrested after a stop and frisk resulting in the recovery of a firearm. after a hearing, the county court denied those branches of the defendant's omnibus motion which were to suppress the physical evidence recovered, in\n",
      "\n",
      " End Ruling 1 Preview -------------------------------------------------------------\n",
      "\n",
      "\n",
      " Cleaned Ruling 2 Preview ---------------------------------------------------------\n",
      "\n",
      "pantanilla v yuson (2025 ny slip op 02597)\n",
      "pantanilla v yuson\n",
      "2025 ny slip op 02597\n",
      "decided on april 30, 2025\n",
      "appellate division, second department\n",
      "published by new york state law reporting bureau pursuant to judiciary law § 431.\n",
      "this opinion is uncorrected and subject to revision before publication in the official reports.\n",
      "decided on april 30, 2025\n",
      "supreme court of the state of new york\n",
      "appellate division, second judicial department\n",
      "mark c. dillon, j.p.\n",
      "robert j. miller\n",
      "helen voutsinas\n",
      "lourdes m. ventura, jj.\n",
      "2023-04248\n",
      " (index no. 615229/21)\n",
      "[*1]maria airene pantanilla, respondent, \n",
      "vguillerma yuson, appellant.\n",
      "david de andrade, new york, ny, for appellant.\n",
      "mordente law firm llc, fresh meadows, ny (anthony r. mordente of counsel), for respondent.\n",
      "decision &amp; order\n",
      "in an action, in effect, to recover damages for money had and received and unjust enrichment, the defendant appeals from a judgment of the supreme court, nassau county (dawn jimenez, j.), dated march 17, 2023. the judgment, upon an order of the same court entered march 15, 2023, granting the plaintiff's motion for leave to enter a default judgment, is in favor of the plaintiff and against the defendant in the principal sum of $40,000.\n",
      "ordered that the judgment is affirmed, with costs.\n",
      "on december 2, 2021, the plaintiff commenced this action against the defendant, alleging that the plaintiff and the defendant reached an agreement pursuant to which the plaintiff would purchase the defendant's grocery store and re\n",
      "\n",
      " End Ruling 2 Preview -------------------------------------------------------------\n",
      "\n",
      "\n",
      " Cleaned Ruling 3 Preview ---------------------------------------------------------\n",
      "\n",
      "franklin carroll, llc v carroll dev. plaza, llc (2025 ny slip op 02759)\n",
      "franklin carroll, llc v carroll dev. plaza, llc\n",
      "2025 ny slip op 02759\n",
      "decided on may 7, 2025\n",
      "appellate division, second department\n",
      "published by new york state law reporting bureau pursuant to judiciary law § 431.\n",
      "this opinion is uncorrected and subject to revision before publication in the official reports.\n",
      "decided on may 7, 2025\n",
      "supreme court of the state of new york\n",
      "appellate division, second judicial department\n",
      "angela g. iannacci, j.p.\n",
      "linda christopher\n",
      "barry e. warhit\n",
      "donna-marie e. golia, jj.\n",
      "2024-03137\n",
      " (index no. 502435/24)\n",
      "[*1]franklin carroll, llc, appellant, \n",
      "vcarroll development plaza, llc, respondent.\n",
      "butler, fitzgerald &amp; fiveson, p.c., new york, ny (david k. fiveson of counsel), for appellant.\n",
      "peraino malinowski llp, new york, ny (david m. peraino and matthew c. schwartz of counsel), for respondent.\n",
      "decision &amp; order\n",
      "in an action, inter alia, for injunctive relief and to recover damages for trespass, the plaintiff appeals from an order of the supreme court, kings county (carolyn e. wade, j.), dated february 27, 2024. the order denied the plaintiff's motion for a preliminary injunction and, in effect, granted the defendant's cross-motion for a license, among other things, to access the plaintiff's real property, subject to certain conditions.\n",
      "ordered that the order is affirmed, with costs.\n",
      "the plaintiff and the defendant own adjacent real properties located in brooklyn. in 2019, in furt\n",
      "\n",
      " End Ruling 3 Preview -------------------------------------------------------------\n",
      "\n"
     ]
    }
   ],
   "source": [
    "# Preview cleaned rulings\n",
    "for i, doc in enumerate(cleaned_documents[:3]):\n",
    "    print(f\"\\n Cleaned Ruling {i+1} Preview ---------------------------------------------------------\\n\")\n",
    "    print(doc[:1500])\n",
    "    print(f\"\\n End Ruling {i+1} Preview -------------------------------------------------------------\\n\")"
   ]
  },
  {
   "cell_type": "markdown",
   "id": "5eb17663-a0d3-4b38-950a-56fc666f9d8d",
   "metadata": {
    "tags": []
   },
   "source": [
    "### Optional: Normalize for Token-Level Tasks\n",
    "Use this version for modeling tasks that require uniform text format."
   ]
  },
  {
   "cell_type": "code",
   "execution_count": 16,
   "id": "777f86dc-0825-4c25-b902-b092e0a9b98f",
   "metadata": {
    "tags": []
   },
   "outputs": [],
   "source": [
    "def normalize_text(text, remove_punctuation=True, remove_stopwords=True):\n",
    "    \"\"\"Optionally remove punctuation and stopwords\"\"\"\n",
    "    text = re.sub(r\"\\s+\", \" \", text).strip()\n",
    "    return text"
   ]
  },
  {
   "cell_type": "markdown",
   "id": "5e7db5b2-526e-425c-92de-6b0b52a67cc4",
   "metadata": {
    "tags": []
   },
   "source": [
    "## 3. Save Cleaned Rulings \n",
    "\n",
    "Now that the rulings are cleaned and verified for content,  \n",
    "we save them to `data/clean/` for reuse without repeating the cleaning step.\n"
   ]
  },
  {
   "cell_type": "code",
   "execution_count": 17,
   "id": "9cfd4f31-c962-487b-aa9d-4f5b13183973",
   "metadata": {
    "tags": []
   },
   "outputs": [
    {
     "name": "stdout",
     "output_type": "stream",
     "text": [
      "Saved 74 cleaned rulings to data/clean\n"
     ]
    }
   ],
   "source": [
    "import os\n",
    "\n",
    "# Create clean output directory if it doesn't exist\n",
    "clean_dir = os.path.join(\"data\", \"clean\")\n",
    "os.makedirs(clean_dir, exist_ok=True)\n",
    "\n",
    "# Save cleaned rulings\n",
    "for i, text in enumerate(cleaned_documents):\n",
    "    filename = f\"clean_opinion_{i}.txt\"\n",
    "    with open(os.path.join(clean_dir, filename), \"w\", encoding=\"utf-8\") as f:\n",
    "        f.write(text)\n",
    "\n",
    "print(f\"Saved {len(cleaned_documents)} cleaned rulings to {clean_dir}\")"
   ]
  }
 ],
 "metadata": {
  "kernelspec": {
   "display_name": "Python 3 (ipykernel)",
   "language": "python",
   "name": "python3"
  },
  "language_info": {
   "codemirror_mode": {
    "name": "ipython",
    "version": 3
   },
   "file_extension": ".py",
   "mimetype": "text/x-python",
   "name": "python",
   "nbconvert_exporter": "python",
   "pygments_lexer": "ipython3",
   "version": "3.11.3"
  }
 },
 "nbformat": 4,
 "nbformat_minor": 5
}
